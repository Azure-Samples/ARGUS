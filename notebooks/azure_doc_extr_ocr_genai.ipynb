{
 "cells": [
  {
   "cell_type": "code",
   "execution_count": 1,
   "metadata": {},
   "outputs": [],
   "source": [
    "import os\n",
    "import json\n",
    "import random\n",
    "from datetime import datetime\n",
    "import tempfile\n",
    "import base64\n",
    "from pathlib import Path\n",
    "from dotenv import load_dotenv\n",
    "\n",
    "from cosmosdb_utils import CosmosDBManager\n",
    "from request_log import RequestLog\n",
    "\n",
    "from ai_ocr.chains import get_structured_data, get_final_reasoning_from_markdown\n",
    "from ai_ocr.process import process_pdf"
   ]
  },
  {
   "cell_type": "markdown",
   "metadata": {},
   "source": [
    "## Static output schema - demo\n",
    "### Load up demo assets and call the Doc Intell and subsequentially GPT-4T"
   ]
  },
  {
   "cell_type": "code",
   "execution_count": 8,
   "metadata": {},
   "outputs": [
    {
     "name": "stdout",
     "output_type": "stream",
     "text": [
      "/home/aga/azureai/azure-doc-extraction-gbb-ai/backend/temp/imgs/page_1_img_1.jpeg\n",
      "/home/aga/azureai/azure-doc-extraction-gbb-ai/backend/temp/imgs/page_2_img_1.jpeg\n",
      "OCR Response: {\"id\": \"medical_report\", \"categorization\": \"medical_report\", \"title\": \"Medical Report\", \"type\": \"object\", \"properties\": {\"doctor\": {\"type\": \"object\", \"properties\": {\"specialty\": \"Oculistica\", \"name\": \"Dottore di Ricerca Responsabile Chirurgia Oculistica Clinica Rugani\", \"clinic\": \"Clinica Rugani - Siena\", \"phone\": \"335-8118324\", \"fax\": \"0577-270652\"}}, \"patient\": {\"type\": \"object\", \"properties\": {\"name\": \"Gallo Alberto\"}}, \"post_surgery_follow_up\": {\"type\": \"array\", \"items\": [{\"type\": \"object\", \"properties\": {\"period\": \"1 SETTIMANA\", \"date\": \"2002-12-06\", \"ODv\": \"Berre\", \"ODT\": \"\", \"OSv\": \"8/10\", \"OST\": \"\", \"therapy\": \"Fluoton x4\"}}, {\"type\": \"object\", \"properties\": {\"period\": \"1 MESE\", \"date\": \"2003-01-21\", \"ODv\": \"9/10\", \"ODT\": \"17\", \"OSv\": \"10/10\", \"OST\": \"17\", \"therapy\": \"Fluoton 4 volte al d\\u00ec\"}}, {\"type\": \"object\", \"properties\": {\"period\": \"2-3 MESI\", \"date\": \"2003-03-18\", \"ODv\": \"10/10\", \"ODT\": \"18\", \"OSv\": \"10/10\", \"OST\": \"18\", \"therapy\": \"Fluoton x3 volte\"}}, {\"type\": \"object\", \"properties\": {\"period\": \"4-5 MESI\", \"date\": \"2003-05-20\", \"ODv\": \"10/10\", \"ODT\": \"15\", \"OSv\": \"10/10\", \"OST\": \"15\", \"therapy\": \"Niente Terapia\"}}, {\"type\": \"object\", \"properties\": {\"period\": \"OLTRE 6 MESI\", \"date\": \"2004-11-20\", \"ODv\": \"10/10\", \"ODT\": \"13\", \"OSv\": \"10/10\", \"OST\": \"16\", \"therapy\": \"OOF UM regol\"}}]}, \"pre_surgery_evaluation\": {\"type\": \"object\", \"properties\": {\"anamnesis_data\": \"stabilit\\u00e0 refrattiva dal 1997\", \"night_glare\": \"+ con occhiali\", \"contact_lens_tolerance\": \"Buona\", \"medications\": \"\", \"ocular_dryness\": \"Secchezza oculare\", \"collagen_disorders\": \"Mal. del collagene\", \"diabetes\": \"Diabete\", \"autorefractometry\": {\"type\": \"object\", \"properties\": {\"OD\": \"-6,7-1,7\\u20ac 180\", \"OS\": \"-7,7- 1,5 a 175\"}}, \"visual_acuity\": {\"type\": \"object\", \"properties\": {\"OD\": \"-7-2,25 \\u20ac 180\", \"OS\": \"-7,25 -2 a 175\"}}, \"corneal_map\": \"\", \"schirmer_tear_test\": \"\", \"pupilometry\": \"8\", \"pachymetry\": {\"type\": \"object\", \"properties\": {\"OD\": \"555\", \"OS\": \"553\"}}, \"cornea\": \"Regol\", \"crystalline_lens\": \"N\", \"fundus\": \"2\", \"tonometry\": \"16\", \"eyelid_conjunctiva_anomalies\": \"\"}}}}\n"
     ]
    }
   ],
   "source": [
    "system_prompt =  ''\n",
    "with open('../demo/medical/system_prompt', 'r') as file_sys_prompt:\n",
    "    system_prompt = file_sys_prompt.read()\n",
    "\n",
    "output_schema = ''\n",
    "with open('../demo/medical/surgery_output_schema.json', 'r') as file_output_schema:\n",
    "    output_schema = file_output_schema.read()\n",
    "\n",
    "input_path = '../demo/medical/eyes_surgery_pre_1_4.pdf'\n",
    "\n",
    "ocr_response = process_pdf(file_to_ocr=input_path,\n",
    "                        prompt=system_prompt,\n",
    "                        json_schema=output_schema)\n",
    "print(f'OCR Response: {ocr_response}')\n",
    "            \n",
    "#nl_reponse = get_final_reasoning_from_markdown(ocr_response)\n",
    "#print(f\"NL Response: {nl_reponse}\")"
   ]
  },
  {
   "cell_type": "markdown",
   "metadata": {},
   "source": [
    "## Dynamic output schema - demo"
   ]
  },
  {
   "cell_type": "markdown",
   "metadata": {},
   "source": [
    "### Step by step approach\n",
    "1. extract OCR with Doc Intell  \n",
    "2. Use GPT-4T to determine the category of the document  \n",
    "3. Load the corresponding json_schema_output from db where categoryId = category determined  \n",
    "4. Use GPT-4T to apply the schema to the markdown results of the OCR  \n",
    "5. (optional) Use GPT-4T to provde a natural language summary of the results  "
   ]
  },
  {
   "cell_type": "markdown",
   "metadata": {},
   "source": [
    "### 1. & 2. Extract + Classification"
   ]
  },
  {
   "cell_type": "code",
   "execution_count": 3,
   "metadata": {},
   "outputs": [
    {
     "name": "stdout",
     "output_type": "stream",
     "text": [
      "medical_report\n"
     ]
    }
   ],
   "source": [
    "from ai_ocr.azure.doc_intelligence import get_ocr_results\n",
    "from ai_ocr.chains import classify_doc_with_llm\n",
    "\n",
    "input_path = '../demo/medical/eyes_surgery_pre_1_4.pdf'\n",
    "\n",
    "#1. extract OCR with doc intell\n",
    "ocr_result = get_ocr_results(input_path)\n",
    "#print(ocr_result.content)\n",
    "\n",
    "#2. classify with LLM\n",
    "classification_sytem_prompt = ''\n",
    "with open('../demo/medical/classification_system_prompt', 'r') as class_sys_prompt:\n",
    "    classification_sytem_prompt = class_sys_prompt.read()\n",
    "\n",
    "category = classify_doc_with_llm(ocr_result.content, classification_sytem_prompt)\n",
    "print(category.content)"
   ]
  },
  {
   "cell_type": "markdown",
   "metadata": {},
   "source": [
    "### 3. Load output schema for the right category from CosmosDB"
   ]
  },
  {
   "cell_type": "code",
   "execution_count": 10,
   "metadata": {},
   "outputs": [
    {
     "name": "stdout",
     "output_type": "stream",
     "text": [
      "Medical Report\n"
     ]
    }
   ],
   "source": [
    "from cosmosdb_utils import CosmosDBManager\n",
    "\n",
    "db = CosmosDBManager()\n",
    "output_schema = db.read_schema(category.content)\n",
    "\n",
    "if output_schema == 'None':\n",
    "    print(f'Schema not found for category: {category.content}')\n",
    "else:\n",
    "    print(output_schema['title'])"
   ]
  },
  {
   "cell_type": "markdown",
   "metadata": {},
   "source": [
    "### 4. Use GPT-4T to apply the schema on the OCR results"
   ]
  },
  {
   "cell_type": "code",
   "execution_count": 11,
   "metadata": {},
   "outputs": [
    {
     "name": "stdout",
     "output_type": "stream",
     "text": [
      "/home/aga/azureai/azure-doc-extraction-gbb-ai/backend/temp/imgs/page_1_img_1.jpeg\n",
      "/home/aga/azureai/azure-doc-extraction-gbb-ai/backend/temp/imgs/page_2_img_1.jpeg\n",
      "OCR Response: {\"id\": \"medical_report\", \"categorization\": \"\", \"title\": \"Medical Report\", \"type\": \"object\", \"properties\": {\"doctor\": {\"type\": \"object\", \"properties\": {\"specialty\": \"Oculistica\", \"name\": \"Dottore di Ricerca Responsabile Chirurgia Oculistica Clinica Rugani\", \"clinic\": \"Clinica Rugani - Siena\", \"phone\": \"335-8118324\", \"fax\": \"0577-270652\"}}, \"patient\": {\"type\": \"object\", \"properties\": {\"name\": \"Gallo Alberto\"}}, \"post_surgery_follow_up\": [{\"period\": \"1 SETTIMANA\", \"date\": \"2002-12-06\", \"ODv\": \"Berre\", \"ODT\": \"\", \"OSv\": \"8/10\", \"OST\": \"\", \"therapy\": \"Fluoton x4\"}, {\"period\": \"1 MESE\", \"date\": \"2003-01-21\", \"ODv\": \"9/10\", \"ODT\": \"17\", \"OSv\": \"10/10\", \"OST\": \"17\", \"therapy\": \"Fluoton\"}, {\"period\": \"2-3 MESI\", \"date\": \"2003-03-18\", \"ODv\": \"10/10\", \"ODT\": \"18\", \"OSv\": \"10/10\", \"OST\": \"18\", \"therapy\": \"Fluoton x3 volte\"}, {\"period\": \"4-5 MESI\", \"date\": \"2003-05-20\", \"ODv\": \"10/10\", \"ODT\": \"15\", \"OSv\": \"10/10\", \"OST\": \"15\", \"therapy\": \"Niente Terapia\"}, {\"period\": \"OLTRE 6 MESI\", \"date\": \"2004-11-20\", \"ODv\": \"10/10\", \"ODT\": \"13\", \"OSv\": \"10/10\", \"OST\": \"16\", \"therapy\": \"OOF UM regol\"}], \"pre_surgery_evaluation\": {\"type\": \"object\", \"properties\": {\"anamnesis_data\": \"stabilit\\u00e0 refrattiva dal 1997\", \"night_glare\": \"+ con occhiali\", \"contact_lens_tolerance\": \"Buona\", \"medications\": \"\", \"ocular_dryness\": \"Secchezza oculare\", \"collagen_disorders\": \"Mal. del collagene\", \"diabetes\": \"Diabete\", \"autorefractometry\": {\"OD\": \"-6,7-1,7\\u20ac 180\", \"OS\": \"-7,7- 1,5 a 175\"}, \"visual_acuity\": {\"OD\": \"-7-2,25 \\u20ac 180\", \"OS\": \"-7,25 -2 a 175\"}, \"corneal_map\": \"\", \"schirmer_tear_test\": \"\", \"pupilometry\": \"8\", \"pachymetry\": {\"OD\": \"555\", \"OS\": \"553\"}, \"cornea\": \"Regol\", \"crystalline_lens\": \"N\", \"fundus\": \"2\", \"tonometry\": \"16\", \"eyelid_conjunctiva_anomalies\": \"\"}}}, \"_rid\": \"HOEEAP6XKAcDAAAAAAAAAA==\", \"_self\": \"dbs/HOEEAA==/colls/HOEEAP6XKAc=/docs/HOEEAP6XKAcDAAAAAAAAAA==/\", \"_etag\": \"\\\"02006271-0000-4700-0000-664c67100000\\\"\", \"_attachments\": \"attachments/\", \"_ts\": 1716283152}\n"
     ]
    }
   ],
   "source": [
    "system_prompt =  ''\n",
    "with open('../demo/medical/system_prompt', 'r') as file_sys_prompt:\n",
    "    system_prompt = file_sys_prompt.read()\n",
    "\n",
    "\n",
    "ocr_response = process_pdf(file_to_ocr=input_path,\n",
    "                        prompt=system_prompt,\n",
    "                        json_schema=json.dumps(output_schema))\n",
    "\n",
    "print(f'OCR Response: {ocr_response}')\n",
    "            \n"
   ]
  },
  {
   "cell_type": "code",
   "execution_count": 12,
   "metadata": {},
   "outputs": [],
   "source": [
    "with open('output.json', 'w') as f:\n",
    "    f.write(ocr_response)"
   ]
  }
 ],
 "metadata": {
  "kernelspec": {
   "display_name": "Python 3",
   "language": "python",
   "name": "python3"
  },
  "language_info": {
   "codemirror_mode": {
    "name": "ipython",
    "version": 3
   },
   "file_extension": ".py",
   "mimetype": "text/x-python",
   "name": "python",
   "nbconvert_exporter": "python",
   "pygments_lexer": "ipython3",
   "version": "3.10.12"
  }
 },
 "nbformat": 4,
 "nbformat_minor": 2
}
