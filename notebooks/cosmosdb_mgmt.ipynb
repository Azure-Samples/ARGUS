{
 "cells": [
  {
   "cell_type": "code",
   "execution_count": 1,
   "metadata": {},
   "outputs": [],
   "source": [
    "import os\n",
    "import json\n",
    "import random\n",
    "from datetime import datetime\n",
    "import tempfile\n",
    "import base64\n",
    "from pathlib import Path\n",
    "from dotenv import load_dotenv\n",
    "import pandas as pd\n",
    "\n",
    "from cosmosdb_utils import CosmosDBManager\n",
    "from request_log import RequestLog\n",
    "\n",
    "from langchain_core.messages import HumanMessage\n",
    "from langchain_core.prompts import ChatPromptTemplate\n",
    "from langchain_core.messages import SystemMessage\n",
    "from langchain_core.prompts import HumanMessagePromptTemplate\n",
    "\n",
    "from ai_ocr.azure.openai_ops import get_llm\n",
    "from ai_ocr.azure.doc_intelligence import get_ocr_results\n"
   ]
  },
  {
   "cell_type": "markdown",
   "metadata": {},
   "source": [
    "### Let GPT4T create a new schema for you based on an input document"
   ]
  },
  {
   "cell_type": "code",
   "execution_count": 4,
   "metadata": {},
   "outputs": [
    {
     "name": "stdout",
     "output_type": "stream",
     "text": [
      "{\n",
      "  \"id\": \"invoice\",\n",
      "  \"categorization\": \"string\",\n",
      "  \"title\": \"string\",\n",
      "  \"type\": \"object\",\n",
      "  \"properties\": {\n",
      "    \"invoiceNumber\": {\n",
      "      \"type\": \"integer\"\n",
      "    },\n",
      "    \"date\": {\n",
      "      \"type\": \"string\"\n",
      "    },\n",
      "    \"billTo\": {\n",
      "      \"type\": \"object\",\n",
      "      \"properties\": {\n",
      "        \"customerName\": {\n",
      "          \"type\": \"string\"\n",
      "        },\n",
      "        \"customerId\": {\n",
      "          \"type\": \"integer\"\n",
      "        },\n",
      "        \"address\": {\n",
      "          \"type\": \"string\"\n",
      "        },\n",
      "        \"phone\": {\n",
      "          \"type\": \"string\"\n",
      "        }\n",
      "      }\n",
      "    },\n",
      "    \"shipTo\": {\n",
      "      \"type\": \"object\",\n",
      "      \"properties\": {\n",
      "        \"recipientName\": {\n",
      "          \"type\": \"string\"\n",
      "        },\n",
      "        \"address\": {\n",
      "          \"type\": \"string\"\n",
      "        },\n",
      "        \"phone\": {\n",
      "          \"type\": \"string\"\n",
      "        }\n",
      "      }\n",
      "    },\n",
      "    \"paymentDue\": {\n",
      "      \"type\": \"string\"\n",
      "    },\n",
      "    \"deliveryDate\": {\n",
      "      \"type\": \"string\"\n",
      "    },\n",
      "    \"salesperson\": {\n",
      "      \"type\": \"string\"\n",
      "    },\n",
      "    \"paymentTerms\": {\n",
      "      \"type\": \"string\"\n",
      "    },\n",
      "    \"shippingMethod\": {\n",
      "      \"type\": \"string\"\n",
      "    },\n",
      "    \"shippingTerms\": {\n",
      "      \"type\": \"string\"\n",
      "    },\n",
      "    \"items\": {\n",
      "      \"type\": \"array\",\n",
      "      \"items\": {\n",
      "        \"type\": \"object\",\n",
      "        \"properties\": {\n",
      "          \"quantity\": {\n",
      "            \"type\": \"integer\"\n",
      "          },\n",
      "          \"itemNumber\": {\n",
      "            \"type\": \"integer\"\n",
      "          },\n",
      "          \"description\": {\n",
      "            \"type\": \"string\"\n",
      "          },\n",
      "          \"unitPrice\": {\n",
      "            \"type\": \"number\"\n",
      "          },\n",
      "          \"discount\": {\n",
      "            \"type\": \"string\"\n",
      "          },\n",
      "          \"lineTotal\": {\n",
      "            \"type\": \"number\"\n",
      "          }\n",
      "        }\n",
      "      }\n",
      "    },\n",
      "    \"totalDiscount\": {\n",
      "      \"type\": \"number\"\n",
      "    },\n",
      "    \"subtotal\": {\n",
      "      \"type\": \"number\"\n",
      "    },\n",
      "    \"salesTax\": {\n",
      "      \"type\": \"number\"\n",
      "    },\n",
      "    \"total\": {\n",
      "      \"type\": \"number\"\n",
      "    },\n",
      "    \"companyInfo\": {\n",
      "      \"type\": \"object\",\n",
      "      \"properties\": {\n",
      "        \"name\": {\n",
      "          \"type\": \"string\"\n",
      "        },\n",
      "        \"address\": {\n",
      "          \"type\": \"string\"\n",
      "        },\n",
      "        \"website\": {\n",
      "          \"type\": \"string\"\n",
      "        },\n",
      "        \"phone\": {\n",
      "          \"type\": \"string\"\n",
      "        },\n",
      "        \"fax\": {\n",
      "          \"type\": \"string\"\n",
      "        },\n",
      "        \"email\": {\n",
      "          \"type\": \"string\"\n",
      "        }\n",
      "      }\n",
      "    }\n",
      "  }\n",
      "}\n"
     ]
    }
   ],
   "source": [
    "input_path = '../demo/claims/Invoice Sample.pdf'\n",
    "category_id = 'invoice'\n",
    "\n",
    "ocr_result = get_ocr_results(input_path)\n",
    "\n",
    "messages = [\n",
    "        (\"system\",\n",
    "         \"\"\"\n",
    "         From the input I provide you. Determine a JSON schema that fits all the data. \n",
    "         Be sure to include these following fields to start with:\n",
    "         \"id\" : \"\"\"+category_id+\"\"\",\n",
    "         \"categorization\" : \"string\",\n",
    "         \"title\": \"string\",\n",
    "         \"type\": \"object\",\n",
    "         \"properties\" :\n",
    "         then you continue creating the scehma with all the other data fields you see in the input under the \"properties\" object as root.\n",
    "         No need to put the \"required\" array properties for each object.\n",
    "         Don't fit the data of the input in the schema, just provde the schema definition with the fields and the types.\n",
    "         Your response should only contain the schema definition starting and ending with curly brackets.\n",
    "            \n",
    "         \"\"\"\n",
    "         ),\n",
    "        (\"human\", \"{input}\")\n",
    "]\n",
    "\n",
    "prompt = ChatPromptTemplate.from_messages(messages)\n",
    "#print(prompt)\n",
    "\n",
    "model = get_llm()\n",
    "chain = prompt | model\n",
    "response = chain.invoke({\"input\": ocr_result.content, \"category_id\": category_id})\n",
    "\n",
    "print(response.content)"
   ]
  },
  {
   "cell_type": "markdown",
   "metadata": {},
   "source": [
    "#### CosmosDB - save a new schema for a specific category (key)"
   ]
  },
  {
   "cell_type": "code",
   "execution_count": 5,
   "metadata": {},
   "outputs": [
    {
     "data": {
      "text/plain": [
       "'{\\n  \"id\": \"invoice\",\\n  \"categorization\": \"string\",\\n  \"title\": \"string\",\\n  \"type\": \"object\",\\n  \"properties\": {\\n    \"invoiceNumber\": {\\n      \"type\": \"integer\"\\n    },\\n    \"date\": {\\n      \"type\": \"string\"\\n    },\\n    \"billTo\": {\\n      \"type\": \"object\",\\n      \"properties\": {\\n        \"customerName\": {\\n          \"type\": \"string\"\\n        },\\n        \"customerId\": {\\n          \"type\": \"integer\"\\n        },\\n        \"address\": {\\n          \"type\": \"string\"\\n        },\\n        \"phone\": {\\n          \"type\": \"string\"\\n        }\\n      }\\n    },\\n    \"shipTo\": {\\n      \"type\": \"object\",\\n      \"properties\": {\\n        \"recipientName\": {\\n          \"type\": \"string\"\\n        },\\n        \"address\": {\\n          \"type\": \"string\"\\n        },\\n        \"phone\": {\\n          \"type\": \"string\"\\n        }\\n      }\\n    },\\n    \"paymentDue\": {\\n      \"type\": \"string\"\\n    },\\n    \"deliveryDate\": {\\n      \"type\": \"string\"\\n    },\\n    \"salesperson\": {\\n      \"type\": \"string\"\\n    },\\n    \"paymentTerms\": {\\n      \"type\": \"string\"\\n    },\\n    \"shippingMethod\": {\\n      \"type\": \"string\"\\n    },\\n    \"shippingTerms\": {\\n      \"type\": \"string\"\\n    },\\n    \"items\": {\\n      \"type\": \"array\",\\n      \"items\": {\\n        \"type\": \"object\",\\n        \"properties\": {\\n          \"quantity\": {\\n            \"type\": \"integer\"\\n          },\\n          \"itemNumber\": {\\n            \"type\": \"integer\"\\n          },\\n          \"description\": {\\n            \"type\": \"string\"\\n          },\\n          \"unitPrice\": {\\n            \"type\": \"number\"\\n          },\\n          \"discount\": {\\n            \"type\": \"string\"\\n          },\\n          \"lineTotal\": {\\n            \"type\": \"number\"\\n          }\\n        }\\n      }\\n    },\\n    \"totalDiscount\": {\\n      \"type\": \"number\"\\n    },\\n    \"subtotal\": {\\n      \"type\": \"number\"\\n    },\\n    \"salesTax\": {\\n      \"type\": \"number\"\\n    },\\n    \"total\": {\\n      \"type\": \"number\"\\n    },\\n    \"companyInfo\": {\\n      \"type\": \"object\",\\n      \"properties\": {\\n        \"name\": {\\n          \"type\": \"string\"\\n        },\\n        \"address\": {\\n          \"type\": \"string\"\\n        },\\n        \"website\": {\\n          \"type\": \"string\"\\n        },\\n        \"phone\": {\\n          \"type\": \"string\"\\n        },\\n        \"fax\": {\\n          \"type\": \"string\"\\n        },\\n        \"email\": {\\n          \"type\": \"string\"\\n        }\\n      }\\n    }\\n  }\\n}'"
      ]
     },
     "execution_count": 5,
     "metadata": {},
     "output_type": "execute_result"
    }
   ],
   "source": [
    "response.content\n"
   ]
  },
  {
   "cell_type": "code",
   "execution_count": 6,
   "metadata": {},
   "outputs": [],
   "source": [
    "\n",
    "db = CosmosDBManager()\n",
    "db.create_schema(category_id, json.loads(response.content))\n"
   ]
  },
  {
   "cell_type": "markdown",
   "metadata": {},
   "source": [
    "#### CosmosDB - list all schema"
   ]
  },
  {
   "cell_type": "code",
   "execution_count": 7,
   "metadata": {},
   "outputs": [
    {
     "data": {
      "text/html": [
       "<div>\n",
       "<style scoped>\n",
       "    .dataframe tbody tr th:only-of-type {\n",
       "        vertical-align: middle;\n",
       "    }\n",
       "\n",
       "    .dataframe tbody tr th {\n",
       "        vertical-align: top;\n",
       "    }\n",
       "\n",
       "    .dataframe thead th {\n",
       "        text-align: right;\n",
       "    }\n",
       "</style>\n",
       "<table border=\"1\" class=\"dataframe\">\n",
       "  <thead>\n",
       "    <tr style=\"text-align: right;\">\n",
       "      <th></th>\n",
       "      <th>id</th>\n",
       "      <th>categorization</th>\n",
       "      <th>title</th>\n",
       "      <th>type</th>\n",
       "      <th>properties</th>\n",
       "      <th>_rid</th>\n",
       "      <th>_self</th>\n",
       "      <th>_etag</th>\n",
       "      <th>_attachments</th>\n",
       "      <th>_ts</th>\n",
       "    </tr>\n",
       "  </thead>\n",
       "  <tbody>\n",
       "    <tr>\n",
       "      <th>0</th>\n",
       "      <td>invoice</td>\n",
       "      <td>string</td>\n",
       "      <td>string</td>\n",
       "      <td>object</td>\n",
       "      <td>{'invoiceNumber': {'type': 'integer'}, 'date':...</td>\n",
       "      <td>HOEEAJKheGIBAAAAAAAAAA==</td>\n",
       "      <td>dbs/HOEEAA==/colls/HOEEAJKheGI=/docs/HOEEAJKhe...</td>\n",
       "      <td>\"080085a4-0000-4700-0000-664db8850000\"</td>\n",
       "      <td>attachments/</td>\n",
       "      <td>1716369541</td>\n",
       "    </tr>\n",
       "  </tbody>\n",
       "</table>\n",
       "</div>"
      ],
      "text/plain": [
       "        id categorization   title    type  \\\n",
       "0  invoice         string  string  object   \n",
       "\n",
       "                                          properties  \\\n",
       "0  {'invoiceNumber': {'type': 'integer'}, 'date':...   \n",
       "\n",
       "                       _rid  \\\n",
       "0  HOEEAJKheGIBAAAAAAAAAA==   \n",
       "\n",
       "                                               _self  \\\n",
       "0  dbs/HOEEAA==/colls/HOEEAJKheGI=/docs/HOEEAJKhe...   \n",
       "\n",
       "                                    _etag  _attachments         _ts  \n",
       "0  \"080085a4-0000-4700-0000-664db8850000\"  attachments/  1716369541  "
      ]
     },
     "execution_count": 7,
     "metadata": {},
     "output_type": "execute_result"
    }
   ],
   "source": [
    "db = CosmosDBManager()\n",
    "\n",
    "schemas = db.list_all_schema()\n",
    "df = pd.DataFrame.from_dict(schemas)\n",
    "df"
   ]
  },
  {
   "cell_type": "markdown",
   "metadata": {},
   "source": [
    "#### CosmosDB - delete all schemas (clean container)"
   ]
  },
  {
   "cell_type": "code",
   "execution_count": 2,
   "metadata": {},
   "outputs": [],
   "source": [
    "db = CosmosDBManager()\n",
    "db.delete_all_schema()"
   ]
  },
  {
   "cell_type": "markdown",
   "metadata": {},
   "source": [
    "#### CosmosDB - List all request processed (with max)"
   ]
  },
  {
   "cell_type": "code",
   "execution_count": null,
   "metadata": {},
   "outputs": [],
   "source": [
    "\n",
    "db = CosmosDBManager()\n",
    "history = db.list_all_requests(10)\n",
    "df = pd.DataFrame.from_dict(history)\n",
    "df"
   ]
  }
 ],
 "metadata": {
  "kernelspec": {
   "display_name": "Python 3",
   "language": "python",
   "name": "python3"
  },
  "language_info": {
   "codemirror_mode": {
    "name": "ipython",
    "version": 3
   },
   "file_extension": ".py",
   "mimetype": "text/x-python",
   "name": "python",
   "nbconvert_exporter": "python",
   "pygments_lexer": "ipython3",
   "version": "3.10.12"
  }
 },
 "nbformat": 4,
 "nbformat_minor": 2
}
