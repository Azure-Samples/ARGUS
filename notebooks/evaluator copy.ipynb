{
 "cells": [
  {
   "cell_type": "code",
   "execution_count": 1,
   "metadata": {},
   "outputs": [
    {
     "data": {
      "text/plain": [
       "True"
      ]
     },
     "execution_count": 1,
     "metadata": {},
     "output_type": "execute_result"
    }
   ],
   "source": [
    "import os\n",
    "import json\n",
    "import random\n",
    "from datetime import datetime\n",
    "import tempfile\n",
    "import base64\n",
    "from pathlib import Path\n",
    "\n",
    "import glob\n",
    "import json\n",
    "\n",
    "import sys\n",
    "\n",
    "module_path = os.path.abspath(os.path.join('..'))\n",
    "if module_path not in sys.path:\n",
    "    sys.path.append(module_path+\"/src/functionapp\")\n",
    "#On windows use  sys.path.append(module_path+\"\\\\src\\\\functionapp\")\n",
    "\n",
    "from ai_ocr.azure.openai_ops import load_image, get_size_of_base64_images\n",
    "from ai_ocr.azure.images import convert_pdf_into_image\n",
    "from ai_ocr.model import Config\n",
    "from ai_ocr.chains import get_structured_data\n",
    "from ai_ocr.azure.doc_intelligence import get_ocr_results\n",
    "\n",
    "from langchain_core.output_parsers.json import parse_json_markdown\n",
    "\n",
    "from dotenv import load_dotenv\n",
    "load_dotenv()"
   ]
  },
  {
   "cell_type": "markdown",
   "metadata": {},
   "source": [
    "### Prepare images"
   ]
  },
  {
   "cell_type": "code",
   "execution_count": 2,
   "metadata": {},
   "outputs": [
    {
     "name": "stdout",
     "output_type": "stream",
     "text": [
      "../demo/default-dataset/\n",
      "[]\n"
     ]
    }
   ],
   "source": [
    "#just testing that images are in the temp folder configured in the env\n",
    "\n",
    "input_path = '../demo/default-dataset/Invoice Sample.pdf'\n",
    "pdf_path = input_path.replace(input_path.split(\"/\")[-1], \"\")\n",
    "print(pdf_path)\n",
    "imgs_path = os.path.join(os.getcwd(), os.getenv(\"TEMP_IMAGES_OUTDIR\", \"\"))\n",
    "imgs = glob.glob(f\"{imgs_path}/page*.jpeg\")\n",
    "print(imgs)"
   ]
  },
  {
   "cell_type": "markdown",
   "metadata": {},
   "source": [
    "### Run the Solution once on the demo to produce an output.json"
   ]
  },
  {
   "cell_type": "code",
   "execution_count": 3,
   "metadata": {},
   "outputs": [
    {
     "name": "stdout",
     "output_type": "stream",
     "text": [
      "Saved image: /tmp/page_1.png\n",
      "Response: {\"Customer Name\": \"Henry Ross\", \"Invoice Number\": \"1234\", \"Date\": \"November 30, 2022\", \"Billing info\": {\"Customer\": \"Henry Ross\", \"Customer ID\": \"8675309\", \"Address\": \"123 Avenue A, Metropolis\", \"Phone\": \"(123) 456-7890\"}, \"Payment Due\": \"December 30, 2022\", \"Salesperson\": \"Luca Richter\", \"Payment Terms\": \"Cash or check\", \"Shipping info\": {\"Recipient\": \"Henry Ross\", \"Address\": \"123 Avenue A, Metropolis\", \"Phone\": \"(123) 456-7890\"}, \"Delivery Date\": \"December 7, 2022\", \"Shipping Method\": \"Ground\", \"Shipping Terms\": \"Returns not accepted\", \"Table\": {\"Items\": [{\"Qty\": \"10\", \"Item#\": \"123\", \"Description\": \"Baby chicks\", \"Unit price\": \"5.00\", \"Discount\": \"10%\", \"Line total\": \"45.00\"}, {\"Qty\": \"2\", \"Item#\": \"444\", \"Description\": \"Heat lamps\", \"Unit price\": \"24.00\", \"Discount\": \"\", \"Line total\": \"48.00\"}, {\"Qty\": \"6\", \"Item#\": \"120\", \"Description\": \"Chicken roosts\", \"Unit price\": \"30.00\", \"Discount\": \"\", \"Line total\": \"180.00\"}], \"Total Discount\": \"5.00\", \"Subtotal\": \"278.00\", \"Sales Tax\": \"13.90\", \"Total\": \"286.90\"}, \"Footer\": {\"Customer Name\": \"Happiest Valley Farms\", \"Address\": \"456 Anyroad, Anywhere\", \"Website\": \"interestingsite.com\", \"Phone number\": \"(123) 987-6543\", \"Fax number\": \"(123) 987-6542\", \"Email\": \"happiest@example.com\"}}\n"
     ]
    }
   ],
   "source": [
    "system_prompt =  ''\n",
    "with open('../demo/default-dataset/system_prompt.txt', 'r') as file_sys_prompt:\n",
    "    system_prompt = file_sys_prompt.read()\n",
    "\n",
    "output_schema = ''\n",
    "with open('../demo/default-dataset/output_schema.json', 'r') as file_output_schema:\n",
    "    output_schema = file_output_schema.read()\n",
    "\n",
    "input_path = '../demo/default-dataset/Invoice Sample.pdf'\n",
    "\n",
    "\n",
    "ocr_start_time = datetime.now()\n",
    "ocr_result = get_ocr_results(input_path)\n",
    "   \n",
    " # Extract images from the PDF\n",
    "convert_pdf_into_image(input_path)\n",
    "    \n",
    " # Ensure the /tmp/ directory exists\n",
    "imgs_path = \"/tmp/\"\n",
    "os.makedirs(imgs_path, exist_ok=True)\n",
    "    \n",
    "# Determine the path for the temporary images\n",
    "imgs = glob.glob(f\"{imgs_path}/page*.jpeg\")\n",
    "    \n",
    "# Limit images by config\n",
    "imgs = imgs[:8]\n",
    "imgs = [load_image(img) for img in imgs]\n",
    "    \n",
    "# Check and reduce images total size if over 20MB\n",
    "max_size = 20 * 1024 * 1024  # 20MB\n",
    "while get_size_of_base64_images(imgs) > max_size:\n",
    "    imgs.pop()\n",
    "    \n",
    "# Get structured data\n",
    "structured = get_structured_data(ocr_result.content, system_prompt, output_schema, imgs)\n",
    "\n",
    "# Delete all generated images created after processing\n",
    "for img_path in glob.glob(f\"{imgs_path}/page*.jpeg\"):\n",
    "    try:\n",
    "        os.remove(img_path)\n",
    "        print(f\"Deleted image: {img_path}\")\n",
    "    except Exception as e:\n",
    "        print(f\"Error deleting image {img_path}: {e}\")\n",
    "    \n",
    "# Parse structured data and return as JSON\n",
    "x = parse_json_markdown(structured.content)  \n",
    "response = json.dumps(x)\n",
    "\n",
    "print(f'Response: {response}')\n",
    "\n",
    "actual_output_path = \"/tmp/output.json\"\n",
    "with open(actual_output_path, 'w') as f:\n",
    "    f.write(response)"
   ]
  },
  {
   "cell_type": "code",
   "execution_count": null,
   "metadata": {},
   "outputs": [],
   "source": []
  },
  {
   "cell_type": "markdown",
   "metadata": {},
   "source": [
    "### Load the input (an output from previous LLM run), ground truth and create a jsonl file\n"
   ]
  },
  {
   "cell_type": "code",
   "execution_count": 7,
   "metadata": {},
   "outputs": [],
   "source": [
    "import json\n",
    "import sys\n",
    "if module_path not in sys.path:\n",
    "    sys.path.append(module_path)\n",
    "\n",
    "import json\n",
    "import time\n",
    "from pprint import pprint\n",
    "from promptflow.evals.evaluate import evaluate\n",
    "from src.evaluators.match_evaluator import load_match_evaluators\n",
    "from src.evaluators.json_evaluator import JsonEvaluator\n",
    "\n",
    "def compile_jsonl(ground_truth_path, actual_output_path, output_file):\n",
    "    # Read the ground truth JSON file\n",
    "    with open(ground_truth_path, 'r') as gt_file:\n",
    "        ground_truth = json.load(gt_file)\n",
    "\n",
    "    # Open the output file\n",
    "    with open(output_file, 'w') as out_file:\n",
    "        # Iterate over each actual output JSON file\n",
    "        with open(actual_output_path, 'r') as af:\n",
    "            actual_data = json.load(af)\n",
    "            # Combine ground truth and actual data into one object\n",
    "            combined_data = {\"ground_truth\": ground_truth, \"actual\": actual_data}\n",
    "            # Write the combined data as a single line in the jsonl file\n",
    "            out_file.write(json.dumps(combined_data) + '\\n')\n",
    "\n",
    "\n",
    "ground_truth_path = f\"{module_path}/demo/default-dataset/ground_truth.json\"\n",
    "eval_data_path = f\"{module_path}/demo/default-dataset/eval_data.jsonl\"\n",
    "\n",
    "compile_jsonl(ground_truth_path, actual_output_path, eval_data_path)\n",
    "\n"
   ]
  },
  {
   "cell_type": "markdown",
   "metadata": {},
   "source": [
    "Evaluate using ground truth"
   ]
  },
  {
   "cell_type": "code",
   "execution_count": 8,
   "metadata": {},
   "outputs": [
    {
     "name": "stderr",
     "output_type": "stream",
     "text": [
      "[2024-07-26 10:26:16 -0700][promptflow._core.entry_meta_generator][WARNING] - Generate meta in current process and timeout won't take effect. Please handle timeout manually outside current process.\n",
      "[2024-07-26 10:26:16 -0700][promptflow._core.entry_meta_generator][WARNING] - Generate meta in current process and timeout won't take effect. Please handle timeout manually outside current process.\n",
      "[2024-07-26 10:26:16 -0700][promptflow._core.entry_meta_generator][WARNING] - Generate meta in current process and timeout won't take effect. Please handle timeout manually outside current process.\n",
      "[2024-07-26 10:26:16 -0700][promptflow._core.entry_meta_generator][WARNING] - Generate meta in current process and timeout won't take effect. Please handle timeout manually outside current process.\n",
      "[2024-07-26 10:26:16 -0700][promptflow._sdk._orchestrator.run_submitter][INFO] - Submitting run src_evaluators_match_evaluator_matchevaluator_hy41qe7m_20240726_102616_424126, log path: /Users/anastasialinzbach/.promptflow/.runs/src_evaluators_match_evaluator_matchevaluator_hy41qe7m_20240726_102616_424126/logs.txt\n",
      "[2024-07-26 10:26:16 -0700][promptflow._sdk._orchestrator.run_submitter][INFO] - Submitting run src_evaluators_match_evaluator_matchevaluator_083h0b05_20240726_102616_423134, log path: /Users/anastasialinzbach/.promptflow/.runs/src_evaluators_match_evaluator_matchevaluator_083h0b05_20240726_102616_423134/logs.txt\n",
      "[2024-07-26 10:26:16 -0700][promptflow._sdk._orchestrator.run_submitter][INFO] - Submitting run src_evaluators_match_evaluator_matchevaluator_ftcogdov_20240726_102616_422963, log path: /Users/anastasialinzbach/.promptflow/.runs/src_evaluators_match_evaluator_matchevaluator_ftcogdov_20240726_102616_422963/logs.txt\n",
      "[2024-07-26 10:26:16 -0700][promptflow._sdk._orchestrator.run_submitter][INFO] - Submitting run src_evaluators_match_evaluator_matchevaluator_b4ab5weo_20240726_102616_427495, log path: /Users/anastasialinzbach/.promptflow/.runs/src_evaluators_match_evaluator_matchevaluator_b4ab5weo_20240726_102616_427495/logs.txt\n",
      "[2024-07-26 10:26:16 -0700][promptflow._core.entry_meta_generator][WARNING] - Generate meta in current process and timeout won't take effect. Please handle timeout manually outside current process.\n",
      "[2024-07-26 10:26:16 -0700][promptflow._core.entry_meta_generator][WARNING] - Generate meta in current process and timeout won't take effect. Please handle timeout manually outside current process.\n",
      "[2024-07-26 10:26:16 -0700][promptflow._core.entry_meta_generator][WARNING] - Generate meta in current process and timeout won't take effect. Please handle timeout manually outside current process.\n",
      "[2024-07-26 10:26:16 -0700][promptflow._core.entry_meta_generator][WARNING] - Generate meta in current process and timeout won't take effect. Please handle timeout manually outside current process.\n",
      "[2024-07-26 10:26:16 -0700][promptflow._sdk._orchestrator.run_submitter][INFO] - Submitting run src_evaluators_match_evaluator_matchevaluator_oi4aupfz_20240726_102616_432981, log path: /Users/anastasialinzbach/.promptflow/.runs/src_evaluators_match_evaluator_matchevaluator_oi4aupfz_20240726_102616_432981/logs.txt\n",
      "[2024-07-26 10:26:16 -0700][promptflow._sdk._orchestrator.run_submitter][INFO] - Submitting run src_evaluators_match_evaluator_matchevaluator_8810okv0_20240726_102616_433211, log path: /Users/anastasialinzbach/.promptflow/.runs/src_evaluators_match_evaluator_matchevaluator_8810okv0_20240726_102616_433211/logs.txt\n",
      "[2024-07-26 10:26:16 -0700][promptflow._sdk._orchestrator.run_submitter][INFO] - Submitting run src_evaluators_match_evaluator_matchevaluator_6ietqoz0_20240726_102616_428851, log path: /Users/anastasialinzbach/.promptflow/.runs/src_evaluators_match_evaluator_matchevaluator_6ietqoz0_20240726_102616_428851/logs.txt\n",
      "[2024-07-26 10:26:16 -0700][promptflow._core.entry_meta_generator][WARNING] - Generate meta in current process and timeout won't take effect. Please handle timeout manually outside current process.\n",
      "[2024-07-26 10:26:16 -0700][promptflow._core.entry_meta_generator][WARNING] - Generate meta in current process and timeout won't take effect. Please handle timeout manually outside current process.\n",
      "[2024-07-26 10:26:16 -0700][promptflow._sdk._orchestrator.run_submitter][INFO] - Submitting run src_evaluators_match_evaluator_matchevaluator_16zlkqdl_20240726_102616_438777, log path: /Users/anastasialinzbach/.promptflow/.runs/src_evaluators_match_evaluator_matchevaluator_16zlkqdl_20240726_102616_438777/logs.txt\n",
      "[2024-07-26 10:26:16 -0700][promptflow._core.entry_meta_generator][WARNING] - Generate meta in current process and timeout won't take effect. Please handle timeout manually outside current process.\n",
      "[2024-07-26 10:26:16 -0700][promptflow._sdk._orchestrator.run_submitter][INFO] - Submitting run src_evaluators_match_evaluator_matchevaluator_n3hoaw_w_20240726_102616_431738, log path: /Users/anastasialinzbach/.promptflow/.runs/src_evaluators_match_evaluator_matchevaluator_n3hoaw_w_20240726_102616_431738/logs.txt\n"
     ]
    },
    {
     "name": "stdout",
     "output_type": "stream",
     "text": [
      "Prompt flow service has started...\n",
      "Prompt flow service has started...\n",
      "Prompt flow service has started...\n",
      "You can view the traces in local from http://127.0.0.1:23333/v1.0/ui/traces/?#run=src_evaluators_match_evaluator_matchevaluator_hy41qe7m_20240726_102616_424126\n",
      "You can view the traces in local from http://127.0.0.1:23333/v1.0/ui/traces/?#run=src_evaluators_match_evaluator_matchevaluator_ftcogdov_20240726_102616_422963\n",
      "You can view the traces in local from http://127.0.0.1:23333/v1.0/ui/traces/?#run=src_evaluators_match_evaluator_matchevaluator_083h0b05_20240726_102616_423134\n",
      "Prompt flow service has started...\n",
      "You can view the traces in local from http://127.0.0.1:23333/v1.0/ui/traces/?#run=src_evaluators_match_evaluator_matchevaluator_b4ab5weo_20240726_102616_427495\n",
      "Prompt flow service has started...\n",
      "Prompt flow service has started...\n",
      "You can view the traces in local from http://127.0.0.1:23333/v1.0/ui/traces/?#run=src_evaluators_match_evaluator_matchevaluator_6ietqoz0_20240726_102616_428851\n",
      "Prompt flow service has started...\n",
      "You can view the traces in local from http://127.0.0.1:23333/v1.0/ui/traces/?#run=src_evaluators_match_evaluator_matchevaluator_oi4aupfz_20240726_102616_432981\n",
      "You can view the traces in local from http://127.0.0.1:23333/v1.0/ui/traces/?#run=src_evaluators_match_evaluator_matchevaluator_8810okv0_20240726_102616_433211\n",
      "Prompt flow service has started...\n",
      "Prompt flow service has started...\n",
      "You can view the traces in local from http://127.0.0.1:23333/v1.0/ui/traces/?#run=src_evaluators_match_evaluator_matchevaluator_16zlkqdl_20240726_102616_438777\n",
      "You can view the traces in local from http://127.0.0.1:23333/v1.0/ui/traces/?#run=src_evaluators_match_evaluator_matchevaluator_n3hoaw_w_20240726_102616_431738\n",
      "Prompt flow service has started...\n",
      "You can view the traces in local from http://127.0.0.1:23333/v1.0/ui/traces/?#run=src_evaluators_match_evaluator_matchevaluator_7n77wxse_20240726_102616_437323\n",
      "Prompt flow service has started...\n",
      "You can view the traces in local from http://127.0.0.1:23333/v1.0/ui/traces/?#run=src_evaluators_match_evaluator_matchevaluator_an1qinkx_20240726_102616_437039\n",
      "Prompt flow service has started...\n",
      "You can view the traces in local from http://127.0.0.1:23333/v1.0/ui/traces/?#run=src_evaluators_match_evaluator_matchevaluator_vcp679pg_20240726_102616_438987\n",
      "Prompt flow service has started...\n",
      "Prompt flow service has started...\n",
      "You can view the traces in local from http://127.0.0.1:23333/v1.0/ui/traces/?#run=src_evaluators_match_evaluator_matchevaluator_x6idc9cw_20240726_102616_440909\n",
      "You can view the traces in local from http://127.0.0.1:23333/v1.0/ui/traces/?#run=src_evaluators_match_evaluator_matchevaluator_m4sc4grb_20240726_102616_444113\n"
     ]
    },
    {
     "name": "stderr",
     "output_type": "stream",
     "text": [
      "[2024-07-26 10:26:16 -0700][promptflow._sdk._orchestrator.run_submitter][INFO] - Submitting run src_evaluators_match_evaluator_matchevaluator_7n77wxse_20240726_102616_437323, log path: /Users/anastasialinzbach/.promptflow/.runs/src_evaluators_match_evaluator_matchevaluator_7n77wxse_20240726_102616_437323/logs.txt\n",
      "[2024-07-26 10:26:16 -0700][promptflow._core.entry_meta_generator][WARNING] - Generate meta in current process and timeout won't take effect. Please handle timeout manually outside current process.\n",
      "[2024-07-26 10:26:16 -0700][promptflow._sdk._orchestrator.run_submitter][INFO] - Submitting run src_evaluators_match_evaluator_matchevaluator_an1qinkx_20240726_102616_437039, log path: /Users/anastasialinzbach/.promptflow/.runs/src_evaluators_match_evaluator_matchevaluator_an1qinkx_20240726_102616_437039/logs.txt\n"
     ]
    },
    {
     "name": "stdout",
     "output_type": "stream",
     "text": [
      "Prompt flow service has started...\n",
      "Prompt flow service has started...\n"
     ]
    },
    {
     "name": "stderr",
     "output_type": "stream",
     "text": [
      "[2024-07-26 10:26:16 -0700][promptflow._core.entry_meta_generator][WARNING] - Generate meta in current process and timeout won't take effect. Please handle timeout manually outside current process.\n",
      "[2024-07-26 10:26:16 -0700][promptflow._core.entry_meta_generator][WARNING] - Generate meta in current process and timeout won't take effect. Please handle timeout manually outside current process.\n"
     ]
    },
    {
     "name": "stdout",
     "output_type": "stream",
     "text": [
      "You can view the traces in local from http://127.0.0.1:23333/v1.0/ui/traces/?#run=src_evaluators_match_evaluator_matchevaluator_3eqhs0ae_20240726_102616_439703\n",
      "You can view the traces in local from http://127.0.0.1:23333/v1.0/ui/traces/?#run=src_evaluators_match_evaluator_matchevaluator_1p5v6wvu_20240726_102616_441313\n"
     ]
    },
    {
     "name": "stderr",
     "output_type": "stream",
     "text": [
      "[2024-07-26 10:26:16 -0700][promptflow._sdk._orchestrator.run_submitter][INFO] - Submitting run src_evaluators_match_evaluator_matchevaluator_vcp679pg_20240726_102616_438987, log path: /Users/anastasialinzbach/.promptflow/.runs/src_evaluators_match_evaluator_matchevaluator_vcp679pg_20240726_102616_438987/logs.txt\n",
      "[2024-07-26 10:26:16 -0700][promptflow._sdk._orchestrator.run_submitter][INFO] - Submitting run src_evaluators_match_evaluator_matchevaluator_m4sc4grb_20240726_102616_444113, log path: /Users/anastasialinzbach/.promptflow/.runs/src_evaluators_match_evaluator_matchevaluator_m4sc4grb_20240726_102616_444113/logs.txt\n",
      "[2024-07-26 10:26:16 -0700][promptflow._sdk._orchestrator.run_submitter][INFO] - Submitting run src_evaluators_match_evaluator_matchevaluator_x6idc9cw_20240726_102616_440909, log path: /Users/anastasialinzbach/.promptflow/.runs/src_evaluators_match_evaluator_matchevaluator_x6idc9cw_20240726_102616_440909/logs.txt\n",
      "[2024-07-26 10:26:16 -0700][promptflow._core.entry_meta_generator][WARNING] - Generate meta in current process and timeout won't take effect. Please handle timeout manually outside current process.\n",
      "[2024-07-26 10:26:16 -0700][promptflow._core.entry_meta_generator][WARNING] - Generate meta in current process and timeout won't take effect. Please handle timeout manually outside current process.\n",
      "[2024-07-26 10:26:16 -0700][promptflow._sdk._orchestrator.run_submitter][INFO] - Submitting run src_evaluators_match_evaluator_matchevaluator_1p5v6wvu_20240726_102616_441313, log path: /Users/anastasialinzbach/.promptflow/.runs/src_evaluators_match_evaluator_matchevaluator_1p5v6wvu_20240726_102616_441313/logs.txt\n",
      "[2024-07-26 10:26:16 -0700][promptflow._sdk._orchestrator.run_submitter][INFO] - Submitting run src_evaluators_match_evaluator_matchevaluator_3eqhs0ae_20240726_102616_439703, log path: /Users/anastasialinzbach/.promptflow/.runs/src_evaluators_match_evaluator_matchevaluator_3eqhs0ae_20240726_102616_439703/logs.txt\n"
     ]
    },
    {
     "name": "stdout",
     "output_type": "stream",
     "text": [
      "2024-07-26 10:26:26 -0700   86626 execution.bulk     INFO     Process 88839 terminated.\n",
      "2024-07-26 10:26:26 -0700   86626 execution.bulk     INFO     Process 88825 terminated.\n",
      "2024-07-26 10:26:26 -0700   86626 execution.bulk     INFO     Process 88818 terminated.\n",
      "Prompt flow service has started...Prompt flow service has started...\n",
      "\n",
      "You can view the traces in local from http://127.0.0.1:23333/v1.0/ui/traces/?#run=src_evaluators_match_evaluator_matchevaluator_8qmj6sp0_20240726_102626_833813\n",
      "You can view the traces in local from http://127.0.0.1:23333/v1.0/ui/traces/?#run=src_evaluators_match_evaluator_matchevaluator_vg4muilx_20240726_102626_811119\n"
     ]
    },
    {
     "name": "stderr",
     "output_type": "stream",
     "text": [
      "[2024-07-26 10:26:26 -0700][promptflow._core.entry_meta_generator][WARNING] - Generate meta in current process and timeout won't take effect. Please handle timeout manually outside current process.\n",
      "[2024-07-26 10:26:26 -0700][promptflow._core.entry_meta_generator][WARNING] - Generate meta in current process and timeout won't take effect. Please handle timeout manually outside current process.\n",
      "[2024-07-26 10:26:26 -0700][promptflow._sdk._orchestrator.run_submitter][INFO] - Submitting run src_evaluators_match_evaluator_matchevaluator_8qmj6sp0_20240726_102626_833813, log path: /Users/anastasialinzbach/.promptflow/.runs/src_evaluators_match_evaluator_matchevaluator_8qmj6sp0_20240726_102626_833813/logs.txt\n",
      "[2024-07-26 10:26:26 -0700][promptflow._sdk._orchestrator.run_submitter][INFO] - Submitting run src_evaluators_match_evaluator_matchevaluator_vg4muilx_20240726_102626_811119, log path: /Users/anastasialinzbach/.promptflow/.runs/src_evaluators_match_evaluator_matchevaluator_vg4muilx_20240726_102626_811119/logs.txt\n"
     ]
    },
    {
     "name": "stdout",
     "output_type": "stream",
     "text": [
      "Prompt flow service has started...\n",
      "You can view the traces in local from http://127.0.0.1:23333/v1.0/ui/traces/?#run=src_evaluators_match_evaluator_matchevaluator_gsey7ns_20240726_102626_995557\n",
      "Prompt flow service has started...\n",
      "Prompt flow service has started...\n",
      "You can view the traces in local from http://127.0.0.1:23333/v1.0/ui/traces/?#run=src_evaluators_match_evaluator_matchevaluator_52fw4nk4_20240726_102627_010790\n",
      "You can view the traces in local from http://127.0.0.1:23333/v1.0/ui/traces/?#run=src_evaluators_match_evaluator_matchevaluator_dyj6k4su_20240726_102626_994386\n"
     ]
    },
    {
     "name": "stderr",
     "output_type": "stream",
     "text": [
      "[2024-07-26 10:26:27 -0700][promptflow._core.entry_meta_generator][WARNING] - Generate meta in current process and timeout won't take effect. Please handle timeout manually outside current process.\n",
      "[2024-07-26 10:26:27 -0700][promptflow._sdk._orchestrator.run_submitter][INFO] - Submitting run src_evaluators_match_evaluator_matchevaluator_gsey7ns_20240726_102626_995557, log path: /Users/anastasialinzbach/.promptflow/.runs/src_evaluators_match_evaluator_matchevaluator_gsey7ns_20240726_102626_995557/logs.txt\n",
      "[2024-07-26 10:26:27 -0700][promptflow._core.entry_meta_generator][WARNING] - Generate meta in current process and timeout won't take effect. Please handle timeout manually outside current process.\n",
      "[2024-07-26 10:26:27 -0700][promptflow._core.entry_meta_generator][WARNING] - Generate meta in current process and timeout won't take effect. Please handle timeout manually outside current process.\n",
      "[2024-07-26 10:26:27 -0700][promptflow._sdk._orchestrator.run_submitter][INFO] - Submitting run src_evaluators_match_evaluator_matchevaluator_52fw4nk4_20240726_102627_010790, log path: /Users/anastasialinzbach/.promptflow/.runs/src_evaluators_match_evaluator_matchevaluator_52fw4nk4_20240726_102627_010790/logs.txt\n",
      "[2024-07-26 10:26:27 -0700][promptflow._sdk._orchestrator.run_submitter][INFO] - Submitting run src_evaluators_match_evaluator_matchevaluator_dyj6k4su_20240726_102626_994386, log path: /Users/anastasialinzbach/.promptflow/.runs/src_evaluators_match_evaluator_matchevaluator_dyj6k4su_20240726_102626_994386/logs.txt\n"
     ]
    },
    {
     "name": "stdout",
     "output_type": "stream",
     "text": [
      "Prompt flow service has started...\n",
      "Prompt flow service has started...\n",
      "Prompt flow service has started...\n",
      "You can view the traces in local from http://127.0.0.1:23333/v1.0/ui/traces/?#run=src_evaluators_match_evaluator_matchevaluator_c9_zc0_20240726_102627_084820\n",
      "You can view the traces in local from http://127.0.0.1:23333/v1.0/ui/traces/?#run=src_evaluators_match_evaluator_matchevaluator_9lw_zxmb_20240726_102627_082426\n",
      "You can view the traces in local from http://127.0.0.1:23333/v1.0/ui/traces/?#run=src_evaluators_match_evaluator_matchevaluator_yg8az05z_20240726_102627_085838\n"
     ]
    },
    {
     "name": "stderr",
     "output_type": "stream",
     "text": [
      "[2024-07-26 10:26:27 -0700][promptflow._core.entry_meta_generator][WARNING] - Generate meta in current process and timeout won't take effect. Please handle timeout manually outside current process.\n",
      "[2024-07-26 10:26:27 -0700][promptflow._core.entry_meta_generator][WARNING] - Generate meta in current process and timeout won't take effect. Please handle timeout manually outside current process.\n",
      "[2024-07-26 10:26:27 -0700][promptflow._core.entry_meta_generator][WARNING] - Generate meta in current process and timeout won't take effect. Please handle timeout manually outside current process.\n",
      "[2024-07-26 10:26:27 -0700][promptflow._sdk._orchestrator.run_submitter][INFO] - Submitting run src_evaluators_match_evaluator_matchevaluator_c9_zc0_20240726_102627_084820, log path: /Users/anastasialinzbach/.promptflow/.runs/src_evaluators_match_evaluator_matchevaluator_c9_zc0_20240726_102627_084820/logs.txt\n",
      "[2024-07-26 10:26:27 -0700][promptflow._sdk._orchestrator.run_submitter][INFO] - Submitting run src_evaluators_match_evaluator_matchevaluator_9lw_zxmb_20240726_102627_082426, log path: /Users/anastasialinzbach/.promptflow/.runs/src_evaluators_match_evaluator_matchevaluator_9lw_zxmb_20240726_102627_082426/logs.txt\n",
      "[2024-07-26 10:26:27 -0700][promptflow._sdk._orchestrator.run_submitter][INFO] - Submitting run src_evaluators_match_evaluator_matchevaluator_yg8az05z_20240726_102627_085838, log path: /Users/anastasialinzbach/.promptflow/.runs/src_evaluators_match_evaluator_matchevaluator_yg8az05z_20240726_102627_085838/logs.txt\n"
     ]
    },
    {
     "name": "stdout",
     "output_type": "stream",
     "text": [
      "2024-07-26 10:26:27 -0700   86626 execution.bulk     INFO     Current thread is not main thread, skip signal handler registration in BatchEngine.\n",
      "2024-07-26 10:26:27 -0700   86626 execution.bulk     INFO     Current thread is not main thread, skip signal handler registration in BatchEngine.\n",
      "2024-07-26 10:26:27 -0700   86626 execution.bulk     INFO     Current thread is not main thread, skip signal handler registration in BatchEngine.\n",
      "2024-07-26 10:26:27 -0700   86626 execution.bulk     INFO     Current system's available memory is 10409.28125MB, memory consumption of current process is 243.796875MB, estimated available worker count is 10409.28125/243.796875 = 42\n",
      "2024-07-26 10:26:27 -0700   86626 execution.bulk     INFO     Set process count to 1 by taking the minimum value among the factors of {'default_worker_count': 4, 'row_count': 1, 'estimated_worker_count_based_on_memory_usage': 42}.\n",
      "2024-07-26 10:26:27 -0700   86626 execution.bulk     INFO     Current system's available memory is 10409.3125MB, memory consumption of current process is 243.828125MB, estimated available worker count is 10409.3125/243.828125 = 42\n",
      "2024-07-26 10:26:27 -0700   86626 execution.bulk     INFO     Current system's available memory is 10409.3125MB, memory consumption of current process is 243.828125MB, estimated available worker count is 10409.3125/243.828125 = 42\n",
      "2024-07-26 10:26:27 -0700   86626 execution.bulk     INFO     Set process count to 1 by taking the minimum value among the factors of {'default_worker_count': 4, 'row_count': 1, 'estimated_worker_count_based_on_memory_usage': 42}.\n",
      "2024-07-26 10:26:27 -0700   86626 execution.bulk     INFO     Set process count to 1 by taking the minimum value among the factors of {'default_worker_count': 4, 'row_count': 1, 'estimated_worker_count_based_on_memory_usage': 42}.\n",
      "2024-07-26 10:26:27 -0700   86626 execution.bulk     INFO     Current thread is not main thread, skip signal handler registration in BatchEngine.\n",
      "2024-07-26 10:26:27 -0700   86626 execution.bulk     INFO     Current thread is not main thread, skip signal handler registration in BatchEngine.\n",
      "2024-07-26 10:26:27 -0700   86626 execution.bulk     INFO     Current system's available memory is 10414.234375MB, memory consumption of current process is 244.390625MB, estimated available worker count is 10414.234375/244.390625 = 42\n",
      "2024-07-26 10:26:27 -0700   86626 execution.bulk     INFO     Current system's available memory is 10414.265625MB, memory consumption of current process is 244.421875MB, estimated available worker count is 10414.265625/244.421875 = 42\n",
      "2024-07-26 10:26:27 -0700   86626 execution.bulk     INFO     Set process count to 1 by taking the minimum value among the factors of {'default_worker_count': 4, 'row_count': 1, 'estimated_worker_count_based_on_memory_usage': 42}.\n",
      "2024-07-26 10:26:27 -0700   86626 execution.bulk     INFO     Set process count to 1 by taking the minimum value among the factors of {'default_worker_count': 4, 'row_count': 1, 'estimated_worker_count_based_on_memory_usage': 42}.\n",
      "Prompt flow service has started...\n",
      "You can view the traces in local from http://127.0.0.1:23333/v1.0/ui/traces/?#run=src_evaluators_match_evaluator_matchevaluator_qw3zs50q_20240726_102627_184754\n",
      "2024-07-26 10:26:27 -0700   86626 execution.bulk     INFO     Current thread is not main thread, skip signal handler registration in BatchEngine.\n",
      "2024-07-26 10:26:27 -0700   86626 execution.bulk     INFO     Current system's available memory is 10413.46875MB, memory consumption of current process is 244.53125MB, estimated available worker count is 10413.46875/244.53125 = 42\n",
      "2024-07-26 10:26:27 -0700   86626 execution.bulk     INFO     Set process count to 1 by taking the minimum value among the factors of {'default_worker_count': 4, 'row_count': 1, 'estimated_worker_count_based_on_memory_usage': 42}.\n"
     ]
    },
    {
     "name": "stderr",
     "output_type": "stream",
     "text": [
      "[2024-07-26 10:26:27 -0700][promptflow._core.entry_meta_generator][WARNING] - Generate meta in current process and timeout won't take effect. Please handle timeout manually outside current process.\n",
      "[2024-07-26 10:26:27 -0700][promptflow._sdk._orchestrator.run_submitter][INFO] - Submitting run src_evaluators_match_evaluator_matchevaluator_qw3zs50q_20240726_102627_184754, log path: /Users/anastasialinzbach/.promptflow/.runs/src_evaluators_match_evaluator_matchevaluator_qw3zs50q_20240726_102627_184754/logs.txt\n"
     ]
    },
    {
     "name": "stdout",
     "output_type": "stream",
     "text": [
      "Prompt flow service has started...\n",
      "Prompt flow service has started...\n",
      "You can view the traces in local from http://127.0.0.1:23333/v1.0/ui/traces/?#run=src_evaluators_match_evaluator_matchevaluator_sw0x1hup_20240726_102627_314224\n",
      "You can view the traces in local from http://127.0.0.1:23333/v1.0/ui/traces/?#run=src_evaluators_match_evaluator_matchevaluator_dklp18dy_20240726_102627_303581\n"
     ]
    },
    {
     "name": "stderr",
     "output_type": "stream",
     "text": [
      "[2024-07-26 10:26:27 -0700][promptflow._core.entry_meta_generator][WARNING] - Generate meta in current process and timeout won't take effect. Please handle timeout manually outside current process.\n",
      "[2024-07-26 10:26:27 -0700][promptflow._core.entry_meta_generator][WARNING] - Generate meta in current process and timeout won't take effect. Please handle timeout manually outside current process.\n"
     ]
    },
    {
     "name": "stdout",
     "output_type": "stream",
     "text": [
      "Prompt flow service has started..."
     ]
    },
    {
     "name": "stderr",
     "output_type": "stream",
     "text": [
      "[2024-07-26 10:26:27 -0700][promptflow._sdk._orchestrator.run_submitter][INFO] - Submitting run src_evaluators_match_evaluator_matchevaluator_dklp18dy_20240726_102627_303581, log path: /Users/anastasialinzbach/.promptflow/.runs/src_evaluators_match_evaluator_matchevaluator_dklp18dy_20240726_102627_303581/logs.txt\n"
     ]
    },
    {
     "name": "stdout",
     "output_type": "stream",
     "text": [
      "\n",
      "You can view the traces in local from http://127.0.0.1:23333/v1.0/ui/traces/?#run=src_evaluators_match_evaluator_matchevaluator_jwn1mrde_20240726_102627_378617\n"
     ]
    },
    {
     "name": "stderr",
     "output_type": "stream",
     "text": [
      "[2024-07-26 10:26:27 -0700][promptflow._sdk._orchestrator.run_submitter][INFO] - Submitting run src_evaluators_match_evaluator_matchevaluator_sw0x1hup_20240726_102627_314224, log path: /Users/anastasialinzbach/.promptflow/.runs/src_evaluators_match_evaluator_matchevaluator_sw0x1hup_20240726_102627_314224/logs.txt\n",
      "[2024-07-26 10:26:27 -0700][promptflow._core.entry_meta_generator][WARNING] - Generate meta in current process and timeout won't take effect. Please handle timeout manually outside current process.\n",
      "[2024-07-26 10:26:27 -0700][promptflow._sdk._orchestrator.run_submitter][INFO] - Submitting run src_evaluators_match_evaluator_matchevaluator_jwn1mrde_20240726_102627_378617, log path: /Users/anastasialinzbach/.promptflow/.runs/src_evaluators_match_evaluator_matchevaluator_jwn1mrde_20240726_102627_378617/logs.txt\n"
     ]
    },
    {
     "name": "stdout",
     "output_type": "stream",
     "text": [
      "Prompt flow service has started...\n",
      "You can view the traces in local from http://127.0.0.1:23333/v1.0/ui/traces/?#run=src_evaluators_match_evaluator_matchevaluator_w_kcqyrz_20240726_102627_547231\n",
      "Prompt flow service has started...\n",
      "You can view the traces in local from http://127.0.0.1:23333/v1.0/ui/traces/?#run=src_evaluators_match_evaluator_matchevaluator_hy0rnlbg_20240726_102627_554651\n"
     ]
    },
    {
     "name": "stderr",
     "output_type": "stream",
     "text": [
      "[2024-07-26 10:26:27 -0700][promptflow._core.entry_meta_generator][WARNING] - Generate meta in current process and timeout won't take effect. Please handle timeout manually outside current process.\n",
      "[2024-07-26 10:26:27 -0700][promptflow._core.entry_meta_generator][WARNING] - Generate meta in current process and timeout won't take effect. Please handle timeout manually outside current process.\n",
      "[2024-07-26 10:26:27 -0700][promptflow._sdk._orchestrator.run_submitter][INFO] - Submitting run src_evaluators_match_evaluator_matchevaluator_w_kcqyrz_20240726_102627_547231, log path: /Users/anastasialinzbach/.promptflow/.runs/src_evaluators_match_evaluator_matchevaluator_w_kcqyrz_20240726_102627_547231/logs.txt\n",
      "[2024-07-26 10:26:27 -0700][promptflow._sdk._orchestrator.run_submitter][INFO] - Submitting run src_evaluators_match_evaluator_matchevaluator_hy0rnlbg_20240726_102627_554651, log path: /Users/anastasialinzbach/.promptflow/.runs/src_evaluators_match_evaluator_matchevaluator_hy0rnlbg_20240726_102627_554651/logs.txt\n"
     ]
    },
    {
     "name": "stdout",
     "output_type": "stream",
     "text": [
      "2024-07-26 10:26:27 -0700   86626 execution.bulk     INFO     Current thread is not main thread, skip signal handler registration in BatchEngine.\n",
      "2024-07-26 10:26:27 -0700   86626 execution.bulk     INFO     Current thread is not main thread, skip signal handler registration in BatchEngine.\n",
      "2024-07-26 10:26:27 -0700   86626 execution.bulk     INFO     Current system's available memory is 10370.59375MB, memory consumption of current process is 245.4375MB, estimated available worker count is 10370.59375/245.4375 = 42\n",
      "2024-07-26 10:26:27 -0700   86626 execution.bulk     INFO     Current system's available memory is 10370.59375MB, memory consumption of current process is 245.46875MB, estimated available worker count is 10370.59375/245.46875 = 42\n",
      "2024-07-26 10:26:27 -0700   86626 execution.bulk     INFO     Set process count to 1 by taking the minimum value among the factors of {'default_worker_count': 4, 'row_count': 1, 'estimated_worker_count_based_on_memory_usage': 42}.\n",
      "2024-07-26 10:26:27 -0700   86626 execution.bulk     INFO     Set process count to 1 by taking the minimum value among the factors of {'default_worker_count': 4, 'row_count': 1, 'estimated_worker_count_based_on_memory_usage': 42}.\n",
      "Prompt flow service has started...Prompt flow service has started...\n",
      "\n",
      "You can view the traces in local from http://127.0.0.1:23333/v1.0/ui/traces/?#run=src_evaluators_match_evaluator_matchevaluator_y082s4re_20240726_102627_750253\n",
      "You can view the traces in local from http://127.0.0.1:23333/v1.0/ui/traces/?#run=src_evaluators_match_evaluator_matchevaluator_45vh09x4_20240726_102627_750940\n"
     ]
    },
    {
     "name": "stderr",
     "output_type": "stream",
     "text": [
      "[2024-07-26 10:26:27 -0700][promptflow._core.entry_meta_generator][WARNING] - Generate meta in current process and timeout won't take effect. Please handle timeout manually outside current process.\n",
      "[2024-07-26 10:26:27 -0700][promptflow._core.entry_meta_generator][WARNING] - Generate meta in current process and timeout won't take effect. Please handle timeout manually outside current process.\n",
      "[2024-07-26 10:26:27 -0700][promptflow._sdk._orchestrator.run_submitter][INFO] - Submitting run src_evaluators_match_evaluator_matchevaluator_y082s4re_20240726_102627_750253, log path: /Users/anastasialinzbach/.promptflow/.runs/src_evaluators_match_evaluator_matchevaluator_y082s4re_20240726_102627_750253/logs.txt\n",
      "[2024-07-26 10:26:27 -0700][promptflow._sdk._orchestrator.run_submitter][INFO] - Submitting run src_evaluators_match_evaluator_matchevaluator_45vh09x4_20240726_102627_750940, log path: /Users/anastasialinzbach/.promptflow/.runs/src_evaluators_match_evaluator_matchevaluator_45vh09x4_20240726_102627_750940/logs.txt\n"
     ]
    },
    {
     "name": "stdout",
     "output_type": "stream",
     "text": [
      "Prompt flow service has started...\n",
      "You can view the traces in local from http://127.0.0.1:23333/v1.0/ui/traces/?#run=src_evaluators_match_evaluator_matchevaluator_b63nwda5_20240726_102636_471957\n",
      "2024-07-26 10:26:36 -0700   86626 execution.bulk     INFO     Finished 1 / 1 lines.\n",
      "2024-07-26 10:26:36 -0700   86626 execution.bulk     INFO     Average execution time for completed lines: 1.0 seconds. Estimated time for incomplete lines: 0.0 seconds.\n",
      "2024-07-26 10:26:36 -0700   86626 execution.bulk     INFO     The thread monitoring the process [88980-SpawnProcess-236] will be terminated.\n"
     ]
    },
    {
     "name": "stderr",
     "output_type": "stream",
     "text": [
      "[2024-07-26 10:26:36 -0700][promptflow._core.entry_meta_generator][WARNING] - Generate meta in current process and timeout won't take effect. Please handle timeout manually outside current process.\n",
      "[2024-07-26 10:26:36 -0700][promptflow._sdk._orchestrator.run_submitter][INFO] - Submitting run src_evaluators_match_evaluator_matchevaluator_b63nwda5_20240726_102636_471957, log path: /Users/anastasialinzbach/.promptflow/.runs/src_evaluators_match_evaluator_matchevaluator_b63nwda5_20240726_102636_471957/logs.txt\n"
     ]
    },
    {
     "name": "stdout",
     "output_type": "stream",
     "text": [
      "2024-07-26 10:26:37 -0700   86626 execution.bulk     INFO     Process 88997 terminated.\n",
      "2024-07-26 10:26:37 -0700   86626 execution.bulk     INFO     Finished 1 / 1 lines.\n",
      "2024-07-26 10:26:37 -0700   86626 execution.bulk     INFO     Finished 1 / 1 lines.\n",
      "2024-07-26 10:26:37 -0700   86626 execution.bulk     INFO     Average execution time for completed lines: 1.0 seconds. Estimated time for incomplete lines: 0.0 seconds.\n",
      "2024-07-26 10:26:37 -0700   86626 execution.bulk     INFO     Average execution time for completed lines: 1.01 seconds. Estimated time for incomplete lines: 0.0 seconds.\n",
      "2024-07-26 10:26:37 -0700   86626 execution.bulk     INFO     The thread monitoring the process [88996-SpawnProcess-242] will be terminated.\n",
      "2024-07-26 10:26:37 -0700   86626 execution.bulk     INFO     The thread monitoring the process [89000-SpawnProcess-244] will be terminated.\n"
     ]
    },
    {
     "name": "stderr",
     "output_type": "stream",
     "text": [
      "[2024-07-26 10:26:37 -0700][promptflow._core.entry_meta_generator][WARNING] - Generate meta in current process and timeout won't take effect. Please handle timeout manually outside current process.\n"
     ]
    },
    {
     "name": "stdout",
     "output_type": "stream",
     "text": [
      "Prompt flow service has started...\n",
      "You can view the traces in local from http://127.0.0.1:23333/v1.0/ui/traces/?#run=src_evaluators_match_evaluator_matchevaluator_s7vbf1bq_20240726_102637_373148\n"
     ]
    },
    {
     "name": "stderr",
     "output_type": "stream",
     "text": [
      "[2024-07-26 10:26:37 -0700][promptflow._sdk._orchestrator.run_submitter][INFO] - Submitting run src_evaluators_match_evaluator_matchevaluator_s7vbf1bq_20240726_102637_373148, log path: /Users/anastasialinzbach/.promptflow/.runs/src_evaluators_match_evaluator_matchevaluator_s7vbf1bq_20240726_102637_373148/logs.txt\n"
     ]
    },
    {
     "name": "stdout",
     "output_type": "stream",
     "text": [
      "2024-07-26 10:26:37 -0700   86626 execution.bulk     INFO     Current thread is not main thread, skip signal handler registration in BatchEngine.\n",
      "2024-07-26 10:26:37 -0700   86626 execution.bulk     INFO     Current system's available memory is 9420.65625MB, memory consumption of current process is 151.203125MB, estimated available worker count is 9420.65625/151.203125 = 62\n",
      "2024-07-26 10:26:37 -0700   86626 execution.bulk     INFO     Set process count to 1 by taking the minimum value among the factors of {'default_worker_count': 4, 'row_count': 1, 'estimated_worker_count_based_on_memory_usage': 62}.\n",
      "2024-07-26 10:26:37 -0700   86626 execution.bulk     INFO     Process 89000 terminated.\n",
      "2024-07-26 10:26:37 -0700   86626 execution.bulk     INFO     Process 88996 terminated.\n",
      "Prompt flow service has started...Prompt flow service has started...\n",
      "\n",
      "Prompt flow service has started...\n",
      "Prompt flow service has started...\n",
      "You can view the traces in local from http://127.0.0.1:23333/v1.0/ui/traces/?#run=src_evaluators_match_evaluator_matchevaluator_u41a04im_20240726_102637_536372\n",
      "You can view the traces in local from http://127.0.0.1:23333/v1.0/ui/traces/?#run=src_evaluators_match_evaluator_matchevaluator_l5hvp95k_20240726_102637_551445\n",
      "You can view the traces in local from http://127.0.0.1:23333/v1.0/ui/traces/?#run=src_evaluators_match_evaluator_matchevaluator_v7hcutjl_20240726_102637_551311\n",
      "You can view the traces in local from http://127.0.0.1:23333/v1.0/ui/traces/?#run=src_evaluators_match_evaluator_matchevaluator_q23t61ev_20240726_102637_535732\n"
     ]
    },
    {
     "name": "stderr",
     "output_type": "stream",
     "text": [
      "[2024-07-26 10:26:37 -0700][promptflow._core.entry_meta_generator][WARNING] - Generate meta in current process and timeout won't take effect. Please handle timeout manually outside current process.\n",
      "[2024-07-26 10:26:37 -0700][promptflow._core.entry_meta_generator][WARNING] - Generate meta in current process and timeout won't take effect. Please handle timeout manually outside current process.\n",
      "[2024-07-26 10:26:37 -0700][promptflow._core.entry_meta_generator][WARNING] - Generate meta in current process and timeout won't take effect. Please handle timeout manually outside current process.\n",
      "[2024-07-26 10:26:37 -0700][promptflow._core.entry_meta_generator][WARNING] - Generate meta in current process and timeout won't take effect. Please handle timeout manually outside current process.\n",
      "[2024-07-26 10:26:37 -0700][promptflow._sdk._orchestrator.run_submitter][INFO] - Submitting run src_evaluators_match_evaluator_matchevaluator_l5hvp95k_20240726_102637_551445, log path: /Users/anastasialinzbach/.promptflow/.runs/src_evaluators_match_evaluator_matchevaluator_l5hvp95k_20240726_102637_551445/logs.txt\n",
      "[2024-07-26 10:26:37 -0700][promptflow._sdk._orchestrator.run_submitter][INFO] - Submitting run src_evaluators_match_evaluator_matchevaluator_q23t61ev_20240726_102637_535732, log path: /Users/anastasialinzbach/.promptflow/.runs/src_evaluators_match_evaluator_matchevaluator_q23t61ev_20240726_102637_535732/logs.txt\n",
      "[2024-07-26 10:26:37 -0700][promptflow._sdk._orchestrator.run_submitter][INFO] - Submitting run src_evaluators_match_evaluator_matchevaluator_u41a04im_20240726_102637_536372, log path: /Users/anastasialinzbach/.promptflow/.runs/src_evaluators_match_evaluator_matchevaluator_u41a04im_20240726_102637_536372/logs.txt\n",
      "[2024-07-26 10:26:37 -0700][promptflow._sdk._orchestrator.run_submitter][INFO] - Submitting run src_evaluators_match_evaluator_matchevaluator_v7hcutjl_20240726_102637_551311, log path: /Users/anastasialinzbach/.promptflow/.runs/src_evaluators_match_evaluator_matchevaluator_v7hcutjl_20240726_102637_551311/logs.txt\n",
      "[2024-07-26 10:26:37 -0700][promptflow._core.entry_meta_generator][WARNING] - Generate meta in current process and timeout won't take effect. Please handle timeout manually outside current process.\n"
     ]
    },
    {
     "name": "stdout",
     "output_type": "stream",
     "text": [
      "Prompt flow service has started...\n",
      "You can view the traces in local from http://127.0.0.1:23333/v1.0/ui/traces/?#run=src_evaluators_match_evaluator_matchevaluator_5zs8w_f5_20240726_102637_663330\n"
     ]
    },
    {
     "name": "stderr",
     "output_type": "stream",
     "text": [
      "[2024-07-26 10:26:37 -0700][promptflow._sdk._orchestrator.run_submitter][INFO] - Submitting run src_evaluators_match_evaluator_matchevaluator_5zs8w_f5_20240726_102637_663330, log path: /Users/anastasialinzbach/.promptflow/.runs/src_evaluators_match_evaluator_matchevaluator_5zs8w_f5_20240726_102637_663330/logs.txt\n"
     ]
    },
    {
     "name": "stdout",
     "output_type": "stream",
     "text": [
      "2024-07-26 10:26:38 -0700   86626 execution.bulk     INFO     Current thread is not main thread, skip signal handler registration in BatchEngine.\n",
      "2024-07-26 10:26:38 -0700   86626 execution.bulk     INFO     Current system's available memory is 9495.15625MB, memory consumption of current process is 236.046875MB, estimated available worker count is 9495.15625/236.046875 = 40\n",
      "2024-07-26 10:26:38 -0700   86626 execution.bulk     INFO     Set process count to 1 by taking the minimum value among the factors of {'default_worker_count': 4, 'row_count': 1, 'estimated_worker_count_based_on_memory_usage': 40}.\n",
      "Prompt flow service has started...\n",
      "You can view the traces in local from http://127.0.0.1:23333/v1.0/ui/traces/?#run=src_evaluators_match_evaluator_matchevaluator_ytltlt94_20240726_102637_794387\n"
     ]
    },
    {
     "name": "stderr",
     "output_type": "stream",
     "text": [
      "[2024-07-26 10:26:38 -0700][promptflow._core.entry_meta_generator][WARNING] - Generate meta in current process and timeout won't take effect. Please handle timeout manually outside current process.\n",
      "[2024-07-26 10:26:38 -0700][promptflow._sdk._orchestrator.run_submitter][INFO] - Submitting run src_evaluators_match_evaluator_matchevaluator_ytltlt94_20240726_102637_794387, log path: /Users/anastasialinzbach/.promptflow/.runs/src_evaluators_match_evaluator_matchevaluator_ytltlt94_20240726_102637_794387/logs.txt\n"
     ]
    },
    {
     "name": "stdout",
     "output_type": "stream",
     "text": [
      "Prompt flow service has started...\n",
      "Prompt flow service has started...\n",
      "Prompt flow service has started...\n"
     ]
    },
    {
     "name": "stderr",
     "output_type": "stream",
     "text": [
      "[2024-07-26 10:26:38 -0700][promptflow._core.entry_meta_generator][WARNING] - Generate meta in current process and timeout won't take effect. Please handle timeout manually outside current process.\n"
     ]
    },
    {
     "name": "stdout",
     "output_type": "stream",
     "text": [
      "You can view the traces in local from http://127.0.0.1:23333/v1.0/ui/traces/?#run=src_evaluators_match_evaluator_matchevaluator_kmmjowrq_20240726_102638_138808\n",
      "You can view the traces in local from http://127.0.0.1:23333/v1.0/ui/traces/?#run=src_evaluators_match_evaluator_matchevaluator_b1zn48vw_20240726_102638_139401\n",
      "You can view the traces in local from http://127.0.0.1:23333/v1.0/ui/traces/?#run=src_evaluators_match_evaluator_matchevaluator_m6wi4b_y_20240726_102638_131651\n"
     ]
    },
    {
     "name": "stderr",
     "output_type": "stream",
     "text": [
      "[2024-07-26 10:26:38 -0700][promptflow._core.entry_meta_generator][WARNING] - Generate meta in current process and timeout won't take effect. Please handle timeout manually outside current process.\n",
      "[2024-07-26 10:26:38 -0700][promptflow._core.entry_meta_generator][WARNING] - Generate meta in current process and timeout won't take effect. Please handle timeout manually outside current process.\n",
      "[2024-07-26 10:26:38 -0700][promptflow._sdk._orchestrator.run_submitter][INFO] - Submitting run src_evaluators_match_evaluator_matchevaluator_kmmjowrq_20240726_102638_138808, log path: /Users/anastasialinzbach/.promptflow/.runs/src_evaluators_match_evaluator_matchevaluator_kmmjowrq_20240726_102638_138808/logs.txt\n",
      "[2024-07-26 10:26:38 -0700][promptflow._sdk._orchestrator.run_submitter][INFO] - Submitting run src_evaluators_match_evaluator_matchevaluator_b1zn48vw_20240726_102638_139401, log path: /Users/anastasialinzbach/.promptflow/.runs/src_evaluators_match_evaluator_matchevaluator_b1zn48vw_20240726_102638_139401/logs.txt\n",
      "[2024-07-26 10:26:38 -0700][promptflow._sdk._orchestrator.run_submitter][INFO] - Submitting run src_evaluators_match_evaluator_matchevaluator_m6wi4b_y_20240726_102638_131651, log path: /Users/anastasialinzbach/.promptflow/.runs/src_evaluators_match_evaluator_matchevaluator_m6wi4b_y_20240726_102638_131651/logs.txt\n"
     ]
    },
    {
     "name": "stdout",
     "output_type": "stream",
     "text": [
      "Prompt flow service has started...\n",
      "Prompt flow service has started...\n",
      "You can view the traces in local from http://127.0.0.1:23333/v1.0/ui/traces/?#run=src_evaluators_match_evaluator_matchevaluator_4ffm8yg5_20240726_102638_162487\n",
      "You can view the traces in local from http://127.0.0.1:23333/v1.0/ui/traces/?#run=src_evaluators_json_evaluator_jsonevaluator_v75n617m_20240726_102638_212118\n"
     ]
    },
    {
     "name": "stderr",
     "output_type": "stream",
     "text": [
      "[2024-07-26 10:26:38 -0700][promptflow._core.entry_meta_generator][WARNING] - Generate meta in current process and timeout won't take effect. Please handle timeout manually outside current process.\n",
      "[2024-07-26 10:26:38 -0700][promptflow._core.entry_meta_generator][WARNING] - Generate meta in current process and timeout won't take effect. Please handle timeout manually outside current process.\n",
      "[2024-07-26 10:26:38 -0700][promptflow._sdk._orchestrator.run_submitter][INFO] - Submitting run src_evaluators_match_evaluator_matchevaluator_4ffm8yg5_20240726_102638_162487, log path: /Users/anastasialinzbach/.promptflow/.runs/src_evaluators_match_evaluator_matchevaluator_4ffm8yg5_20240726_102638_162487/logs.txt\n",
      "[2024-07-26 10:26:38 -0700][promptflow._sdk._orchestrator.run_submitter][INFO] - Submitting run src_evaluators_json_evaluator_jsonevaluator_v75n617m_20240726_102638_212118, log path: /Users/anastasialinzbach/.promptflow/.runs/src_evaluators_json_evaluator_jsonevaluator_v75n617m_20240726_102638_212118/logs.txt\n"
     ]
    },
    {
     "name": "stdout",
     "output_type": "stream",
     "text": [
      "2024-07-26 10:26:41 -0700   86626 execution.bulk     INFO     Process name(SpawnProcess-246)-Process id(89122)-Line number(0) start execution.\n",
      "2024-07-26 10:26:42 -0700   86626 execution.bulk     INFO     Process name(SpawnProcess-246)-Process id(89122)-Line number(0) completed.\n",
      "2024-07-26 10:26:42 -0700   86626 execution.bulk     INFO     Finished 1 / 1 lines.\n",
      "2024-07-26 10:26:42 -0700   86626 execution.bulk     INFO     Average execution time for completed lines: 1.0 seconds. Estimated time for incomplete lines: 0.0 seconds.\n",
      "2024-07-26 10:26:42 -0700   86626 execution.bulk     INFO     The thread monitoring the process [89122-SpawnProcess-246] will be terminated.\n",
      "2024-07-26 10:26:42 -0700   86626 execution.bulk     INFO     Process 89122 terminated.\n",
      "2024-07-26 10:26:45 -0700   86626 execution.bulk     INFO     Process name(SpawnProcess-252)-Process id(89125)-Line number(0) start execution.\n",
      "2024-07-26 10:26:45 -0700   86626 execution.bulk     INFO     Process name(SpawnProcess-255)-Process id(89132)-Line number(0) start execution.\n",
      "2024-07-26 10:26:45 -0700   86626 execution.bulk     INFO     Process name(SpawnProcess-256)-Process id(89131)-Line number(0) start execution.\n",
      "2024-07-26 10:26:45 -0700   86626 execution.bulk     INFO     Process name(SpawnProcess-254)-Process id(89130)-Line number(0) start execution.\n",
      "2024-07-26 10:26:45 -0700   86626 execution.bulk     INFO     Process name(SpawnProcess-253)-Process id(89129)-Line number(0) start execution.\n",
      "2024-07-26 10:26:46 -0700   86626 execution.bulk     INFO     Process name(SpawnProcess-252)-Process id(89125)-Line number(0) completed.\n",
      "2024-07-26 10:26:46 -0700   86626 execution.bulk     INFO     Finished 1 / 1 lines.\n",
      "2024-07-26 10:26:46 -0700   86626 execution.bulk     INFO     Average execution time for completed lines: 1.0 seconds. Estimated time for incomplete lines: 0.0 seconds.\n",
      "2024-07-26 10:26:46 -0700   86626 execution.bulk     INFO     The thread monitoring the process [89125-SpawnProcess-252] will be terminated.\n",
      "2024-07-26 10:26:46 -0700   86626 execution.bulk     INFO     Process name(SpawnProcess-253)-Process id(89129)-Line number(0) completed.\n",
      "2024-07-26 10:26:46 -0700   86626 execution.bulk     INFO     Process name(SpawnProcess-254)-Process id(89130)-Line number(0) completed.\n",
      "2024-07-26 10:26:46 -0700   86626 execution.bulk     INFO     Process name(SpawnProcess-256)-Process id(89131)-Line number(0) completed.\n",
      "2024-07-26 10:26:46 -0700   86626 execution.bulk     INFO     Process name(SpawnProcess-255)-Process id(89132)-Line number(0) completed.\n",
      "2024-07-26 10:26:46 -0700   86626 execution.bulk     INFO     Process 89125 terminated.\n",
      "2024-07-26 10:26:46 -0700   86626 execution.bulk     INFO     Process name(SpawnProcess-259)-Process id(89135)-Line number(0) start execution.\n",
      "2024-07-26 10:26:46 -0700   86626 execution.bulk     INFO     Process name(SpawnProcess-263)-Process id(89139)-Line number(0) start execution.\n",
      "2024-07-26 10:26:46 -0700   86626 execution.bulk     INFO     Process name(SpawnProcess-268)-Process id(89156)-Line number(0) start execution.\n",
      "2024-07-26 10:26:46 -0700   86626 execution.bulk     INFO     Process name(SpawnProcess-270)-Process id(89158)-Line number(0) start execution.\n",
      "2024-07-26 10:26:46 -0700   86626 execution.bulk     INFO     Process name(SpawnProcess-266)-Process id(89154)-Line number(0) start execution.\n",
      "2024-07-26 10:26:46 -0700   86626 execution.bulk     INFO     Process name(SpawnProcess-267)-Process id(89155)-Line number(0) start execution.\n",
      "2024-07-26 10:26:46 -0700   86626 execution.bulk     INFO     Process name(SpawnProcess-269)-Process id(89157)-Line number(0) start execution.\n",
      "2024-07-26 10:26:46 -0700   86626 execution.bulk     INFO     Process name(SpawnProcess-263)-Process id(89139)-Line number(0) completed.\n",
      "2024-07-26 10:26:46 -0700   86626 execution.bulk     INFO     Process name(SpawnProcess-259)-Process id(89135)-Line number(0) completed.\n",
      "2024-07-26 10:26:46 -0700   86626 execution.bulk     INFO     Finished 1 / 1 lines.\n",
      "2024-07-26 10:26:46 -0700   86626 execution.bulk     INFO     Finished 1 / 1 lines.\n",
      "2024-07-26 10:26:46 -0700   86626 execution.bulk     INFO     Finished 1 / 1 lines.\n",
      "2024-07-26 10:26:46 -0700   86626 execution.bulk     INFO     Average execution time for completed lines: 1.0 seconds. Estimated time for incomplete lines: 0.0 seconds.\n",
      "2024-07-26 10:26:46 -0700   86626 execution.bulk     INFO     Finished 1 / 1 lines.\n",
      "2024-07-26 10:26:46 -0700   86626 execution.bulk     INFO     Average execution time for completed lines: 1.0 seconds. Estimated time for incomplete lines: 0.0 seconds.\n",
      "2024-07-26 10:26:46 -0700   86626 execution.bulk     INFO     Average execution time for completed lines: 1.0 seconds. Estimated time for incomplete lines: 0.0 seconds.\n",
      "2024-07-26 10:26:46 -0700   86626 execution.bulk     INFO     The thread monitoring the process [89132-SpawnProcess-255] will be terminated.\n",
      "2024-07-26 10:26:46 -0700   86626 execution.bulk     INFO     Average execution time for completed lines: 1.0 seconds. Estimated time for incomplete lines: 0.0 seconds.\n",
      "2024-07-26 10:26:46 -0700   86626 execution.bulk     INFO     The thread monitoring the process [89131-SpawnProcess-256] will be terminated.\n",
      "2024-07-26 10:26:46 -0700   86626 execution.bulk     INFO     The thread monitoring the process [89130-SpawnProcess-254] will be terminated.\n",
      "2024-07-26 10:26:46 -0700   86626 execution.bulk     INFO     The thread monitoring the process [89129-SpawnProcess-253] will be terminated.\n",
      "2024-07-26 10:26:46 -0700   86626 execution.bulk     INFO     Process name(SpawnProcess-269)-Process id(89157)-Line number(0) completed.\n",
      "2024-07-26 10:26:46 -0700   86626 execution.bulk     INFO     Process name(SpawnProcess-266)-Process id(89154)-Line number(0) completed.\n",
      "2024-07-26 10:26:46 -0700   86626 execution.bulk     INFO     Process name(SpawnProcess-267)-Process id(89155)-Line number(0) completed.\n",
      "2024-07-26 10:26:46 -0700   86626 execution.bulk     INFO     Process name(SpawnProcess-268)-Process id(89156)-Line number(0) completed.\n",
      "2024-07-26 10:26:46 -0700   86626 execution.bulk     INFO     Process name(SpawnProcess-270)-Process id(89158)-Line number(0) completed.\n",
      "2024-07-26 10:26:47 -0700   86626 execution.bulk     INFO     Process 89132 terminated.\n",
      "2024-07-26 10:26:47 -0700   86626 execution.bulk     INFO     Process 89131 terminated.\n",
      "2024-07-26 10:26:47 -0700   86626 execution.bulk     INFO     Process 89129 terminated.\n",
      "2024-07-26 10:26:47 -0700   86626 execution.bulk     INFO     Process 89130 terminated.\n",
      "2024-07-26 10:26:47 -0700   86626 execution.bulk     INFO     Finished 1 / 1 lines.\n",
      "2024-07-26 10:26:47 -0700   86626 execution.bulk     INFO     Average execution time for completed lines: 1.0 seconds. Estimated time for incomplete lines: 0.0 seconds.\n",
      "2024-07-26 10:26:47 -0700   86626 execution.bulk     INFO     The thread monitoring the process [89135-SpawnProcess-259] will be terminated.\n",
      "2024-07-26 10:26:47 -0700   86626 execution.bulk     INFO     Finished 1 / 1 lines.\n",
      "2024-07-26 10:26:47 -0700   86626 execution.bulk     INFO     Average execution time for completed lines: 1.0 seconds. Estimated time for incomplete lines: 0.0 seconds.\n",
      "2024-07-26 10:26:47 -0700   86626 execution.bulk     INFO     The thread monitoring the process [89139-SpawnProcess-263] will be terminated.\n",
      "2024-07-26 10:26:47 -0700   86626 execution.bulk     INFO     Finished 1 / 1 lines.\n",
      "2024-07-26 10:26:47 -0700   86626 execution.bulk     INFO     Average execution time for completed lines: 1.0 seconds. Estimated time for incomplete lines: 0.0 seconds.\n",
      "2024-07-26 10:26:47 -0700   86626 execution.bulk     INFO     The thread monitoring the process [89154-SpawnProcess-266] will be terminated.\n",
      "2024-07-26 10:26:47 -0700   86626 execution.bulk     INFO     Finished 1 / 1 lines.\n",
      "2024-07-26 10:26:47 -0700   86626 execution.bulk     INFO     Average execution time for completed lines: 1.0 seconds. Estimated time for incomplete lines: 0.0 seconds.\n",
      "2024-07-26 10:26:47 -0700   86626 execution.bulk     INFO     Finished 1 / 1 lines.\n",
      "2024-07-26 10:26:47 -0700   86626 execution.bulk     INFO     The thread monitoring the process [89156-SpawnProcess-268] will be terminated.\n",
      "2024-07-26 10:26:47 -0700   86626 execution.bulk     INFO     Average execution time for completed lines: 1.0 seconds. Estimated time for incomplete lines: 0.0 seconds.\n",
      "2024-07-26 10:26:47 -0700   86626 execution.bulk     INFO     The thread monitoring the process [89158-SpawnProcess-270] will be terminated.\n",
      "2024-07-26 10:26:47 -0700   86626 execution.bulk     INFO     Finished 1 / 1 lines.\n",
      "2024-07-26 10:26:47 -0700   86626 execution.bulk     INFO     Average execution time for completed lines: 1.0 seconds. Estimated time for incomplete lines: 0.0 seconds.\n",
      "2024-07-26 10:26:47 -0700   86626 execution.bulk     INFO     The thread monitoring the process [89155-SpawnProcess-267] will be terminated.\n",
      "2024-07-26 10:26:47 -0700   86626 execution.bulk     INFO     Finished 1 / 1 lines.\n",
      "2024-07-26 10:26:47 -0700   86626 execution.bulk     INFO     Average execution time for completed lines: 1.0 seconds. Estimated time for incomplete lines: 0.0 seconds.\n",
      "2024-07-26 10:26:47 -0700   86626 execution.bulk     INFO     The thread monitoring the process [89157-SpawnProcess-269] will be terminated.\n",
      "2024-07-26 10:26:47 -0700   86626 execution.bulk     INFO     Process 89135 terminated.\n",
      "2024-07-26 10:26:47 -0700   86626 execution.bulk     INFO     Process 89139 terminated.\n",
      "2024-07-26 10:26:47 -0700   86626 execution.bulk     INFO     Process 89154 terminated.\n",
      "2024-07-26 10:26:47 -0700   86626 execution.bulk     INFO     Process 89155 terminated.\n",
      "2024-07-26 10:26:47 -0700   86626 execution.bulk     INFO     Process 89158 terminated.\n",
      "2024-07-26 10:26:48 -0700   86626 execution.bulk     INFO     Process 89157 terminated.\n",
      "2024-07-26 10:26:48 -0700   86626 execution.bulk     INFO     Process 89156 terminated.\n"
     ]
    }
   ],
   "source": [
    "eval_data_path = f\"{module_path}/demo/default-dataset/eval_data.jsonl\"\n",
    "\n",
    "with open(eval_data_path) as file:\n",
    "    data = json.load(file)\n",
    "    ground_truth = data[\"ground_truth\"]\n",
    "\n",
    "match_evaluator_config = {}\n",
    "match_eval_collumn_mapping = {\"actual\": \"${data.actual}\", \"ground_truth\": \"${data.ground_truth}\"}\n",
    "evaluators, evaluator_config = load_match_evaluators(ground_truth=ground_truth, collumn_mapping=match_eval_collumn_mapping, config=match_evaluator_config)\n",
    "\n",
    "json_evaluator = JsonEvaluator(\n",
    "    config={\n",
    "        JsonEvaluator.Config.IGNORE_DOLLAR_SIGN: True,\n",
    "    }\n",
    ")\n",
    "evaluators[\"json_evaluator\"] = json_evaluator\n",
    "evaluator_config[\"json_evaluator\"] = {\n",
    "    \"actual\": \"${data.actual}\",\n",
    "    \"ground_truth\": \"${data.ground_truth}\",\n",
    "}\n",
    "\n",
    "timestamp = time.strftime(\"%m_%d.%H.%M.%S\")\n",
    "output_path = f\"{module_path}/notebooks/outputs/output_{timestamp}.json\"\n",
    "\n",
    "results = evaluate(\n",
    "    evaluation_name=\"test_eval_1\",\n",
    "    data=eval_data_path,\n",
    "    evaluators=evaluators,\n",
    "    evaluator_config=evaluator_config,\n",
    "    output_path=output_path\n",
    ")\n",
    "pprint(results)\n"
   ]
  },
  {
   "cell_type": "code",
   "execution_count": null,
   "metadata": {},
   "outputs": [],
   "source": []
  }
 ],
 "metadata": {
  "kernelspec": {
   "display_name": "Python 3",
   "language": "python",
   "name": "python3"
  },
  "language_info": {
   "codemirror_mode": {
    "name": "ipython",
    "version": 3
   },
   "file_extension": ".py",
   "mimetype": "text/x-python",
   "name": "python",
   "nbconvert_exporter": "python",
   "pygments_lexer": "ipython3",
   "version": "3.9.19"
  }
 },
 "nbformat": 4,
 "nbformat_minor": 2
}
