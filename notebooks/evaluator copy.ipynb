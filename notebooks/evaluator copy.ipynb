{
 "cells": [
  {
   "cell_type": "code",
   "execution_count": 1,
   "metadata": {},
   "outputs": [
    {
     "data": {
      "text/plain": [
       "True"
      ]
     },
     "execution_count": 1,
     "metadata": {},
     "output_type": "execute_result"
    }
   ],
   "source": [
    "import os\n",
    "import json\n",
    "import random\n",
    "from datetime import datetime\n",
    "import tempfile\n",
    "import base64\n",
    "from pathlib import Path\n",
    "\n",
    "import glob\n",
    "import json\n",
    "\n",
    "import sys\n",
    "\n",
    "module_path = os.path.abspath(os.path.join('..'))\n",
    "if module_path not in sys.path:\n",
    "    sys.path.append(module_path+\"/src/functionapp\")\n",
    "#On windows use  sys.path.append(module_path+\"\\\\src\\\\functionapp\")\n",
    "\n",
    "from ai_ocr.azure.openai_ops import load_image, get_size_of_base64_images\n",
    "from ai_ocr.azure.images import convert_pdf_into_image\n",
    "from ai_ocr.model import Config\n",
    "from ai_ocr.chains import get_structured_data\n",
    "from ai_ocr.azure.doc_intelligence import get_ocr_results\n",
    "\n",
    "from langchain_core.output_parsers.json import parse_json_markdown\n",
    "\n",
    "from dotenv import load_dotenv\n",
    "load_dotenv()"
   ]
  },
  {
   "cell_type": "markdown",
   "metadata": {},
   "source": [
    "### Prepare images"
   ]
  },
  {
   "cell_type": "code",
   "execution_count": 2,
   "metadata": {},
   "outputs": [
    {
     "name": "stdout",
     "output_type": "stream",
     "text": [
      "../demo/default-dataset/\n",
      "[]\n"
     ]
    }
   ],
   "source": [
    "#just testing that images are in the temp folder configured in the env\n",
    "\n",
    "input_path = '../demo/default-dataset/Invoice Sample.pdf'\n",
    "pdf_path = input_path.replace(input_path.split(\"/\")[-1], \"\")\n",
    "print(pdf_path)\n",
    "imgs_path = os.path.join(os.getcwd(), os.getenv(\"TEMP_IMAGES_OUTDIR\", \"\"))\n",
    "imgs = glob.glob(f\"{imgs_path}/page*.jpeg\")\n",
    "print(imgs)"
   ]
  },
  {
   "cell_type": "markdown",
   "metadata": {},
   "source": [
    "### Run the Solution once on the demo to produce an output.json"
   ]
  },
  {
   "cell_type": "code",
   "execution_count": 3,
   "metadata": {},
   "outputs": [
    {
     "name": "stdout",
     "output_type": "stream",
     "text": [
      "Saved image: /tmp/page_1.png\n",
      "Response: {\"Customer Name\": \"Henry Ross\", \"Invoice Number\": \"1234\", \"Date\": \"November 30, 2022\", \"Billing info\": {\"Customer\": \"Henry Ross\", \"Customer ID\": \"8675309\", \"Address\": \"123 Avenue A, Metropolis\", \"Phone\": \"(123) 456-7890\"}, \"Payment Due\": \"December 30, 2022\", \"Salesperson\": \"Luca Richter\", \"Payment Terms\": \"Cash or check\", \"Shipping info\": {\"Recipient\": \"Henry Ross\", \"Address\": \"123 Avenue A, Metropolis\", \"Phone\": \"(123) 456-7890\"}, \"Delivery Date\": \"December 7, 2022\", \"Shipping Method\": \"Ground\", \"Shipping Terms\": \"Returns not accepted\", \"Table\": {\"Items\": [{\"Qty\": \"10\", \"Item#\": \"123\", \"Description\": \"Baby chicks\", \"Unit price\": \"5.00\", \"Discount\": \"10%\", \"Line total\": \"45.00\"}, {\"Qty\": \"2\", \"Item#\": \"444\", \"Description\": \"Heat lamps\", \"Unit price\": \"24.00\", \"Discount\": \"\", \"Line total\": \"48.00\"}, {\"Qty\": \"6\", \"Item#\": \"120\", \"Description\": \"Chicken roosts\", \"Unit price\": \"30.00\", \"Discount\": \"\", \"Line total\": \"180.00\"}], \"Total Discount\": \"5.00\", \"Subtotal\": \"278.00\", \"Sales Tax\": \"13.90\", \"Total\": \"286.90\"}, \"Footer\": {\"Customer Name\": \"Happiest Valley Farms\", \"Address\": \"456 Anyroad, Anywhere\", \"Website\": \"interestingsite.com\", \"Phone number\": \"(123) 987-6543\", \"Fax number\": \"(123) 987-6542\", \"Email\": \"happiest@example.com\"}}\n"
     ]
    }
   ],
   "source": [
    "system_prompt =  ''\n",
    "with open('../demo/default-dataset/system_prompt.txt', 'r') as file_sys_prompt:\n",
    "    system_prompt = file_sys_prompt.read()\n",
    "\n",
    "output_schema = ''\n",
    "with open('../demo/default-dataset/output_schema.json', 'r') as file_output_schema:\n",
    "    output_schema = file_output_schema.read()\n",
    "\n",
    "input_path = '../demo/default-dataset/Invoice Sample.pdf'\n",
    "\n",
    "\n",
    "ocr_start_time = datetime.now()\n",
    "ocr_result = get_ocr_results(input_path)\n",
    "   \n",
    " # Extract images from the PDF\n",
    "convert_pdf_into_image(input_path)\n",
    "    \n",
    " # Ensure the /tmp/ directory exists\n",
    "imgs_path = \"/tmp/\"\n",
    "os.makedirs(imgs_path, exist_ok=True)\n",
    "    \n",
    "# Determine the path for the temporary images\n",
    "imgs = glob.glob(f\"{imgs_path}/page*.jpeg\")\n",
    "    \n",
    "# Limit images by config\n",
    "imgs = imgs[:8]\n",
    "imgs = [load_image(img) for img in imgs]\n",
    "    \n",
    "# Check and reduce images total size if over 20MB\n",
    "max_size = 20 * 1024 * 1024  # 20MB\n",
    "while get_size_of_base64_images(imgs) > max_size:\n",
    "    imgs.pop()\n",
    "    \n",
    "# Get structured data\n",
    "structured = get_structured_data(ocr_result.content, system_prompt, output_schema, imgs)\n",
    "\n",
    "# Delete all generated images created after processing\n",
    "for img_path in glob.glob(f\"{imgs_path}/page*.jpeg\"):\n",
    "    try:\n",
    "        os.remove(img_path)\n",
    "        print(f\"Deleted image: {img_path}\")\n",
    "    except Exception as e:\n",
    "        print(f\"Error deleting image {img_path}: {e}\")\n",
    "    \n",
    "# Parse structured data and return as JSON\n",
    "x = parse_json_markdown(structured.content)  \n",
    "response = json.dumps(x)\n",
    "\n",
    "print(f'Response: {response}')\n",
    "\n",
    "actual_output_path = \"/tmp/output.json\"\n",
    "with open(actual_output_path, 'w') as f:\n",
    "    f.write(response)"
   ]
  },
  {
   "cell_type": "code",
   "execution_count": null,
   "metadata": {},
   "outputs": [],
   "source": []
  },
  {
   "cell_type": "markdown",
   "metadata": {},
   "source": [
    "### Load the input (an output from previous LLM run), ground truth and create a jsonl file\n"
   ]
  },
  {
   "cell_type": "code",
   "execution_count": 5,
   "metadata": {},
   "outputs": [
    {
     "name": "stderr",
     "output_type": "stream",
     "text": [
      "[2024-07-25 19:17:13 +0000][promptflow._core.entry_meta_generator][WARNING] - Generate meta in current process and timeout won't take effect. Please handle timeout manually outside current process.\n",
      "[2024-07-25 19:17:13 +0000][promptflow._sdk._orchestrator.run_submitter][INFO] - Submitting run src_evaluators_match_evaluator_matchevaluator_xu1ljz9s_20240725_191713_340016, log path: /home/vscode/.promptflow/.runs/src_evaluators_match_evaluator_matchevaluator_xu1ljz9s_20240725_191713_340016/logs.txt\n",
      "[2024-07-25 19:17:13 +0000][promptflow._core.entry_meta_generator][WARNING] - Generate meta in current process and timeout won't take effect. Please handle timeout manually outside current process.\n"
     ]
    },
    {
     "name": "stdout",
     "output_type": "stream",
     "text": [
      "Prompt flow service has started...\n",
      "Prompt flow service has started...\n",
      "You can view the traces in local from http://127.0.0.1:23333/v1.0/ui/traces/?#run=src_evaluators_match_evaluator_matchevaluator_rzu6jgko_20240725_191713_406331\n",
      "You can view the traces in local from http://127.0.0.1:23333/v1.0/ui/traces/?#run=src_evaluators_match_evaluator_matchevaluator_xu1ljz9s_20240725_191713_340016\n",
      "Prompt flow service has started...\n",
      "You can view the traces in local from http://127.0.0.1:23333/v1.0/ui/traces/?#run=src_evaluators_match_evaluator_matchevaluator_v10kz170_20240725_191713_428855\n",
      "Prompt flow service has started...\n",
      "You can view the traces in local from http://127.0.0.1:23333/v1.0/ui/traces/?#run=src_evaluators_match_evaluator_matchevaluator_1xpgy_n4_20240725_191713_466129\n",
      "Prompt flow service has started...\n"
     ]
    },
    {
     "name": "stderr",
     "output_type": "stream",
     "text": [
      "[2024-07-25 19:17:13 +0000][promptflow._sdk._orchestrator.run_submitter][INFO] - Submitting run src_evaluators_match_evaluator_matchevaluator_rzu6jgko_20240725_191713_406331, log path: /home/vscode/.promptflow/.runs/src_evaluators_match_evaluator_matchevaluator_rzu6jgko_20240725_191713_406331/logs.txt\n",
      "[2024-07-25 19:17:13 +0000][promptflow._core.entry_meta_generator][WARNING] - Generate meta in current process and timeout won't take effect. Please handle timeout manually outside current process.\n",
      "[2024-07-25 19:17:14 +0000][promptflow._sdk._orchestrator.run_submitter][INFO] - Submitting run src_evaluators_match_evaluator_matchevaluator_v10kz170_20240725_191713_428855, log path: /home/vscode/.promptflow/.runs/src_evaluators_match_evaluator_matchevaluator_v10kz170_20240725_191713_428855/logs.txt\n",
      "[2024-07-25 19:17:14 +0000][promptflow._core.entry_meta_generator][WARNING] - Generate meta in current process and timeout won't take effect. Please handle timeout manually outside current process.\n",
      "[2024-07-25 19:17:14 +0000][promptflow._core.entry_meta_generator][WARNING] - Generate meta in current process and timeout won't take effect. Please handle timeout manually outside current process.\n"
     ]
    },
    {
     "name": "stdout",
     "output_type": "stream",
     "text": [
      "You can view the traces in local from http://127.0.0.1:23333/v1.0/ui/traces/?#run=src_evaluators_match_evaluator_matchevaluator_klv8933g_20240725_191713_437894\n",
      "Prompt flow service has started...\n",
      "You can view the traces in local from http://127.0.0.1:23333/v1.0/ui/traces/?#run=src_evaluators_match_evaluator_matchevaluator_umfld5_v_20240725_191713_564459\n",
      "Prompt flow service has started...\n",
      "You can view the traces in local from http://127.0.0.1:23333/v1.0/ui/traces/?#run=src_evaluators_match_evaluator_matchevaluator_y6sqcria_20240725_191713_524066\n",
      "Prompt flow service has started...\n",
      "Prompt flow service has started...\n",
      "You can view the traces in local from http://127.0.0.1:23333/v1.0/ui/traces/?#run=src_evaluators_match_evaluator_matchevaluator_wrziwa1f_20240725_191713_555446\n",
      "You can view the traces in local from http://127.0.0.1:23333/v1.0/ui/traces/?#run=src_evaluators_match_evaluator_matchevaluator_utnr7dka_20240725_191713_502349\n"
     ]
    },
    {
     "name": "stderr",
     "output_type": "stream",
     "text": [
      "[2024-07-25 19:17:14 +0000][promptflow._sdk._orchestrator.run_submitter][INFO] - Submitting run src_evaluators_match_evaluator_matchevaluator_1xpgy_n4_20240725_191713_466129, log path: /home/vscode/.promptflow/.runs/src_evaluators_match_evaluator_matchevaluator_1xpgy_n4_20240725_191713_466129/logs.txt\n",
      "[2024-07-25 19:17:14 +0000][promptflow._sdk._orchestrator.run_submitter][INFO] - Submitting run src_evaluators_match_evaluator_matchevaluator_klv8933g_20240725_191713_437894, log path: /home/vscode/.promptflow/.runs/src_evaluators_match_evaluator_matchevaluator_klv8933g_20240725_191713_437894/logs.txt\n",
      "[2024-07-25 19:17:14 +0000][promptflow._core.entry_meta_generator][WARNING] - Generate meta in current process and timeout won't take effect. Please handle timeout manually outside current process.\n",
      "[2024-07-25 19:17:14 +0000][promptflow._core.entry_meta_generator][WARNING] - Generate meta in current process and timeout won't take effect. Please handle timeout manually outside current process.\n",
      "[2024-07-25 19:17:14 +0000][promptflow._sdk._orchestrator.run_submitter][INFO] - Submitting run src_evaluators_match_evaluator_matchevaluator_umfld5_v_20240725_191713_564459, log path: /home/vscode/.promptflow/.runs/src_evaluators_match_evaluator_matchevaluator_umfld5_v_20240725_191713_564459/logs.txt\n",
      "[2024-07-25 19:17:14 +0000][promptflow._core.entry_meta_generator][WARNING] - Generate meta in current process and timeout won't take effect. Please handle timeout manually outside current process.\n",
      "[2024-07-25 19:17:14 +0000][promptflow._sdk._orchestrator.run_submitter][INFO] - Submitting run src_evaluators_match_evaluator_matchevaluator_y6sqcria_20240725_191713_524066, log path: /home/vscode/.promptflow/.runs/src_evaluators_match_evaluator_matchevaluator_y6sqcria_20240725_191713_524066/logs.txt\n",
      "[2024-07-25 19:17:14 +0000][promptflow._core.entry_meta_generator][WARNING] - Generate meta in current process and timeout won't take effect. Please handle timeout manually outside current process.\n"
     ]
    },
    {
     "name": "stdout",
     "output_type": "stream",
     "text": [
      "Prompt flow service has started...\n",
      "You can view the traces in local from http://127.0.0.1:23333/v1.0/ui/traces/?#run=src_evaluators_match_evaluator_matchevaluator_0f59yj55_20240725_191713_578100\n",
      "Prompt flow service has started...\n",
      "You can view the traces in local from http://127.0.0.1:23333/v1.0/ui/traces/?#run=src_evaluators_match_evaluator_matchevaluator_ltiy_c7r_20240725_191713_515125\n",
      "Prompt flow service has started...\n",
      "You can view the traces in local from http://127.0.0.1:23333/v1.0/ui/traces/?#run=src_evaluators_match_evaluator_matchevaluator_tq4nqkld_20240725_191713_580813\n",
      "Prompt flow service has started...\n"
     ]
    },
    {
     "name": "stderr",
     "output_type": "stream",
     "text": [
      "[2024-07-25 19:17:14 +0000][promptflow._sdk._orchestrator.run_submitter][INFO] - Submitting run src_evaluators_match_evaluator_matchevaluator_utnr7dka_20240725_191713_502349, log path: /home/vscode/.promptflow/.runs/src_evaluators_match_evaluator_matchevaluator_utnr7dka_20240725_191713_502349/logs.txt\n",
      "[2024-07-25 19:17:14 +0000][promptflow._sdk._orchestrator.run_submitter][INFO] - Submitting run src_evaluators_match_evaluator_matchevaluator_wrziwa1f_20240725_191713_555446, log path: /home/vscode/.promptflow/.runs/src_evaluators_match_evaluator_matchevaluator_wrziwa1f_20240725_191713_555446/logs.txt\n",
      "[2024-07-25 19:17:14 +0000][promptflow._core.entry_meta_generator][WARNING] - Generate meta in current process and timeout won't take effect. Please handle timeout manually outside current process.\n"
     ]
    },
    {
     "name": "stdout",
     "output_type": "stream",
     "text": [
      "You can view the traces in local from http://127.0.0.1:23333/v1.0/ui/traces/?#run=src_evaluators_match_evaluator_matchevaluator_9xqb03bs_20240725_191713_573007\n",
      "Prompt flow service has started...\n",
      "You can view the traces in local from http://127.0.0.1:23333/v1.0/ui/traces/?#run=src_evaluators_match_evaluator_matchevaluator_bsvlzzej_20240725_191713_591550\n"
     ]
    },
    {
     "name": "stderr",
     "output_type": "stream",
     "text": [
      "[2024-07-25 19:17:14 +0000][promptflow._core.entry_meta_generator][WARNING] - Generate meta in current process and timeout won't take effect. Please handle timeout manually outside current process.\n",
      "[2024-07-25 19:17:14 +0000][promptflow._sdk._orchestrator.run_submitter][INFO] - Submitting run src_evaluators_match_evaluator_matchevaluator_0f59yj55_20240725_191713_578100, log path: /home/vscode/.promptflow/.runs/src_evaluators_match_evaluator_matchevaluator_0f59yj55_20240725_191713_578100/logs.txt\n",
      "[2024-07-25 19:17:14 +0000][promptflow._core.entry_meta_generator][WARNING] - Generate meta in current process and timeout won't take effect. Please handle timeout manually outside current process.\n",
      "[2024-07-25 19:17:14 +0000][promptflow._sdk._orchestrator.run_submitter][INFO] - Submitting run src_evaluators_match_evaluator_matchevaluator_ltiy_c7r_20240725_191713_515125, log path: /home/vscode/.promptflow/.runs/src_evaluators_match_evaluator_matchevaluator_ltiy_c7r_20240725_191713_515125/logs.txt\n",
      "[2024-07-25 19:17:14 +0000][promptflow._core.entry_meta_generator][WARNING] - Generate meta in current process and timeout won't take effect. Please handle timeout manually outside current process.\n"
     ]
    },
    {
     "name": "stdout",
     "output_type": "stream",
     "text": [
      "Prompt flow service has started...\n",
      "You can view the traces in local from http://127.0.0.1:23333/v1.0/ui/traces/?#run=src_evaluators_match_evaluator_matchevaluator_kose2oas_20240725_191713_603307\n",
      "Prompt flow service has started...\n",
      "You can view the traces in local from http://127.0.0.1:23333/v1.0/ui/traces/?#run=src_evaluators_match_evaluator_matchevaluator_dhux4glu_20240725_191713_588253\n"
     ]
    },
    {
     "name": "stderr",
     "output_type": "stream",
     "text": [
      "[2024-07-25 19:17:14 +0000][promptflow._sdk._orchestrator.run_submitter][INFO] - Submitting run src_evaluators_match_evaluator_matchevaluator_tq4nqkld_20240725_191713_580813, log path: /home/vscode/.promptflow/.runs/src_evaluators_match_evaluator_matchevaluator_tq4nqkld_20240725_191713_580813/logs.txt\n",
      "[2024-07-25 19:17:15 +0000][promptflow._core.entry_meta_generator][WARNING] - Generate meta in current process and timeout won't take effect. Please handle timeout manually outside current process.\n",
      "[2024-07-25 19:17:15 +0000][promptflow._sdk._orchestrator.run_submitter][INFO] - Submitting run src_evaluators_match_evaluator_matchevaluator_bsvlzzej_20240725_191713_591550, log path: /home/vscode/.promptflow/.runs/src_evaluators_match_evaluator_matchevaluator_bsvlzzej_20240725_191713_591550/logs.txt\n",
      "[2024-07-25 19:17:15 +0000][promptflow._core.entry_meta_generator][WARNING] - Generate meta in current process and timeout won't take effect. Please handle timeout manually outside current process.\n"
     ]
    },
    {
     "name": "stdout",
     "output_type": "stream",
     "text": [
      "Prompt flow service has started...\n"
     ]
    },
    {
     "name": "stderr",
     "output_type": "stream",
     "text": [
      "[2024-07-25 19:17:15 +0000][promptflow._sdk._orchestrator.run_submitter][INFO] - Submitting run src_evaluators_match_evaluator_matchevaluator_9xqb03bs_20240725_191713_573007, log path: /home/vscode/.promptflow/.runs/src_evaluators_match_evaluator_matchevaluator_9xqb03bs_20240725_191713_573007/logs.txt\n",
      "[2024-07-25 19:17:15 +0000][promptflow._core.entry_meta_generator][WARNING] - Generate meta in current process and timeout won't take effect. Please handle timeout manually outside current process.\n",
      "[2024-07-25 19:17:15 +0000][promptflow._sdk._orchestrator.run_submitter][INFO] - Submitting run src_evaluators_match_evaluator_matchevaluator_kose2oas_20240725_191713_603307, log path: /home/vscode/.promptflow/.runs/src_evaluators_match_evaluator_matchevaluator_kose2oas_20240725_191713_603307/logs.txt\n"
     ]
    },
    {
     "name": "stdout",
     "output_type": "stream",
     "text": [
      "You can view the traces in local from http://127.0.0.1:23333/v1.0/ui/traces/?#run=src_evaluators_match_evaluator_matchevaluator_vwsi73vk_20240725_191713_614660\n",
      "Prompt flow service has started...\n"
     ]
    },
    {
     "name": "stderr",
     "output_type": "stream",
     "text": [
      "[2024-07-25 19:17:15 +0000][promptflow._sdk._orchestrator.run_submitter][INFO] - Submitting run src_evaluators_match_evaluator_matchevaluator_dhux4glu_20240725_191713_588253, log path: /home/vscode/.promptflow/.runs/src_evaluators_match_evaluator_matchevaluator_dhux4glu_20240725_191713_588253/logs.txt\n",
      "[2024-07-25 19:17:15 +0000][promptflow._core.entry_meta_generator][WARNING] - Generate meta in current process and timeout won't take effect. Please handle timeout manually outside current process.\n"
     ]
    },
    {
     "name": "stdout",
     "output_type": "stream",
     "text": [
      "You can view the traces in local from http://127.0.0.1:23333/v1.0/ui/traces/?#run=src_evaluators_match_evaluator_matchevaluator_aizcbl99_20240725_191713_623339\n"
     ]
    },
    {
     "name": "stderr",
     "output_type": "stream",
     "text": [
      "[2024-07-25 19:17:15 +0000][promptflow._sdk._orchestrator.run_submitter][INFO] - Submitting run src_evaluators_match_evaluator_matchevaluator_vwsi73vk_20240725_191713_614660, log path: /home/vscode/.promptflow/.runs/src_evaluators_match_evaluator_matchevaluator_vwsi73vk_20240725_191713_614660/logs.txt\n",
      "[2024-07-25 19:17:16 +0000][promptflow._core.entry_meta_generator][WARNING] - Generate meta in current process and timeout won't take effect. Please handle timeout manually outside current process.\n",
      "[2024-07-25 19:17:16 +0000][promptflow._sdk._orchestrator.run_submitter][INFO] - Submitting run src_evaluators_match_evaluator_matchevaluator_aizcbl99_20240725_191713_623339, log path: /home/vscode/.promptflow/.runs/src_evaluators_match_evaluator_matchevaluator_aizcbl99_20240725_191713_623339/logs.txt\n"
     ]
    },
    {
     "name": "stdout",
     "output_type": "stream",
     "text": [
      "2024-07-25 19:17:20 +0000   64805 execution.bulk     INFO     Finished 1 / 1 lines.\n",
      "2024-07-25 19:17:20 +0000   64805 execution.bulk     INFO     Average execution time for completed lines: 4.02 seconds. Estimated time for incomplete lines: 0.0 seconds.\n",
      "2024-07-25 19:17:20 +0000   64805 execution.bulk     INFO     The thread monitoring the process [74158-ForkProcess-114:1] will be terminated.\n"
     ]
    },
    {
     "name": "stderr",
     "output_type": "stream",
     "text": [
      "[2024-07-25 19:17:20 +0000][promptflow._core.entry_meta_generator][WARNING] - Generate meta in current process and timeout won't take effect. Please handle timeout manually outside current process.\n",
      "[2024-07-25 19:17:20 +0000][promptflow._sdk._orchestrator.run_submitter][INFO] - Submitting run src_evaluators_match_evaluator_matchevaluator_wxfbtzqt_20240725_191720_827071, log path: /home/vscode/.promptflow/.runs/src_evaluators_match_evaluator_matchevaluator_wxfbtzqt_20240725_191720_827071/logs.txt\n"
     ]
    },
    {
     "name": "stdout",
     "output_type": "stream",
     "text": [
      "Prompt flow service has started...\n",
      "You can view the traces in local from http://127.0.0.1:23333/v1.0/ui/traces/?#run=src_evaluators_match_evaluator_matchevaluator_wxfbtzqt_20240725_191720_827071\n",
      "2024-07-25 19:17:21 +0000   64805 execution.bulk     INFO     Process name(ForkProcess-118:1)-Process id(74239)-Line number(0) start execution.\n",
      "2024-07-25 19:17:21 +0000   64805 execution.bulk     INFO     Process name(ForkProcess-120:1)-Process id(74328)-Line number(0) start execution.\n",
      "2024-07-25 19:17:21 +0000   64805 execution.bulk     INFO     Process name(ForkProcess-119:1)-Process id(74263)-Line number(0) start execution.\n",
      "2024-07-25 19:17:21 +0000   64805 execution.bulk     INFO     Finished 1 / 1 lines.\n",
      "2024-07-25 19:17:21 +0000   64805 execution.bulk     INFO     Process name(ForkProcess-116:1)-Process id(74359)-Line number(0) completed.\n",
      "2024-07-25 19:17:21 +0000   64805 execution.bulk     INFO     Finished 1 / 1 lines.\n",
      "2024-07-25 19:17:21 +0000   64805 execution.bulk     INFO     Process name(ForkProcess-118:1)-Process id(74239)-Line number(0) completed.\n",
      "2024-07-25 19:17:21 +0000   64805 execution.bulk     INFO     Average execution time for completed lines: 4.03 seconds. Estimated time for incomplete lines: 0.0 seconds.\n",
      "2024-07-25 19:17:21 +0000   64805 execution.bulk     INFO     Process name(ForkProcess-120:1)-Process id(74328)-Line number(0) completed.\n",
      "2024-07-25 19:17:21 +0000   64805 execution.bulk     INFO     Process name(ForkProcess-119:1)-Process id(74263)-Line number(0) completed.\n",
      "2024-07-25 19:17:21 +0000   64805 execution.bulk     INFO     Average execution time for completed lines: 4.02 seconds. Estimated time for incomplete lines: 0.0 seconds.\n",
      "2024-07-25 19:17:21 +0000   64805 execution.bulk     INFO     Process name(ForkProcess-123:1)-Process id(74283)-Line number(0) start execution.\n",
      "2024-07-25 19:17:21 +0000   64805 execution.bulk     INFO     The thread monitoring the process [74244-ForkProcess-121:1] will be terminated.\n",
      "2024-07-25 19:17:21 +0000   64805 execution.bulk     INFO     The thread monitoring the process [74213-ForkProcess-122:1] will be terminated.\n",
      "2024-07-25 19:17:21 +0000   64805 execution.bulk     INFO     Process name(ForkProcess-123:1)-Process id(74283)-Line number(0) completed.\n",
      "2024-07-25 19:17:21 +0000   64805 execution.bulk     INFO     Process name(ForkProcess-124:1)-Process id(74300)-Line number(0) start execution.\n",
      "2024-07-25 19:17:21 +0000   64805 execution.bulk     INFO     Process name(ForkProcess-125:1)-Process id(74361)-Line number(0) start execution.\n",
      "2024-07-25 19:17:21 +0000   64805 execution.bulk     INFO     Process name(ForkProcess-126:1)-Process id(74403)-Line number(0) start execution.\n"
     ]
    },
    {
     "name": "stderr",
     "output_type": "stream",
     "text": [
      "[2024-07-25 19:17:21 +0000][promptflow._core.entry_meta_generator][WARNING] - Generate meta in current process and timeout won't take effect. Please handle timeout manually outside current process.\n",
      "[2024-07-25 19:17:21 +0000][promptflow._sdk._orchestrator.run_submitter][INFO] - Submitting run src_evaluators_match_evaluator_matchevaluator_re0j_alh_20240725_191721_339984, log path: /home/vscode/.promptflow/.runs/src_evaluators_match_evaluator_matchevaluator_re0j_alh_20240725_191721_339984/logs.txt\n"
     ]
    },
    {
     "name": "stdout",
     "output_type": "stream",
     "text": [
      "Prompt flow service has started...\n",
      "You can view the traces in local from http://127.0.0.1:23333/v1.0/ui/traces/?#run=src_evaluators_match_evaluator_matchevaluator_re0j_alh_20240725_191721_339984\n",
      "2024-07-25 19:17:22 +0000   64805 execution.bulk     INFO     Finished 1 / 1 lines.\n",
      "2024-07-25 19:17:22 +0000   64805 execution.bulk     INFO     Average execution time for completed lines: 5.01 seconds. Estimated time for incomplete lines: 0.0 seconds.\n",
      "2024-07-25 19:17:22 +0000   64805 execution.bulk     INFO     Finished 1 / 1 lines.\n",
      "2024-07-25 19:17:22 +0000   64805 execution.bulk     INFO     Finished 1 / 1 lines.\n",
      "2024-07-25 19:17:22 +0000   64805 execution.bulk     INFO     The thread monitoring the process [74328-ForkProcess-120:1] will be terminated.\n",
      "2024-07-25 19:17:22 +0000   64805 execution.bulk     INFO     Average execution time for completed lines: 5.02 seconds. Estimated time for incomplete lines: 0.0 seconds.\n",
      "2024-07-25 19:17:22 +0000   64805 execution.bulk     INFO     Average execution time for completed lines: 5.02 seconds. Estimated time for incomplete lines: 0.0 seconds.\n",
      "2024-07-25 19:17:22 +0000   64805 execution.bulk     INFO     The thread monitoring the process [74263-ForkProcess-119:1] will be terminated.\n",
      "2024-07-25 19:17:22 +0000   64805 execution.bulk     INFO     The thread monitoring the process [74239-ForkProcess-118:1] will be terminated.\n",
      "2024-07-25 19:17:22 +0000   64805 execution.bulk     INFO     Finished 1 / 1 lines.\n",
      "2024-07-25 19:17:22 +0000   64805 execution.bulk     INFO     Average execution time for completed lines: 5.03 seconds. Estimated time for incomplete lines: 0.0 seconds.\n",
      "2024-07-25 19:17:22 +0000   64805 execution.bulk     INFO     The thread monitoring the process [74283-ForkProcess-123:1] will be terminated.\n",
      "2024-07-25 19:17:22 +0000   64805 execution.bulk     INFO     Current thread is not main thread, skip signal handler registration in BatchEngine.\n",
      "2024-07-25 19:17:22 +0000   64805 execution.bulk     INFO     Set process count to 1 by taking the minimum value among the factors of {'default_worker_count': 4, 'row_count': 1}.\n",
      "Prompt flow service has started...\n",
      "You can view the traces in local from http://127.0.0.1:23333/v1.0/ui/traces/?#run=src_evaluators_match_evaluator_matchevaluator_bbpd_bk_20240725_191722_296332\n"
     ]
    },
    {
     "name": "stderr",
     "output_type": "stream",
     "text": [
      "[2024-07-25 19:17:23 +0000][promptflow._core.entry_meta_generator][WARNING] - Generate meta in current process and timeout won't take effect. Please handle timeout manually outside current process.\n"
     ]
    },
    {
     "name": "stdout",
     "output_type": "stream",
     "text": [
      "Prompt flow service has started...\n"
     ]
    },
    {
     "name": "stderr",
     "output_type": "stream",
     "text": [
      "[2024-07-25 19:17:23 +0000][promptflow._sdk._orchestrator.run_submitter][INFO] - Submitting run src_evaluators_match_evaluator_matchevaluator_bbpd_bk_20240725_191722_296332, log path: /home/vscode/.promptflow/.runs/src_evaluators_match_evaluator_matchevaluator_bbpd_bk_20240725_191722_296332/logs.txt\n"
     ]
    },
    {
     "name": "stdout",
     "output_type": "stream",
     "text": [
      "You can view the traces in local from http://127.0.0.1:23333/v1.0/ui/traces/?#run=src_evaluators_match_evaluator_matchevaluator_c3jb0ct_20240725_191722_678981\n",
      "Prompt flow service has started...\n",
      "Prompt flow service has started...\n"
     ]
    },
    {
     "name": "stderr",
     "output_type": "stream",
     "text": [
      "[2024-07-25 19:17:23 +0000][promptflow._core.entry_meta_generator][WARNING] - Generate meta in current process and timeout won't take effect. Please handle timeout manually outside current process.\n",
      "[2024-07-25 19:17:23 +0000][promptflow._sdk._orchestrator.run_submitter][INFO] - Submitting run src_evaluators_match_evaluator_matchevaluator_c3jb0ct_20240725_191722_678981, log path: /home/vscode/.promptflow/.runs/src_evaluators_match_evaluator_matchevaluator_c3jb0ct_20240725_191722_678981/logs.txt\n"
     ]
    },
    {
     "name": "stdout",
     "output_type": "stream",
     "text": [
      "You can view the traces in local from http://127.0.0.1:23333/v1.0/ui/traces/?#run=src_evaluators_match_evaluator_matchevaluator_cwovmopc_20240725_191722_846014\n"
     ]
    },
    {
     "name": "stderr",
     "output_type": "stream",
     "text": [
      "[2024-07-25 19:17:24 +0000][promptflow._core.entry_meta_generator][WARNING] - Generate meta in current process and timeout won't take effect. Please handle timeout manually outside current process.\n"
     ]
    },
    {
     "name": "stdout",
     "output_type": "stream",
     "text": [
      "Prompt flow service has started...\n"
     ]
    },
    {
     "name": "stderr",
     "output_type": "stream",
     "text": [
      "[2024-07-25 19:17:24 +0000][promptflow._sdk._orchestrator.run_submitter][INFO] - Submitting run src_evaluators_match_evaluator_matchevaluator_cwovmopc_20240725_191722_846014, log path: /home/vscode/.promptflow/.runs/src_evaluators_match_evaluator_matchevaluator_cwovmopc_20240725_191722_846014/logs.txt\n"
     ]
    },
    {
     "name": "stdout",
     "output_type": "stream",
     "text": [
      "You can view the traces in local from http://127.0.0.1:23333/v1.0/ui/traces/?#run=src_evaluators_match_evaluator_matchevaluator_4vjdtsey_20240725_191722_887424\n"
     ]
    },
    {
     "name": "stderr",
     "output_type": "stream",
     "text": [
      "[2024-07-25 19:17:24 +0000][promptflow._core.entry_meta_generator][WARNING] - Generate meta in current process and timeout won't take effect. Please handle timeout manually outside current process.\n"
     ]
    },
    {
     "name": "stdout",
     "output_type": "stream",
     "text": [
      "You can view the traces in local from http://127.0.0.1:23333/v1.0/ui/traces/?#run=src_evaluators_match_evaluator_matchevaluator_q66xn_zd_20240725_191723_088511\n",
      "Prompt flow service has started...\n"
     ]
    },
    {
     "name": "stderr",
     "output_type": "stream",
     "text": [
      "[2024-07-25 19:17:24 +0000][promptflow._sdk._orchestrator.run_submitter][INFO] - Submitting run src_evaluators_match_evaluator_matchevaluator_4vjdtsey_20240725_191722_887424, log path: /home/vscode/.promptflow/.runs/src_evaluators_match_evaluator_matchevaluator_4vjdtsey_20240725_191722_887424/logs.txt\n",
      "[2024-07-25 19:17:24 +0000][promptflow._core.entry_meta_generator][WARNING] - Generate meta in current process and timeout won't take effect. Please handle timeout manually outside current process.\n",
      "[2024-07-25 19:17:24 +0000][promptflow._sdk._orchestrator.run_submitter][INFO] - Submitting run src_evaluators_match_evaluator_matchevaluator_q66xn_zd_20240725_191723_088511, log path: /home/vscode/.promptflow/.runs/src_evaluators_match_evaluator_matchevaluator_q66xn_zd_20240725_191723_088511/logs.txt\n"
     ]
    },
    {
     "name": "stdout",
     "output_type": "stream",
     "text": [
      "You can view the traces in local from http://127.0.0.1:23333/v1.0/ui/traces/?#run=src_evaluators_match_evaluator_matchevaluator_r6nvpu95_20240725_191723_408905\n"
     ]
    },
    {
     "name": "stderr",
     "output_type": "stream",
     "text": [
      "[2024-07-25 19:17:24 +0000][promptflow._core.entry_meta_generator][WARNING] - Generate meta in current process and timeout won't take effect. Please handle timeout manually outside current process.\n",
      "[2024-07-25 19:17:24 +0000][promptflow._sdk._orchestrator.run_submitter][INFO] - Submitting run src_evaluators_match_evaluator_matchevaluator_r6nvpu95_20240725_191723_408905, log path: /home/vscode/.promptflow/.runs/src_evaluators_match_evaluator_matchevaluator_r6nvpu95_20240725_191723_408905/logs.txt\n"
     ]
    },
    {
     "name": "stdout",
     "output_type": "stream",
     "text": [
      "Prompt flow service has started...\n",
      "2024-07-25 19:17:24 +0000   64805 execution.bulk     INFO     Current thread is not main thread, skip signal handler registration in BatchEngine.\n",
      "2024-07-25 19:17:24 +0000   64805 execution.bulk     INFO     Set process count to 1 by taking the minimum value among the factors of {'default_worker_count': 4, 'row_count': 1}.\n",
      "2024-07-25 19:17:24 +0000   64805 execution.bulk     INFO     Process name(ForkProcess-128:1)-Process id(75307)-Line number(0) start execution.\n",
      "2024-07-25 19:17:24 +0000   64805 execution.bulk     INFO     Current thread is not main thread, skip signal handler registration in BatchEngine.\n",
      "Prompt flow service has started...\n",
      "2024-07-25 19:17:25 +0000   64805 execution.bulk     INFO     Set process count to 1 by taking the minimum value among the factors of {'default_worker_count': 4, 'row_count': 1}.\n",
      "Prompt flow service has started...\n",
      "2024-07-25 19:17:25 +0000   64805 execution.bulk     INFO     Current thread is not main thread, skip signal handler registration in BatchEngine.\n",
      "2024-07-25 19:17:25 +0000   64805 execution.bulk     INFO     Set process count to 1 by taking the minimum value among the factors of {'default_worker_count': 4, 'row_count': 1}.\n",
      "You can view the traces in local from http://127.0.0.1:23333/v1.0/ui/traces/?#run=src_evaluators_match_evaluator_matchevaluator_xs9egc64_20240725_191724_255467\n",
      "You can view the traces in local from http://127.0.0.1:23333/v1.0/ui/traces/?#run=src_evaluators_match_evaluator_matchevaluator_6zj1u3z8_20240725_191724_214441\n",
      "Prompt flow service has started...\n",
      "Prompt flow service has started...\n"
     ]
    },
    {
     "name": "stderr",
     "output_type": "stream",
     "text": [
      "[2024-07-25 19:17:25 +0000][promptflow._core.entry_meta_generator][WARNING] - Generate meta in current process and timeout won't take effect. Please handle timeout manually outside current process.\n"
     ]
    },
    {
     "name": "stdout",
     "output_type": "stream",
     "text": [
      "You can view the traces in local from http://127.0.0.1:23333/v1.0/ui/traces/?#run=src_evaluators_match_evaluator_matchevaluator_9n8wdgv1_20240725_191724_328163\n"
     ]
    },
    {
     "name": "stderr",
     "output_type": "stream",
     "text": [
      "[2024-07-25 19:17:25 +0000][promptflow._core.entry_meta_generator][WARNING] - Generate meta in current process and timeout won't take effect. Please handle timeout manually outside current process.\n",
      "[2024-07-25 19:17:25 +0000][promptflow._sdk._orchestrator.run_submitter][INFO] - Submitting run src_evaluators_match_evaluator_matchevaluator_6zj1u3z8_20240725_191724_214441, log path: /home/vscode/.promptflow/.runs/src_evaluators_match_evaluator_matchevaluator_6zj1u3z8_20240725_191724_214441/logs.txt\n",
      "[2024-07-25 19:17:25 +0000][promptflow._core.entry_meta_generator][WARNING] - Generate meta in current process and timeout won't take effect. Please handle timeout manually outside current process.\n"
     ]
    },
    {
     "name": "stdout",
     "output_type": "stream",
     "text": [
      "Prompt flow service has started...\n"
     ]
    },
    {
     "name": "stderr",
     "output_type": "stream",
     "text": [
      "[2024-07-25 19:17:25 +0000][promptflow._sdk._orchestrator.run_submitter][INFO] - Submitting run src_evaluators_match_evaluator_matchevaluator_xs9egc64_20240725_191724_255467, log path: /home/vscode/.promptflow/.runs/src_evaluators_match_evaluator_matchevaluator_xs9egc64_20240725_191724_255467/logs.txt\n",
      "[2024-07-25 19:17:25 +0000][promptflow._sdk._orchestrator.run_submitter][INFO] - Submitting run src_evaluators_match_evaluator_matchevaluator_9n8wdgv1_20240725_191724_328163, log path: /home/vscode/.promptflow/.runs/src_evaluators_match_evaluator_matchevaluator_9n8wdgv1_20240725_191724_328163/logs.txt\n"
     ]
    },
    {
     "name": "stdout",
     "output_type": "stream",
     "text": [
      "You can view the traces in local from http://127.0.0.1:23333/v1.0/ui/traces/?#run=src_evaluators_match_evaluator_matchevaluator_5d_gsmd_20240725_191724_579761\n",
      "You can view the traces in local from http://127.0.0.1:23333/v1.0/ui/traces/?#run=src_evaluators_match_evaluator_matchevaluator_3kwgt98g_20240725_191724_660639\n"
     ]
    },
    {
     "name": "stderr",
     "output_type": "stream",
     "text": [
      "[2024-07-25 19:17:25 +0000][promptflow._core.entry_meta_generator][WARNING] - Generate meta in current process and timeout won't take effect. Please handle timeout manually outside current process.\n",
      "[2024-07-25 19:17:26 +0000][promptflow._core.entry_meta_generator][WARNING] - Generate meta in current process and timeout won't take effect. Please handle timeout manually outside current process.\n",
      "[2024-07-25 19:17:26 +0000][promptflow._sdk._orchestrator.run_submitter][INFO] - Submitting run src_evaluators_match_evaluator_matchevaluator_3kwgt98g_20240725_191724_660639, log path: /home/vscode/.promptflow/.runs/src_evaluators_match_evaluator_matchevaluator_3kwgt98g_20240725_191724_660639/logs.txt\n",
      "[2024-07-25 19:17:26 +0000][promptflow._sdk._orchestrator.run_submitter][INFO] - Submitting run src_evaluators_match_evaluator_matchevaluator_5d_gsmd_20240725_191724_579761, log path: /home/vscode/.promptflow/.runs/src_evaluators_match_evaluator_matchevaluator_5d_gsmd_20240725_191724_579761/logs.txt\n",
      "[2024-07-25 19:17:26 +0000][promptflow._core.entry_meta_generator][WARNING] - Generate meta in current process and timeout won't take effect. Please handle timeout manually outside current process.\n"
     ]
    },
    {
     "name": "stdout",
     "output_type": "stream",
     "text": [
      "You can view the traces in local from http://127.0.0.1:23333/v1.0/ui/traces/?#run=src_evaluators_match_evaluator_matchevaluator_ttwohcw_20240725_191725_127094\n",
      "Prompt flow service has started...\n"
     ]
    },
    {
     "name": "stderr",
     "output_type": "stream",
     "text": [
      "[2024-07-25 19:17:26 +0000][promptflow._sdk._orchestrator.run_submitter][INFO] - Submitting run src_evaluators_match_evaluator_matchevaluator_ttwohcw_20240725_191725_127094, log path: /home/vscode/.promptflow/.runs/src_evaluators_match_evaluator_matchevaluator_ttwohcw_20240725_191725_127094/logs.txt\n",
      "[2024-07-25 19:17:26 +0000][promptflow._core.entry_meta_generator][WARNING] - Generate meta in current process and timeout won't take effect. Please handle timeout manually outside current process.\n"
     ]
    },
    {
     "name": "stdout",
     "output_type": "stream",
     "text": [
      "You can view the traces in local from http://127.0.0.1:23333/v1.0/ui/traces/?#run=src_evaluators_match_evaluator_matchevaluator_xfvftqgm_20240725_191725_601468\n"
     ]
    },
    {
     "name": "stderr",
     "output_type": "stream",
     "text": [
      "[2024-07-25 19:17:26 +0000][promptflow._sdk._orchestrator.run_submitter][INFO] - Submitting run src_evaluators_match_evaluator_matchevaluator_xfvftqgm_20240725_191725_601468, log path: /home/vscode/.promptflow/.runs/src_evaluators_match_evaluator_matchevaluator_xfvftqgm_20240725_191725_601468/logs.txt\n"
     ]
    },
    {
     "name": "stdout",
     "output_type": "stream",
     "text": [
      "2024-07-25 19:17:29 +0000   64805 execution.bulk     INFO     Process name(ForkProcess-140:1)-Process id(78315)-Line number(0) completed.\n",
      "2024-07-25 19:17:29 +0000   64805 execution.bulk     INFO     Process name(ForkProcess-141:1)-Process id(78334)-Line number(0) start execution.\n",
      "2024-07-25 19:17:29 +0000   64805 execution.bulk     INFO     Process name(ForkProcess-141:1)-Process id(78334)-Line number(0) completed.\n"
     ]
    },
    {
     "name": "stderr",
     "output_type": "stream",
     "text": [
      "[2024-07-25 19:17:29 +0000][promptflow._core.entry_meta_generator][WARNING] - Generate meta in current process and timeout won't take effect. Please handle timeout manually outside current process.\n"
     ]
    },
    {
     "name": "stdout",
     "output_type": "stream",
     "text": [
      "Prompt flow service has started...\n",
      "You can view the traces in local from http://127.0.0.1:23333/v1.0/ui/traces/?#run=src_evaluators_match_evaluator_matchevaluator_ovk1ecb_20240725_191729_410961\n",
      "2024-07-25 19:17:29 +0000   64805 execution.bulk     INFO     Finished 1 / 1 lines.\n"
     ]
    },
    {
     "name": "stderr",
     "output_type": "stream",
     "text": [
      "[2024-07-25 19:17:29 +0000][promptflow._sdk._orchestrator.run_submitter][INFO] - Submitting run src_evaluators_match_evaluator_matchevaluator_ovk1ecb_20240725_191729_410961, log path: /home/vscode/.promptflow/.runs/src_evaluators_match_evaluator_matchevaluator_ovk1ecb_20240725_191729_410961/logs.txt\n"
     ]
    },
    {
     "name": "stdout",
     "output_type": "stream",
     "text": [
      "2024-07-25 19:17:29 +0000   64805 execution.bulk     INFO     Average execution time for completed lines: 4.06 seconds. Estimated time for incomplete lines: 0.0 seconds.\n",
      "2024-07-25 19:17:29 +0000   64805 execution.bulk     INFO     Process name(ForkProcess-145:1)-Process id(78365)-Line number(0) start execution.\n",
      "2024-07-25 19:17:29 +0000   64805 execution.bulk     INFO     The thread monitoring the process [78255-ForkProcess-137:1] will be terminated.\n",
      "2024-07-25 19:17:30 +0000   64805 execution.bulk     INFO     Current thread is not main thread, skip signal handler registration in BatchEngine.\n",
      "2024-07-25 19:17:30 +0000   64805 execution.bulk     INFO     Process name(ForkProcess-145:1)-Process id(78365)-Line number(0) completed.\n",
      "2024-07-25 19:17:30 +0000   64805 execution.bulk     INFO     Finished 1 / 1 lines.\n",
      "2024-07-25 19:17:30 +0000   64805 execution.bulk     INFO     Average execution time for completed lines: 4.03 seconds. Estimated time for incomplete lines: 0.0 seconds.\n",
      "2024-07-25 19:17:30 +0000   64805 execution.bulk     INFO     Set process count to 1 by taking the minimum value among the factors of {'default_worker_count': 4, 'row_count': 1}.\n",
      "2024-07-25 19:17:30 +0000   64805 execution.bulk     INFO     The thread monitoring the process [78293-ForkProcess-139:1] will be terminated.\n",
      "2024-07-25 19:17:30 +0000   64805 execution.bulk     INFO     Finished 1 / 1 lines.\n",
      "Prompt flow service has started...\n",
      "2024-07-25 19:17:30 +0000   64805 execution.bulk     INFO     Average execution time for completed lines: 4.03 seconds. Estimated time for incomplete lines: 0.0 seconds.\n",
      "You can view the traces in local from http://127.0.0.1:23333/v1.0/ui/traces/?#run=src_evaluators_match_evaluator_matchevaluator_v0al720_20240725_191730_009378\n",
      "2024-07-25 19:17:30 +0000   64805 execution.bulk     INFO     Finished 1 / 1 lines.\n",
      "2024-07-25 19:17:30 +0000   64805 execution.bulk     INFO     The thread monitoring the process [78315-ForkProcess-140:1] will be terminated.\n",
      "2024-07-25 19:17:30 +0000   64805 execution.bulk     INFO     Average execution time for completed lines: 4.02 seconds. Estimated time for incomplete lines: 0.0 seconds.\n",
      "2024-07-25 19:17:30 +0000   64805 execution.bulk     INFO     The thread monitoring the process [78334-ForkProcess-141:1] will be terminated.\n"
     ]
    },
    {
     "name": "stderr",
     "output_type": "stream",
     "text": [
      "[2024-07-25 19:17:30 +0000][promptflow._core.entry_meta_generator][WARNING] - Generate meta in current process and timeout won't take effect. Please handle timeout manually outside current process.\n",
      "[2024-07-25 19:17:30 +0000][promptflow._sdk._orchestrator.run_submitter][INFO] - Submitting run src_evaluators_match_evaluator_matchevaluator_v0al720_20240725_191730_009378, log path: /home/vscode/.promptflow/.runs/src_evaluators_match_evaluator_matchevaluator_v0al720_20240725_191730_009378/logs.txt\n"
     ]
    },
    {
     "name": "stdout",
     "output_type": "stream",
     "text": [
      "2024-07-25 19:17:30 +0000   64805 execution.bulk     INFO     Finished 1 / 1 lines.\n",
      "2024-07-25 19:17:30 +0000   64805 execution.bulk     INFO     Average execution time for completed lines: 4.01 seconds. Estimated time for incomplete lines: 0.0 seconds.\n",
      "2024-07-25 19:17:30 +0000   64805 execution.bulk     INFO     The thread monitoring the process [78365-ForkProcess-145:1] will be terminated.\n",
      "2024-07-25 19:17:30 +0000   64805 execution.bulk     INFO     Current thread is not main thread, skip signal handler registration in BatchEngine.\n",
      "2024-07-25 19:17:30 +0000   64805 execution.bulk     INFO     Set process count to 1 by taking the minimum value among the factors of {'default_worker_count': 4, 'row_count': 1}.\n",
      "2024-07-25 19:17:31 +0000   64805 execution.bulk     INFO     Process name(ForkProcess-150:1)-Process id(78851)-Line number(0) start execution.\n",
      "2024-07-25 19:17:31 +0000   64805 execution.bulk     INFO     Process name(ForkProcess-151:1)-Process id(78935)-Line number(0) start execution.\n",
      "2024-07-25 19:17:31 +0000   64805 execution.bulk     INFO     Process name(ForkProcess-153:1)-Process id(79103)-Line number(0) start execution.\n",
      "2024-07-25 19:17:31 +0000   64805 execution.bulk     INFO     Process name(ForkProcess-150:1)-Process id(78851)-Line number(0) completed.\n",
      "2024-07-25 19:17:31 +0000   64805 execution.bulk     INFO     Process name(ForkProcess-152:1)-Process id(78994)-Line number(0) start execution.\n",
      "2024-07-25 19:17:31 +0000   64805 execution.bulk     INFO     Process name(ForkProcess-154:1)-Process id(79120)-Line number(0) start execution.\n",
      "2024-07-25 19:17:31 +0000   64805 execution.bulk     INFO     Process name(ForkProcess-155:1)-Process id(79163)-Line number(0) start execution.\n",
      "2024-07-25 19:17:31 +0000   64805 execution.bulk     INFO     Process name(ForkProcess-156:1)-Process id(79184)-Line number(0) start execution.\n",
      "2024-07-25 19:17:32 +0000   64805 execution.bulk     INFO     Finished 1 / 1 lines.\n",
      "2024-07-25 19:17:32 +0000   64805 execution.bulk     INFO     Average execution time for completed lines: 5.05 seconds. Estimated time for incomplete lines: 0.0 seconds.\n",
      "Prompt flow service has started...\n",
      "2024-07-25 19:17:32 +0000   64805 execution.bulk     INFO     The thread monitoring the process [78851-ForkProcess-150:1] will be terminated.\n",
      "Prompt flow service has started...\n",
      "Prompt flow service has started...\n",
      "You can view the traces in local from http://127.0.0.1:23333/v1.0/ui/traces/?#run=src_evaluators_match_evaluator_matchevaluator_c2ouryou_20240725_191731_378009\n"
     ]
    },
    {
     "name": "stderr",
     "output_type": "stream",
     "text": [
      "[2024-07-25 19:17:32 +0000][promptflow._core.entry_meta_generator][WARNING] - Generate meta in current process and timeout won't take effect. Please handle timeout manually outside current process.\n",
      "[2024-07-25 19:17:32 +0000][promptflow._sdk._orchestrator.run_submitter][INFO] - Submitting run src_evaluators_match_evaluator_matchevaluator_c2ouryou_20240725_191731_378009, log path: /home/vscode/.promptflow/.runs/src_evaluators_match_evaluator_matchevaluator_c2ouryou_20240725_191731_378009/logs.txt\n"
     ]
    },
    {
     "name": "stdout",
     "output_type": "stream",
     "text": [
      "Prompt flow service has started...\n",
      "Prompt flow service has started...\n",
      "You can view the traces in local from http://127.0.0.1:23333/v1.0/ui/traces/?#run=src_evaluators_match_evaluator_matchevaluator_zmo9ng7z_20240725_191731_708079\n"
     ]
    },
    {
     "name": "stderr",
     "output_type": "stream",
     "text": [
      "[2024-07-25 19:17:32 +0000][promptflow._core.entry_meta_generator][WARNING] - Generate meta in current process and timeout won't take effect. Please handle timeout manually outside current process.\n",
      "[2024-07-25 19:17:32 +0000][promptflow._core.entry_meta_generator][WARNING] - Generate meta in current process and timeout won't take effect. Please handle timeout manually outside current process.\n",
      "[2024-07-25 19:17:32 +0000][promptflow._sdk._orchestrator.run_submitter][INFO] - Submitting run src_evaluators_match_evaluator_matchevaluator_zmo9ng7z_20240725_191731_708079, log path: /home/vscode/.promptflow/.runs/src_evaluators_match_evaluator_matchevaluator_zmo9ng7z_20240725_191731_708079/logs.txt\n"
     ]
    },
    {
     "name": "stdout",
     "output_type": "stream",
     "text": [
      "You can view the traces in local from http://127.0.0.1:23333/v1.0/ui/traces/?#run=src_evaluators_match_evaluator_matchevaluator_y6oxy4_7_20240725_191731_634169\n",
      "Prompt flow service has started...\n"
     ]
    },
    {
     "name": "stderr",
     "output_type": "stream",
     "text": [
      "[2024-07-25 19:17:33 +0000][promptflow._sdk._orchestrator.run_submitter][INFO] - Submitting run src_evaluators_match_evaluator_matchevaluator_y6oxy4_7_20240725_191731_634169, log path: /home/vscode/.promptflow/.runs/src_evaluators_match_evaluator_matchevaluator_y6oxy4_7_20240725_191731_634169/logs.txt\n"
     ]
    },
    {
     "name": "stdout",
     "output_type": "stream",
     "text": [
      "Prompt flow service has started...\n",
      "You can view the traces in local from http://127.0.0.1:23333/v1.0/ui/traces/?#run=src_evaluators_match_evaluator_matchevaluator_k6eithex_20240725_191732_288210\n",
      "You can view the traces in local from http://127.0.0.1:23333/v1.0/ui/traces/?#run=src_evaluators_match_evaluator_matchevaluator_kku643k_20240725_191731_778005\n"
     ]
    },
    {
     "name": "stderr",
     "output_type": "stream",
     "text": [
      "[2024-07-25 19:17:33 +0000][promptflow._core.entry_meta_generator][WARNING] - Generate meta in current process and timeout won't take effect. Please handle timeout manually outside current process.\n",
      "[2024-07-25 19:17:33 +0000][promptflow._core.entry_meta_generator][WARNING] - Generate meta in current process and timeout won't take effect. Please handle timeout manually outside current process.\n",
      "[2024-07-25 19:17:33 +0000][promptflow._sdk._orchestrator.run_submitter][INFO] - Submitting run src_evaluators_match_evaluator_matchevaluator_k6eithex_20240725_191732_288210, log path: /home/vscode/.promptflow/.runs/src_evaluators_match_evaluator_matchevaluator_k6eithex_20240725_191732_288210/logs.txt\n",
      "[2024-07-25 19:17:33 +0000][promptflow._sdk._orchestrator.run_submitter][INFO] - Submitting run src_evaluators_match_evaluator_matchevaluator_kku643k_20240725_191731_778005, log path: /home/vscode/.promptflow/.runs/src_evaluators_match_evaluator_matchevaluator_kku643k_20240725_191731_778005/logs.txt\n"
     ]
    },
    {
     "name": "stdout",
     "output_type": "stream",
     "text": [
      "Prompt flow service has started...\n",
      "You can view the traces in local from http://127.0.0.1:23333/v1.0/ui/traces/?#run=src_evaluators_match_evaluator_matchevaluator_oy3edm9a_20240725_191732_300419\n"
     ]
    },
    {
     "name": "stderr",
     "output_type": "stream",
     "text": [
      "[2024-07-25 19:17:33 +0000][promptflow._core.entry_meta_generator][WARNING] - Generate meta in current process and timeout won't take effect. Please handle timeout manually outside current process.\n"
     ]
    },
    {
     "name": "stdout",
     "output_type": "stream",
     "text": [
      "Prompt flow service has started...\n"
     ]
    },
    {
     "name": "stderr",
     "output_type": "stream",
     "text": [
      "[2024-07-25 19:17:33 +0000][promptflow._sdk._orchestrator.run_submitter][INFO] - Submitting run src_evaluators_match_evaluator_matchevaluator_oy3edm9a_20240725_191732_300419, log path: /home/vscode/.promptflow/.runs/src_evaluators_match_evaluator_matchevaluator_oy3edm9a_20240725_191732_300419/logs.txt\n"
     ]
    },
    {
     "name": "stdout",
     "output_type": "stream",
     "text": [
      "You can view the traces in local from http://127.0.0.1:23333/v1.0/ui/traces/?#run=src_evaluators_match_evaluator_matchevaluator_jyr35ovk_20240725_191732_607037\n"
     ]
    },
    {
     "name": "stderr",
     "output_type": "stream",
     "text": [
      "[2024-07-25 19:17:33 +0000][promptflow._core.entry_meta_generator][WARNING] - Generate meta in current process and timeout won't take effect. Please handle timeout manually outside current process.\n"
     ]
    },
    {
     "name": "stdout",
     "output_type": "stream",
     "text": [
      "You can view the traces in local from http://127.0.0.1:23333/v1.0/ui/traces/?#run=src_evaluators_match_evaluator_matchevaluator_qxrlkkqx_20240725_191732_507704\n"
     ]
    },
    {
     "name": "stderr",
     "output_type": "stream",
     "text": [
      "[2024-07-25 19:17:33 +0000][promptflow._sdk._orchestrator.run_submitter][INFO] - Submitting run src_evaluators_match_evaluator_matchevaluator_jyr35ovk_20240725_191732_607037, log path: /home/vscode/.promptflow/.runs/src_evaluators_match_evaluator_matchevaluator_jyr35ovk_20240725_191732_607037/logs.txt\n",
      "[2024-07-25 19:17:33 +0000][promptflow._core.entry_meta_generator][WARNING] - Generate meta in current process and timeout won't take effect. Please handle timeout manually outside current process.\n"
     ]
    },
    {
     "name": "stdout",
     "output_type": "stream",
     "text": [
      "2024-07-25 19:17:33 +0000   64805 execution.bulk     INFO     Current thread is not main thread, skip signal handler registration in BatchEngine.\n",
      "2024-07-25 19:17:33 +0000   64805 execution.bulk     INFO     Set process count to 1 by taking the minimum value among the factors of {'default_worker_count': 4, 'row_count': 1}.\n"
     ]
    },
    {
     "name": "stderr",
     "output_type": "stream",
     "text": [
      "[2024-07-25 19:17:34 +0000][promptflow._sdk._orchestrator.run_submitter][INFO] - Submitting run src_evaluators_match_evaluator_matchevaluator_qxrlkkqx_20240725_191732_507704, log path: /home/vscode/.promptflow/.runs/src_evaluators_match_evaluator_matchevaluator_qxrlkkqx_20240725_191732_507704/logs.txt\n"
     ]
    },
    {
     "name": "stdout",
     "output_type": "stream",
     "text": [
      "You can view the traces in local from http://127.0.0.1:23333/v1.0/ui/traces/?#run=src_evaluators_match_evaluator_matchevaluator_48iv47ph_20240725_191732_591298\n"
     ]
    },
    {
     "name": "stderr",
     "output_type": "stream",
     "text": [
      "[2024-07-25 19:17:34 +0000][promptflow._core.entry_meta_generator][WARNING] - Generate meta in current process and timeout won't take effect. Please handle timeout manually outside current process.\n",
      "[2024-07-25 19:17:34 +0000][promptflow._sdk._orchestrator.run_submitter][INFO] - Submitting run src_evaluators_match_evaluator_matchevaluator_48iv47ph_20240725_191732_591298, log path: /home/vscode/.promptflow/.runs/src_evaluators_match_evaluator_matchevaluator_48iv47ph_20240725_191732_591298/logs.txt\n"
     ]
    },
    {
     "name": "stdout",
     "output_type": "stream",
     "text": [
      "Prompt flow service has started...\n"
     ]
    },
    {
     "name": "stderr",
     "output_type": "stream",
     "text": [
      "[2024-07-25 19:17:35 +0000][promptflow._core.entry_meta_generator][WARNING] - Generate meta in current process and timeout won't take effect. Please handle timeout manually outside current process.\n",
      "[2024-07-25 19:17:35 +0000][promptflow._sdk._orchestrator.run_submitter][INFO] - Submitting run src_evaluators_json_evaluator_jsonevaluator_evg7eql1_20240725_191734_708162, log path: /home/vscode/.promptflow/.runs/src_evaluators_json_evaluator_jsonevaluator_evg7eql1_20240725_191734_708162/logs.txt\n"
     ]
    },
    {
     "name": "stdout",
     "output_type": "stream",
     "text": [
      "You can view the traces in local from http://127.0.0.1:23333/v1.0/ui/traces/?#run=src_evaluators_json_evaluator_jsonevaluator_evg7eql1_20240725_191734_708162\n",
      "2024-07-25 19:17:38 +0000   64805 execution.bulk     INFO     Finished 1 / 1 lines.\n",
      "2024-07-25 19:17:38 +0000   64805 execution.bulk     INFO     Average execution time for completed lines: 11.07 seconds. Estimated time for incomplete lines: 0.0 seconds.\n",
      "2024-07-25 19:17:38 +0000   64805 execution.bulk     INFO     The thread monitoring the process [79103-ForkProcess-153:1] will be terminated.\n",
      "2024-07-25 19:17:38 +0000   64805 execution.bulk     INFO     Finished 1 / 1 lines.\n",
      "2024-07-25 19:17:38 +0000   64805 execution.bulk     INFO     Average execution time for completed lines: 6.02 seconds. Estimated time for incomplete lines: 0.0 seconds.\n",
      "2024-07-25 19:17:38 +0000   64805 execution.bulk     INFO     The thread monitoring the process [80766-ForkProcess-160:1] will be terminated.\n",
      "2024-07-25 19:17:38 +0000   64805 execution.bulk     INFO     Finished 1 / 1 lines.\n",
      "2024-07-25 19:17:38 +0000   64805 execution.bulk     INFO     Average execution time for completed lines: 11.06 seconds. Estimated time for incomplete lines: 0.0 seconds.\n",
      "2024-07-25 19:17:38 +0000   64805 execution.bulk     INFO     The thread monitoring the process [79120-ForkProcess-154:1] will be terminated.\n",
      "2024-07-25 19:17:38 +0000   64805 execution.bulk     INFO     Finished 1 / 1 lines.\n",
      "2024-07-25 19:17:38 +0000   64805 execution.bulk     INFO     Average execution time for completed lines: 11.17 seconds. Estimated time for incomplete lines: 0.0 seconds.\n",
      "2024-07-25 19:17:38 +0000   64805 execution.bulk     INFO     The thread monitoring the process [79163-ForkProcess-155:1] will be terminated.\n",
      "2024-07-25 19:17:38 +0000   64805 execution.bulk     INFO     Finished 1 / 1 lines.\n",
      "2024-07-25 19:17:38 +0000   64805 execution.bulk     INFO     Finished 1 / 1 lines.\n",
      "2024-07-25 19:17:38 +0000   64805 execution.bulk     INFO     Average execution time for completed lines: 4.02 seconds. Estimated time for incomplete lines: 0.0 seconds.\n",
      "2024-07-25 19:17:38 +0000   64805 execution.bulk     INFO     Average execution time for completed lines: 11.09 seconds. Estimated time for incomplete lines: 0.0 seconds.\n",
      "2024-07-25 19:17:38 +0000   64805 execution.bulk     INFO     The thread monitoring the process [82508-ForkProcess-166:1] will be terminated.\n",
      "2024-07-25 19:17:38 +0000   64805 execution.bulk     INFO     The thread monitoring the process [79184-ForkProcess-156:1] will be terminated.\n",
      "2024-07-25 19:17:38 +0000   64805 execution.bulk     INFO     Process name(ForkProcess-176:1)-Process id(82655)-Line number(0) start execution.\n",
      "2024-07-25 19:17:38 +0000   64805 execution.bulk     INFO     Process name(ForkProcess-176:1)-Process id(82655)-Line number(0) completed.\n",
      "2024-07-25 19:17:38 +0000   64805 execution.bulk     INFO     Finished 1 / 1 lines.\n",
      "2024-07-25 19:17:38 +0000   64805 execution.bulk     INFO     Average execution time for completed lines: 4.02 seconds. Estimated time for incomplete lines: 0.0 seconds.\n",
      "2024-07-25 19:17:38 +0000   64805 execution.bulk     INFO     The thread monitoring the process [82528-ForkProcess-168:1] will be terminated.\n",
      "2024-07-25 19:17:39 +0000   64805 execution.bulk     INFO     Finished 1 / 1 lines.\n",
      "2024-07-25 19:17:39 +0000   64805 execution.bulk     INFO     Average execution time for completed lines: 4.01 seconds. Estimated time for incomplete lines: 0.0 seconds.\n",
      "2024-07-25 19:17:39 +0000   64805 execution.bulk     INFO     The thread monitoring the process [82551-ForkProcess-171:1] will be terminated.\n",
      "2024-07-25 19:17:39 +0000   64805 execution.bulk     INFO     Process name(ForkProcess-177:1)-Process id(82696)-Line number(0) start execution.\n",
      "2024-07-25 19:17:39 +0000   64805 execution.bulk     INFO     Process name(ForkProcess-178:1)-Process id(82699)-Line number(0) start execution.\n",
      "2024-07-25 19:17:39 +0000   64805 execution.bulk     INFO     Process name(ForkProcess-178:1)-Process id(82699)-Line number(0) completed.\n",
      "2024-07-25 19:17:39 +0000   64805 execution.bulk     INFO     Process name(ForkProcess-177:1)-Process id(82696)-Line number(0) completed.\n",
      "2024-07-25 19:17:39 +0000   64805 execution.bulk     INFO     Process name(ForkProcess-173:1)-Process id(82570)-Line number(0) start execution.\n",
      "2024-07-25 19:17:39 +0000   64805 execution.bulk     INFO     Process name(ForkProcess-173:1)-Process id(82570)-Line number(0) completed.\n",
      "2024-07-25 19:17:39 +0000   64805 execution.bulk     INFO     Process name(ForkProcess-174:1)-Process id(82612)-Line number(0) start execution.\n",
      "2024-07-25 19:17:39 +0000   64805 execution.bulk     INFO     Process name(ForkProcess-174:1)-Process id(82612)-Line number(0) completed.\n",
      "2024-07-25 19:17:39 +0000   64805 execution.bulk     INFO     Process name(ForkProcess-175:1)-Process id(82640)-Line number(0) start execution.\n",
      "2024-07-25 19:17:39 +0000   64805 execution.bulk     INFO     Finished 1 / 1 lines.\n",
      "2024-07-25 19:17:39 +0000   64805 execution.bulk     INFO     Average execution time for completed lines: 4.01 seconds. Estimated time for incomplete lines: 0.0 seconds.\n",
      "2024-07-25 19:17:39 +0000   64805 execution.bulk     INFO     The thread monitoring the process [82655-ForkProcess-176:1] will be terminated.\n",
      "2024-07-25 19:17:39 +0000   64805 execution.bulk     INFO     Process name(ForkProcess-175:1)-Process id(82640)-Line number(0) completed.\n",
      "2024-07-25 19:17:40 +0000   64805 execution.bulk     INFO     Finished 1 / 1 lines.\n",
      "2024-07-25 19:17:40 +0000   64805 execution.bulk     INFO     Average execution time for completed lines: 4.05 seconds. Estimated time for incomplete lines: 0.0 seconds.\n",
      "2024-07-25 19:17:40 +0000   64805 execution.bulk     INFO     Finished 1 / 1 lines.\n",
      "2024-07-25 19:17:40 +0000   64805 execution.bulk     INFO     Average execution time for completed lines: 4.12 seconds. Estimated time for incomplete lines: 0.0 seconds.\n",
      "2024-07-25 19:17:40 +0000   64805 execution.bulk     INFO     The thread monitoring the process [82696-ForkProcess-177:1] will be terminated.\n",
      "2024-07-25 19:17:40 +0000   64805 execution.bulk     INFO     The thread monitoring the process [82699-ForkProcess-178:1] will be terminated.\n",
      "2024-07-25 19:17:40 +0000   64805 execution.bulk     INFO     Process name(ForkProcess-180:1)-Process id(82750)-Line number(0) start execution.\n",
      "2024-07-25 19:17:40 +0000   64805 execution.bulk     INFO     Finished 1 / 1 lines.\n",
      "2024-07-25 19:17:40 +0000   64805 execution.bulk     INFO     Average execution time for completed lines: 5.03 seconds. Estimated time for incomplete lines: 0.0 seconds.\n",
      "2024-07-25 19:17:40 +0000   64805 execution.bulk     INFO     Process name(ForkProcess-180:1)-Process id(82750)-Line number(0) completed.\n",
      "2024-07-25 19:17:40 +0000   64805 execution.bulk     INFO     The thread monitoring the process [82570-ForkProcess-173:1] will be terminated.\n",
      "2024-07-25 19:17:40 +0000   64805 execution.bulk     INFO     Finished 1 / 1 lines.\n",
      "2024-07-25 19:17:40 +0000   64805 execution.bulk     INFO     Average execution time for completed lines: 5.02 seconds. Estimated time for incomplete lines: 0.0 seconds.\n",
      "2024-07-25 19:17:40 +0000   64805 execution.bulk     INFO     The thread monitoring the process [82612-ForkProcess-174:1] will be terminated.\n",
      "2024-07-25 19:17:40 +0000   64805 execution.bulk     INFO     Finished 1 / 1 lines.\n",
      "2024-07-25 19:17:40 +0000   64805 execution.bulk     INFO     Average execution time for completed lines: 5.03 seconds. Estimated time for incomplete lines: 0.0 seconds.\n",
      "2024-07-25 19:17:40 +0000   64805 execution.bulk     INFO     The thread monitoring the process [82640-ForkProcess-175:1] will be terminated.\n",
      "2024-07-25 19:17:41 +0000   64805 execution.bulk     INFO     Finished 1 / 1 lines.\n",
      "2024-07-25 19:17:41 +0000   64805 execution.bulk     INFO     Average execution time for completed lines: 4.02 seconds. Estimated time for incomplete lines: 0.0 seconds.\n",
      "2024-07-25 19:17:41 +0000   64805 execution.bulk     INFO     The thread monitoring the process [82750-ForkProcess-180:1] will be terminated.\n"
     ]
    }
   ],
   "source": [
    "import json\n",
    "import sys\n",
    "if module_path not in sys.path:\n",
    "    sys.path.append(module_path)\n",
    "\n",
    "from pprint import pprint\n",
    "from promptflow.evals.evaluate import evaluate\n",
    "from src.evaluators.match_evaluator import load_match_evaluators\n",
    "from src.evaluators.json_evaluator import JsonEvaluator\n",
    "import time\n",
    "import json\n",
    "from pprint import pprint\n",
    "import time\n",
    "import json\n",
    "\n",
    "def compile_jsonl(ground_truth_path, actual_output_path, output_file):\n",
    "    # Read the ground truth JSON file\n",
    "    with open(ground_truth_path, 'r') as gt_file:\n",
    "        ground_truth = json.load(gt_file)\n",
    "\n",
    "    # Open the output file\n",
    "    with open(output_file, 'w') as out_file:\n",
    "        # Iterate over each actual output JSON file\n",
    "        with open(actual_output_path, 'r') as af:\n",
    "            actual_data = json.load(af)\n",
    "            # Combine ground truth and actual data into one object\n",
    "            combined_data = {\"ground_truth\": ground_truth, \"actual\": actual_data}\n",
    "            # Write the combined data as a single line in the jsonl file\n",
    "            out_file.write(json.dumps(combined_data) + '\\n')\n",
    "\n",
    "\n",
    "ground_truth_path = f\"{module_path}/demo/default-dataset/ground_truth.json\"\n",
    "eval_data_path = f\"{module_path}/demo/default-dataset/eval_data3.jsonl\"\n",
    "\n",
    "compile_jsonl(ground_truth_path, actual_output_path, eval_data_path)\n",
    "\n",
    "with open(eval_data_path) as file:\n",
    "    data = json.load(file)\n",
    "    ground_truth = data[\"ground_truth\"]\n",
    "\n",
    "match_evaluator_config = {}\n",
    "match_eval_collumn_mapping = {\"actual\": \"${data.actual}\", \"ground_truth\": \"${data.ground_truth}\"}\n",
    "evaluators, evaluator_config = load_match_evaluators(ground_truth=ground_truth, collumn_mapping=match_eval_collumn_mapping, config=match_evaluator_config)\n",
    "\n",
    "json_evaluator = JsonEvaluator(\n",
    "    config={\n",
    "        JsonEvaluator.Config.IGNORE_DOLLAR_SIGN: True,\n",
    "    }\n",
    ")\n",
    "evaluators[\"json_evaluator\"] = json_evaluator\n",
    "evaluator_config[\"json_evaluator\"] = {\n",
    "    \"actual\": \"${data.actual}\",\n",
    "    \"ground_truth\": \"${data.ground_truth}\",\n",
    "}\n",
    "\n",
    "timestamp = time.strftime(\"%m_%d.%H.%M.%S\")\n",
    "output_path = f\"{module_path}/notebooks/outputs/output_{timestamp}.json\"\n",
    "\n",
    "results = evaluate(\n",
    "    evaluation_name=\"test_eval_1\",\n",
    "    data=eval_data_path,\n",
    "    evaluators=evaluators,\n",
    "    evaluator_config=evaluator_config,\n",
    "    output_path=output_path\n",
    ")\n",
    "pprint(results)\n"
   ]
  }
 ],
 "metadata": {
  "kernelspec": {
   "display_name": "Python 3",
   "language": "python",
   "name": "python3"
  },
  "language_info": {
   "codemirror_mode": {
    "name": "ipython",
    "version": 3
   },
   "file_extension": ".py",
   "mimetype": "text/x-python",
   "name": "python",
   "nbconvert_exporter": "python",
   "pygments_lexer": "ipython3",
   "version": "3.9.19"
  }
 },
 "nbformat": 4,
 "nbformat_minor": 2
}
