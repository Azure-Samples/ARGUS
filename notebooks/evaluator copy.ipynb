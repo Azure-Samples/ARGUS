{
 "cells": [
  {
   "cell_type": "code",
   "execution_count": 1,
   "metadata": {},
   "outputs": [
    {
     "data": {
      "text/plain": [
       "True"
      ]
     },
     "execution_count": 1,
     "metadata": {},
     "output_type": "execute_result"
    }
   ],
   "source": [
    "import os\n",
    "import json\n",
    "import random\n",
    "from datetime import datetime\n",
    "import tempfile\n",
    "import base64\n",
    "from pathlib import Path\n",
    "\n",
    "import glob\n",
    "import json\n",
    "\n",
    "import sys\n",
    "\n",
    "module_path = os.path.abspath(os.path.join('..'))\n",
    "if module_path not in sys.path:\n",
    "    sys.path.append(module_path+\"/src/functionapp\")\n",
    "#On windows use  sys.path.append(module_path+\"\\\\src\\\\functionapp\")\n",
    "\n",
    "from ai_ocr.azure.openai_ops import load_image, get_size_of_base64_images\n",
    "from ai_ocr.azure.images import convert_pdf_into_image\n",
    "from ai_ocr.model import Config\n",
    "from ai_ocr.chains import get_structured_data\n",
    "from ai_ocr.azure.doc_intelligence import get_ocr_results\n",
    "\n",
    "from langchain_core.output_parsers.json import parse_json_markdown\n",
    "\n",
    "from dotenv import load_dotenv\n",
    "load_dotenv()"
   ]
  },
  {
   "cell_type": "markdown",
   "metadata": {},
   "source": [
    "### Prepare images"
   ]
  },
  {
   "cell_type": "code",
   "execution_count": 2,
   "metadata": {},
   "outputs": [
    {
     "name": "stdout",
     "output_type": "stream",
     "text": [
      "../demo/default-dataset/\n",
      "[]\n"
     ]
    }
   ],
   "source": [
    "#just testing that images are in the temp folder configured in the env\n",
    "\n",
    "input_path = '../demo/default-dataset/Invoice Sample.pdf'\n",
    "pdf_path = input_path.replace(input_path.split(\"/\")[-1], \"\")\n",
    "print(pdf_path)\n",
    "imgs_path = os.path.join(os.getcwd(), os.getenv(\"TEMP_IMAGES_OUTDIR\", \"\"))\n",
    "imgs = glob.glob(f\"{imgs_path}/page*.jpeg\")\n",
    "print(imgs)"
   ]
  },
  {
   "cell_type": "markdown",
   "metadata": {},
   "source": [
    "### Run the Solution once on the demo to produce an output.json"
   ]
  },
  {
   "cell_type": "code",
   "execution_count": 7,
   "metadata": {},
   "outputs": [
    {
     "name": "stdout",
     "output_type": "stream",
     "text": [
      "Saved image: /tmp/page_1.png\n",
      "Response: {\"Customer Name\": \"Henry Ross\", \"Invoice Number\": \"1234\", \"Date\": \"November 30, 2022\", \"Billing info\": {\"Customer\": \"Henry Ross\", \"Customer ID\": \"8675309\", \"Address\": \"123 Avenue A, Metropolis\", \"Phone\": \"(123) 456-7890\"}, \"Payment Due\": \"December 30, 2022\", \"Salesperson\": \"Luca Richter\", \"Payment Terms\": \"Cash or check\", \"Shipping info\": {\"Recipient\": \"Henry Ross\", \"Address\": \"123 Avenue A, Metropolis\", \"Phone\": \"(123) 456-7890\"}, \"Delivery Date\": \"December 7, 2022\", \"Shipping Method\": \"Ground\", \"Shipping Terms\": \"Returns not accepted\", \"Table\": {\"Items\": [{\"Qty\": \"10\", \"Item#\": \"123\", \"Description\": \"Baby chicks\", \"Unit price\": \"5.00\", \"Discount\": \"10%\", \"Line total\": \"45.00\"}, {\"Qty\": \"2\", \"Item#\": \"444\", \"Description\": \"Heat lamps\", \"Unit price\": \"24.00\", \"Discount\": \"\", \"Line total\": \"48.00\"}, {\"Qty\": \"6\", \"Item#\": \"120\", \"Description\": \"Chicken roosts\", \"Unit price\": \"30.00\", \"Discount\": \"\", \"Line total\": \"180.00\"}], \"Total Discount\": \"5.00\", \"Subtotal\": \"278.00\", \"Sales Tax\": \"13.90\", \"Total\": \"286.90\"}, \"Footer\": {\"Customer Name\": \"Happiest Valley Farms\", \"Address\": \"456 Anyroad, Anywhere\", \"Website\": \"interestingsite.com\", \"Phone number\": \"(123) 987-6543\", \"Fax number\": \"(123) 987-6542\", \"Email\": \"happiest@example.com\"}}\n"
     ]
    }
   ],
   "source": [
    "system_prompt =  ''\n",
    "with open('../demo/default-dataset/system_prompt.txt', 'r') as file_sys_prompt:\n",
    "    system_prompt = file_sys_prompt.read()\n",
    "\n",
    "output_schema = ''\n",
    "with open('../demo/default-dataset/output_schema.json', 'r') as file_output_schema:\n",
    "    output_schema = file_output_schema.read()\n",
    "\n",
    "input_path = '../demo/default-dataset/Invoice Sample.pdf'\n",
    "\n",
    "\n",
    "ocr_start_time = datetime.now()\n",
    "ocr_result = get_ocr_results(input_path)\n",
    "   \n",
    " # Extract images from the PDF\n",
    "convert_pdf_into_image(input_path)\n",
    "    \n",
    " # Ensure the /tmp/ directory exists\n",
    "imgs_path = \"/tmp/\"\n",
    "os.makedirs(imgs_path, exist_ok=True)\n",
    "    \n",
    "# Determine the path for the temporary images\n",
    "imgs = glob.glob(f\"{imgs_path}/page*.jpeg\")\n",
    "    \n",
    "# Limit images by config\n",
    "imgs = imgs[:8]\n",
    "imgs = [load_image(img) for img in imgs]\n",
    "    \n",
    "# Check and reduce images total size if over 20MB\n",
    "max_size = 20 * 1024 * 1024  # 20MB\n",
    "while get_size_of_base64_images(imgs) > max_size:\n",
    "    imgs.pop()\n",
    "    \n",
    "# Get structured data\n",
    "structured = get_structured_data(ocr_result.content, system_prompt, output_schema, imgs)\n",
    "\n",
    "# Delete all generated images created after processing\n",
    "for img_path in glob.glob(f\"{imgs_path}/page*.jpeg\"):\n",
    "    try:\n",
    "        os.remove(img_path)\n",
    "        print(f\"Deleted image: {img_path}\")\n",
    "    except Exception as e:\n",
    "        print(f\"Error deleting image {img_path}: {e}\")\n",
    "    \n",
    "# Parse structured data and return as JSON\n",
    "x = parse_json_markdown(structured.content)  \n",
    "response = json.dumps(x)\n",
    "\n",
    "print(f'Response: {response}')\n",
    "\n",
    "with open('output.json', 'w') as f:\n",
    "    f.write(response)"
   ]
  },
  {
   "cell_type": "code",
   "execution_count": null,
   "metadata": {},
   "outputs": [],
   "source": []
  },
  {
   "cell_type": "markdown",
   "metadata": {},
   "source": [
    "### Load the input (an output from previous LLM run), ground truth and create a jsonl file\n"
   ]
  },
  {
   "cell_type": "code",
   "execution_count": 11,
   "metadata": {},
   "outputs": [
    {
     "ename": "NameError",
     "evalue": "name 'actual_file' is not defined",
     "output_type": "error",
     "traceback": [
      "\u001b[0;31m---------------------------------------------------------------------------\u001b[0m",
      "\u001b[0;31mNameError\u001b[0m                                 Traceback (most recent call last)",
      "Cell \u001b[0;32mIn[11], line 24\u001b[0m\n\u001b[1;32m     21\u001b[0m actual_output_path \u001b[38;5;241m=\u001b[39m \u001b[38;5;124m'\u001b[39m\u001b[38;5;124moutput.json\u001b[39m\u001b[38;5;124m'\u001b[39m\n\u001b[1;32m     22\u001b[0m output_file \u001b[38;5;241m=\u001b[39m \u001b[38;5;124m'\u001b[39m\u001b[38;5;124m../demo/default-dataset/eval_data.jsonl\u001b[39m\u001b[38;5;124m'\u001b[39m\n\u001b[0;32m---> 24\u001b[0m \u001b[43mcompile_jsonl\u001b[49m\u001b[43m(\u001b[49m\u001b[43mground_truth_path\u001b[49m\u001b[43m,\u001b[49m\u001b[43m \u001b[49m\u001b[43mactual_output_path\u001b[49m\u001b[43m,\u001b[49m\u001b[43m \u001b[49m\u001b[43moutput_file\u001b[49m\u001b[43m)\u001b[49m\n",
      "Cell \u001b[0;32mIn[11], line 15\u001b[0m, in \u001b[0;36mcompile_jsonl\u001b[0;34m(ground_truth_path, actual_output_path, output_file)\u001b[0m\n\u001b[1;32m     13\u001b[0m actual_data \u001b[38;5;241m=\u001b[39m json\u001b[38;5;241m.\u001b[39mload(af)\n\u001b[1;32m     14\u001b[0m \u001b[38;5;66;03m# Combine ground truth and actual data into one object\u001b[39;00m\n\u001b[0;32m---> 15\u001b[0m combined_data \u001b[38;5;241m=\u001b[39m {\u001b[38;5;124m\"\u001b[39m\u001b[38;5;124mground_truth\u001b[39m\u001b[38;5;124m\"\u001b[39m: ground_truth, \u001b[38;5;124m\"\u001b[39m\u001b[38;5;124mactual\u001b[39m\u001b[38;5;124m\"\u001b[39m: actual_data, \u001b[38;5;124m\"\u001b[39m\u001b[38;5;124mfilename\u001b[39m\u001b[38;5;124m\"\u001b[39m:\u001b[43mactual_file\u001b[49m}\n\u001b[1;32m     16\u001b[0m \u001b[38;5;66;03m# Write the combined data as a single line in the jsonl file\u001b[39;00m\n\u001b[1;32m     17\u001b[0m out_file\u001b[38;5;241m.\u001b[39mwrite(json\u001b[38;5;241m.\u001b[39mdumps(combined_data) \u001b[38;5;241m+\u001b[39m \u001b[38;5;124m'\u001b[39m\u001b[38;5;130;01m\\n\u001b[39;00m\u001b[38;5;124m'\u001b[39m)\n",
      "\u001b[0;31mNameError\u001b[0m: name 'actual_file' is not defined"
     ]
    }
   ],
   "source": [
    "import json\n",
    "import os\n",
    "\n",
    "def compile_jsonl(ground_truth_path, actual_output_path, output_file):\n",
    "    # Read the ground truth JSON file\n",
    "    with open(ground_truth_path, 'r') as gt_file:\n",
    "        ground_truth = json.load(gt_file)\n",
    "\n",
    "    # Open the output file\n",
    "    with open(output_file, 'w') as out_file:\n",
    "        # Iterate over each actual output JSON file\n",
    "        with open(actual_output_path, 'r') as af:\n",
    "            actual_data = json.load(af)\n",
    "            # Combine ground truth and actual data into one object\n",
    "            combined_data = {\"ground_truth\": ground_truth, \"actual\": actual_data}\n",
    "            # Write the combined data as a single line in the jsonl file\n",
    "            out_file.write(json.dumps(combined_data) + '\\n')\n",
    "\n",
    "\n",
    "ground_truth_path = '../demo/default-dataset/ground_truth.json'\n",
    "actual_output_path = 'output.json'\n",
    "output_file = '../demo/default-dataset/eval_data.jsonl'\n",
    "\n",
    "compile_jsonl(ground_truth_path, actual_output_path, output_file)\n"
   ]
  }
 ],
 "metadata": {
  "kernelspec": {
   "display_name": "Python 3",
   "language": "python",
   "name": "python3"
  },
  "language_info": {
   "codemirror_mode": {
    "name": "ipython",
    "version": 3
   },
   "file_extension": ".py",
   "mimetype": "text/x-python",
   "name": "python",
   "nbconvert_exporter": "python",
   "pygments_lexer": "ipython3",
   "version": "3.9.16"
  }
 },
 "nbformat": 4,
 "nbformat_minor": 2
}
