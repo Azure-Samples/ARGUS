{
 "cells": [
  {
   "cell_type": "code",
   "execution_count": 1,
   "metadata": {},
   "outputs": [
    {
     "data": {
      "text/plain": [
       "True"
      ]
     },
     "execution_count": 1,
     "metadata": {},
     "output_type": "execute_result"
    }
   ],
   "source": [
    "import os\n",
    "import json\n",
    "import random\n",
    "from datetime import datetime\n",
    "import tempfile\n",
    "import base64\n",
    "from pathlib import Path\n",
    "\n",
    "import glob\n",
    "import json\n",
    "\n",
    "import sys\n",
    "\n",
    "module_path = os.path.abspath(os.path.join('..'))\n",
    "if module_path not in sys.path:\n",
    "    sys.path.append(module_path+\"/src/functionapp\")\n",
    "#On windows use  sys.path.append(module_path+\"\\\\src\\\\functionapp\")\n",
    "\n",
    "from ai_ocr.azure.openai_ops import load_image, get_size_of_base64_images\n",
    "from ai_ocr.azure.images import convert_pdf_into_image\n",
    "from ai_ocr.model import Config\n",
    "from ai_ocr.chains import get_structured_data\n",
    "from ai_ocr.azure.doc_intelligence import get_ocr_results\n",
    "\n",
    "from langchain_core.output_parsers.json import parse_json_markdown\n",
    "\n",
    "from dotenv import load_dotenv\n",
    "load_dotenv()"
   ]
  },
  {
   "cell_type": "markdown",
   "metadata": {},
   "source": [
    "### Prepare images"
   ]
  },
  {
   "cell_type": "code",
   "execution_count": 2,
   "metadata": {},
   "outputs": [
    {
     "name": "stdout",
     "output_type": "stream",
     "text": [
      "../demo/default-dataset/\n",
      "[]\n"
     ]
    }
   ],
   "source": [
    "#just testing that images are in the temp folder configured in the env\n",
    "\n",
    "input_path = '../demo/default-dataset/Invoice Sample.pdf'\n",
    "pdf_path = input_path.replace(input_path.split(\"/\")[-1], \"\")\n",
    "print(pdf_path)\n",
    "imgs_path = os.path.join(os.getcwd(), os.getenv(\"TEMP_IMAGES_OUTDIR\", \"\"))\n",
    "imgs = glob.glob(f\"{imgs_path}/page*.jpeg\")\n",
    "print(imgs)"
   ]
  },
  {
   "cell_type": "markdown",
   "metadata": {},
   "source": [
    "### Run the Solution once on the demo to produce an output.json"
   ]
  },
  {
   "cell_type": "code",
   "execution_count": 3,
   "metadata": {},
   "outputs": [
    {
     "name": "stdout",
     "output_type": "stream",
     "text": [
      "Saved image: /tmp/page_1.png\n",
      "Response: {\"Customer Name\": \"Henry Ross\", \"Invoice Number\": \"1234\", \"Date\": \"November 30, 2022\", \"Billing info\": {\"Customer\": \"Henry Ross\", \"Customer ID\": \"8675309\", \"Address\": \"123 Avenue A, Metropolis\", \"Phone\": \"(123) 456-7890\"}, \"Payment Due\": \"December 30, 2022\", \"Salesperson\": \"Luca Richter\", \"Payment Terms\": \"Cash or check\", \"Shipping info\": {\"Recipient\": \"Henry Ross\", \"Address\": \"123 Avenue A, Metropolis\", \"Phone\": \"(123) 456-7890\"}, \"Delivery Date\": \"December 7, 2022\", \"Shipping Method\": \"Ground\", \"Shipping Terms\": \"Returns not accepted\", \"Table\": {\"Items\": [{\"Qty\": \"10\", \"Item#\": \"123\", \"Description\": \"Baby chicks\", \"Unit price\": \"5.00\", \"Discount\": \"10%\", \"Line total\": \"45.00\"}, {\"Qty\": \"2\", \"Item#\": \"444\", \"Description\": \"Heat lamps\", \"Unit price\": \"24.00\", \"Discount\": \"\", \"Line total\": \"48.00\"}, {\"Qty\": \"6\", \"Item#\": \"120\", \"Description\": \"Chicken roosts\", \"Unit price\": \"30.00\", \"Discount\": \"\", \"Line total\": \"180.00\"}], \"Total Discount\": \"5.00\", \"Subtotal\": \"278.00\", \"Sales Tax\": \"13.90\", \"Total\": \"286.90\"}, \"Footer\": {\"Customer Name\": \"Happiest Valley Farms\", \"Address\": \"456 Anyroad, Anywhere\", \"Website\": \"interestingsite.com\", \"Phone number\": \"(123) 987-6543\", \"Fax number\": \"(123) 987-6542\", \"Email\": \"happiest@example.com\"}}\n"
     ]
    }
   ],
   "source": [
    "system_prompt =  ''\n",
    "with open('../demo/default-dataset/system_prompt.txt', 'r') as file_sys_prompt:\n",
    "    system_prompt = file_sys_prompt.read()\n",
    "\n",
    "output_schema = ''\n",
    "with open('../demo/default-dataset/output_schema.json', 'r') as file_output_schema:\n",
    "    output_schema = file_output_schema.read()\n",
    "\n",
    "input_path = '../demo/default-dataset/Invoice Sample.pdf'\n",
    "\n",
    "\n",
    "ocr_start_time = datetime.now()\n",
    "ocr_result = get_ocr_results(input_path)\n",
    "   \n",
    " # Extract images from the PDF\n",
    "convert_pdf_into_image(input_path)\n",
    "    \n",
    " # Ensure the /tmp/ directory exists\n",
    "imgs_path = \"/tmp/\"\n",
    "os.makedirs(imgs_path, exist_ok=True)\n",
    "    \n",
    "# Determine the path for the temporary images\n",
    "imgs = glob.glob(f\"{imgs_path}/page*.jpeg\")\n",
    "    \n",
    "# Limit images by config\n",
    "imgs = imgs[:8]\n",
    "imgs = [load_image(img) for img in imgs]\n",
    "    \n",
    "# Check and reduce images total size if over 20MB\n",
    "max_size = 20 * 1024 * 1024  # 20MB\n",
    "while get_size_of_base64_images(imgs) > max_size:\n",
    "    imgs.pop()\n",
    "    \n",
    "# Get structured data\n",
    "structured = get_structured_data(ocr_result.content, system_prompt, output_schema, imgs)\n",
    "\n",
    "# Delete all generated images created after processing\n",
    "for img_path in glob.glob(f\"{imgs_path}/page*.jpeg\"):\n",
    "    try:\n",
    "        os.remove(img_path)\n",
    "        print(f\"Deleted image: {img_path}\")\n",
    "    except Exception as e:\n",
    "        print(f\"Error deleting image {img_path}: {e}\")\n",
    "    \n",
    "# Parse structured data and return as JSON\n",
    "x = parse_json_markdown(structured.content)  \n",
    "response = json.dumps(x)\n",
    "\n",
    "print(f'Response: {response}')\n",
    "\n",
    "actual_output_path = \"/tmp/output.json\"\n",
    "with open(actual_output_path, 'w') as f:\n",
    "    f.write(response)"
   ]
  },
  {
   "cell_type": "code",
   "execution_count": null,
   "metadata": {},
   "outputs": [],
   "source": []
  },
  {
   "cell_type": "markdown",
   "metadata": {},
   "source": [
    "### Load the input (an output from previous LLM run), ground truth and create a jsonl file\n"
   ]
  },
  {
   "cell_type": "code",
   "execution_count": 16,
   "metadata": {},
   "outputs": [],
   "source": [
    "import json\n",
    "import sys\n",
    "if module_path not in sys.path:\n",
    "    sys.path.append(module_path)\n",
    "\n",
    "import json\n",
    "import time\n",
    "from pprint import pprint\n",
    "from promptflow.evals.evaluate import evaluate\n",
    "from src.evaluators.match_evaluator import load_match_evaluators\n",
    "from src.evaluators.json_evaluator import JsonEvaluator\n",
    "\n",
    "def compile_jsonl(ground_truth_path, actual_output_path, output_file):\n",
    "    # Read the ground truth JSON file\n",
    "    with open(ground_truth_path, 'r') as gt_file:\n",
    "        ground_truth = json.load(gt_file)\n",
    "\n",
    "    with open(eval_schema_path, 'r') as eval_schema_file:\n",
    "        eval_schema = json.load(eval_schema_file)\n",
    "\n",
    "\n",
    "    def merge_dicts(ground_truth, eval_schema):\n",
    "        merged_dict = {}\n",
    "        \n",
    "        for key, value in ground_truth.items():\n",
    "            if isinstance(value, dict):\n",
    "                merged_dict[key] = merge_dicts(value, eval_schema.get(key, {}))\n",
    "            elif isinstance(value, list):\n",
    "                merged_dict[key] = {\n",
    "                    \"value\": value,\n",
    "                    \"eval\": eval_schema.get(key, [])\n",
    "                }\n",
    "            else:\n",
    "                merged_dict[key] = {\n",
    "                    \"value\": value,\n",
    "                    \"eval\": eval_schema.get(key, [])\n",
    "                }\n",
    "        \n",
    "        return merged_dict\n",
    "\n",
    "    # Open the output file\n",
    "    with open(output_file, 'w') as out_file:\n",
    "        # Iterate over each actual output JSON file\n",
    "        with open(actual_output_path, 'r') as af:\n",
    "            actual_data = json.load(af)\n",
    "            # Combine ground truth and actual data into one object\n",
    "            combined_data = {\"ground_truth\": ground_truth, \"actual\": actual_data, \"eval_schema\":eval_schema}\n",
    "            # Write the combined data as a single line in the jsonl file\n",
    "            out_file.write(json.dumps(combined_data) + '\\n')\n",
    "\n",
    "\n",
    "ground_truth_path = f\"{module_path}/demo/default-dataset/ground_truth.json\"\n",
    "eval_data_path = f\"{module_path}/demo/default-dataset/eval_data.jsonl\"\n",
    "eval_schema_path = f\"{module_path}/demo/default-dataset/evaluation_schema.json\"\n",
    "\n",
    "compile_jsonl(ground_truth_path, actual_output_path, eval_data_path)\n",
    "\n"
   ]
  },
  {
   "cell_type": "markdown",
   "metadata": {},
   "source": [
    "Evaluate using ground truth"
   ]
  },
  {
   "cell_type": "code",
   "execution_count": 18,
   "metadata": {},
   "outputs": [
    {
     "name": "stderr",
     "output_type": "stream",
     "text": [
      "[2024-07-29 16:22:20 -0700][promptflow._core.entry_meta_generator][WARNING] - Generate meta in current process and timeout won't take effect. Please handle timeout manually outside current process.\n",
      "[2024-07-29 16:22:20 -0700][promptflow._core.entry_meta_generator][WARNING] - Generate meta in current process and timeout won't take effect. Please handle timeout manually outside current process.\n",
      "[2024-07-29 16:22:20 -0700][promptflow._core.entry_meta_generator][WARNING] - Generate meta in current process and timeout won't take effect. Please handle timeout manually outside current process.\n",
      "[2024-07-29 16:22:20 -0700][promptflow._core.entry_meta_generator][WARNING] - Generate meta in current process and timeout won't take effect. Please handle timeout manually outside current process.\n",
      "[2024-07-29 16:22:20 -0700][promptflow._core.entry_meta_generator][WARNING] - Generate meta in current process and timeout won't take effect. Please handle timeout manually outside current process.\n",
      "[2024-07-29 16:22:20 -0700][promptflow._core.entry_meta_generator][WARNING] - Generate meta in current process and timeout won't take effect. Please handle timeout manually outside current process.\n",
      "[2024-07-29 16:22:20 -0700][promptflow._sdk._orchestrator.run_submitter][INFO] - Submitting run src_evaluators_match_evaluator_matchevaluator_2r0qf4nm_20240729_162220_316291, log path: /Users/anastasialinzbach/.promptflow/.runs/src_evaluators_match_evaluator_matchevaluator_2r0qf4nm_20240729_162220_316291/logs.txt\n",
      "[2024-07-29 16:22:20 -0700][promptflow._sdk._orchestrator.run_submitter][INFO] - Submitting run src_evaluators_match_evaluator_matchevaluator_u7qv16jz_20240729_162220_309520, log path: /Users/anastasialinzbach/.promptflow/.runs/src_evaluators_match_evaluator_matchevaluator_u7qv16jz_20240729_162220_309520/logs.txt\n",
      "[2024-07-29 16:22:20 -0700][promptflow._core.entry_meta_generator][WARNING] - Generate meta in current process and timeout won't take effect. Please handle timeout manually outside current process.\n",
      "[2024-07-29 16:22:20 -0700][promptflow._sdk._orchestrator.run_submitter][INFO] - Submitting run src_evaluators_match_evaluator_matchevaluator_fq5x9uow_20240729_162220_329388, log path: /Users/anastasialinzbach/.promptflow/.runs/src_evaluators_match_evaluator_matchevaluator_fq5x9uow_20240729_162220_329388/logs.txt\n",
      "[2024-07-29 16:22:20 -0700][promptflow._core.entry_meta_generator][WARNING] - Generate meta in current process and timeout won't take effect. Please handle timeout manually outside current process.\n",
      "[2024-07-29 16:22:20 -0700][promptflow._sdk._orchestrator.run_submitter][INFO] - Submitting run src_evaluators_match_evaluator_matchevaluator_9iml466x_20240729_162220_323857, log path: /Users/anastasialinzbach/.promptflow/.runs/src_evaluators_match_evaluator_matchevaluator_9iml466x_20240729_162220_323857/logs.txt\n",
      "[2024-07-29 16:22:20 -0700][promptflow._core.entry_meta_generator][WARNING] - Generate meta in current process and timeout won't take effect. Please handle timeout manually outside current process.\n",
      "[2024-07-29 16:22:20 -0700][promptflow._sdk._orchestrator.run_submitter][INFO] - Submitting run src_evaluators_match_evaluator_matchevaluator_oc9owyni_20240729_162220_330600, log path: /Users/anastasialinzbach/.promptflow/.runs/src_evaluators_match_evaluator_matchevaluator_oc9owyni_20240729_162220_330600/logs.txt\n",
      "[2024-07-29 16:22:20 -0700][promptflow._core.entry_meta_generator][WARNING] - Generate meta in current process and timeout won't take effect. Please handle timeout manually outside current process.\n",
      "[2024-07-29 16:22:20 -0700][promptflow._sdk._orchestrator.run_submitter][INFO] - Submitting run src_evaluators_match_evaluator_matchevaluator_z8nqki6t_20240729_162220_306598, log path: /Users/anastasialinzbach/.promptflow/.runs/src_evaluators_match_evaluator_matchevaluator_z8nqki6t_20240729_162220_306598/logs.txt\n",
      "[2024-07-29 16:22:20 -0700][promptflow._core.entry_meta_generator][WARNING] - Generate meta in current process and timeout won't take effect. Please handle timeout manually outside current process.\n",
      "[2024-07-29 16:22:20 -0700][promptflow._core.entry_meta_generator][WARNING] - Generate meta in current process and timeout won't take effect. Please handle timeout manually outside current process.\n",
      "[2024-07-29 16:22:20 -0700][promptflow._core.entry_meta_generator][WARNING] - Generate meta in current process and timeout won't take effect. Please handle timeout manually outside current process.\n",
      "[2024-07-29 16:22:20 -0700][promptflow._core.entry_meta_generator][WARNING] - Generate meta in current process and timeout won't take effect. Please handle timeout manually outside current process.\n",
      "[2024-07-29 16:22:20 -0700][promptflow._sdk._orchestrator.run_submitter][INFO] - Submitting run src_evaluators_match_evaluator_matchevaluator_y2fgrz1_20240729_162220_333004, log path: /Users/anastasialinzbach/.promptflow/.runs/src_evaluators_match_evaluator_matchevaluator_y2fgrz1_20240729_162220_333004/logs.txt\n",
      "[2024-07-29 16:22:20 -0700][promptflow._core.entry_meta_generator][WARNING] - Generate meta in current process and timeout won't take effect. Please handle timeout manually outside current process.\n",
      "[2024-07-29 16:22:20 -0700][promptflow._core.entry_meta_generator][WARNING] - Generate meta in current process and timeout won't take effect. Please handle timeout manually outside current process.\n",
      "[2024-07-29 16:22:20 -0700][promptflow._sdk._orchestrator.run_submitter][INFO] - Submitting run src_evaluators_match_evaluator_matchevaluator_8qufoicr_20240729_162220_319292, log path: /Users/anastasialinzbach/.promptflow/.runs/src_evaluators_match_evaluator_matchevaluator_8qufoicr_20240729_162220_319292/logs.txt\n",
      "[2024-07-29 16:22:20 -0700][promptflow._sdk._orchestrator.run_submitter][INFO] - Submitting run src_evaluators_match_evaluator_matchevaluator_34_m725t_20240729_162220_305918, log path: /Users/anastasialinzbach/.promptflow/.runs/src_evaluators_match_evaluator_matchevaluator_34_m725t_20240729_162220_305918/logs.txt\n",
      "[2024-07-29 16:22:20 -0700][promptflow._sdk._orchestrator.run_submitter][INFO] - Submitting run src_evaluators_match_evaluator_matchevaluator_a5l6vrhf_20240729_162220_327492, log path: /Users/anastasialinzbach/.promptflow/.runs/src_evaluators_match_evaluator_matchevaluator_a5l6vrhf_20240729_162220_327492/logs.txt\n",
      "[2024-07-29 16:22:20 -0700][promptflow._sdk._orchestrator.run_submitter][INFO] - Submitting run src_evaluators_match_evaluator_matchevaluator_wgit5dec_20240729_162220_332066, log path: /Users/anastasialinzbach/.promptflow/.runs/src_evaluators_match_evaluator_matchevaluator_wgit5dec_20240729_162220_332066/logs.txt\n",
      "[2024-07-29 16:22:20 -0700][promptflow._sdk._orchestrator.run_submitter][INFO] - Submitting run src_evaluators_match_evaluator_matchevaluator_uadoi7gh_20240729_162220_311935, log path: /Users/anastasialinzbach/.promptflow/.runs/src_evaluators_match_evaluator_matchevaluator_uadoi7gh_20240729_162220_311935/logs.txt\n",
      "[2024-07-29 16:22:20 -0700][promptflow._sdk._orchestrator.run_submitter][INFO] - Submitting run src_evaluators_match_evaluator_matchevaluator_e_zncp_o_20240729_162220_324505, log path: /Users/anastasialinzbach/.promptflow/.runs/src_evaluators_match_evaluator_matchevaluator_e_zncp_o_20240729_162220_324505/logs.txt\n",
      "[2024-07-29 16:22:20 -0700][promptflow._sdk._orchestrator.run_submitter][INFO] - Submitting run src_evaluators_match_evaluator_matchevaluator_al0r2jck_20240729_162220_311000, log path: /Users/anastasialinzbach/.promptflow/.runs/src_evaluators_match_evaluator_matchevaluator_al0r2jck_20240729_162220_311000/logs.txt\n",
      "[2024-07-29 16:22:20 -0700][promptflow._sdk._orchestrator.run_submitter][INFO] - Submitting run src_evaluators_match_evaluator_matchevaluator_qpyfdnrz_20240729_162220_320135, log path: /Users/anastasialinzbach/.promptflow/.runs/src_evaluators_match_evaluator_matchevaluator_qpyfdnrz_20240729_162220_320135/logs.txt\n",
      "[2024-07-29 16:22:20 -0700][promptflow._sdk._orchestrator.run_submitter][INFO] - Submitting run src_evaluators_match_evaluator_matchevaluator_1iazzj_8_20240729_162220_325617, log path: /Users/anastasialinzbach/.promptflow/.runs/src_evaluators_match_evaluator_matchevaluator_1iazzj_8_20240729_162220_325617/logs.txt\n"
     ]
    },
    {
     "name": "stdout",
     "output_type": "stream",
     "text": [
      "Prompt flow service has started...Prompt flow service has started...\n",
      "\n",
      "Prompt flow service has started...\n",
      "Prompt flow service has started...\n",
      "Prompt flow service has started...\n",
      "Prompt flow service has started...\n",
      "Prompt flow service has started...\n",
      "Prompt flow service has started...\n",
      "Prompt flow service has started...\n",
      "You can view the traces in local from http://127.0.0.1:23333/v1.0/ui/traces/?#run=src_evaluators_match_evaluator_matchevaluator_fq5x9uow_20240729_162220_329388\n",
      "Prompt flow service has started...\n",
      "You can view the traces in local from http://127.0.0.1:23333/v1.0/ui/traces/?#run=src_evaluators_match_evaluator_matchevaluator_2r0qf4nm_20240729_162220_316291\n",
      "You can view the traces in local from http://127.0.0.1:23333/v1.0/ui/traces/?#run=src_evaluators_match_evaluator_matchevaluator_u7qv16jz_20240729_162220_309520\n",
      "You can view the traces in local from http://127.0.0.1:23333/v1.0/ui/traces/?#run=src_evaluators_match_evaluator_matchevaluator_9iml466x_20240729_162220_323857\n",
      "Prompt flow service has started...\n",
      "You can view the traces in local from http://127.0.0.1:23333/v1.0/ui/traces/?#run=src_evaluators_match_evaluator_matchevaluator_z8nqki6t_20240729_162220_306598\n",
      "You can view the traces in local from http://127.0.0.1:23333/v1.0/ui/traces/?#run=src_evaluators_match_evaluator_matchevaluator_oc9owyni_20240729_162220_330600\n",
      "Prompt flow service has started...\n",
      "Prompt flow service has started...\n",
      "You can view the traces in local from http://127.0.0.1:23333/v1.0/ui/traces/?#run=src_evaluators_match_evaluator_matchevaluator_al0r2jck_20240729_162220_311000\n",
      "You can view the traces in local from http://127.0.0.1:23333/v1.0/ui/traces/?#run=src_evaluators_match_evaluator_matchevaluator_8qufoicr_20240729_162220_319292\n",
      "You can view the traces in local from http://127.0.0.1:23333/v1.0/ui/traces/?#run=src_evaluators_match_evaluator_matchevaluator_qpyfdnrz_20240729_162220_320135\n",
      "You can view the traces in local from http://127.0.0.1:23333/v1.0/ui/traces/?#run=src_evaluators_match_evaluator_matchevaluator_34_m725t_20240729_162220_305918\n",
      "You can view the traces in local from http://127.0.0.1:23333/v1.0/ui/traces/?#run=src_evaluators_match_evaluator_matchevaluator_y2fgrz1_20240729_162220_333004\n",
      "Prompt flow service has started...\n",
      "Prompt flow service has started...\n",
      "Prompt flow service has started...\n",
      "You can view the traces in local from http://127.0.0.1:23333/v1.0/ui/traces/?#run=src_evaluators_match_evaluator_matchevaluator_a5l6vrhf_20240729_162220_327492\n",
      "You can view the traces in local from http://127.0.0.1:23333/v1.0/ui/traces/?#run=src_evaluators_match_evaluator_matchevaluator_wgit5dec_20240729_162220_332066\n",
      "You can view the traces in local from http://127.0.0.1:23333/v1.0/ui/traces/?#run=src_evaluators_match_evaluator_matchevaluator_uadoi7gh_20240729_162220_311935\n",
      "You can view the traces in local from http://127.0.0.1:23333/v1.0/ui/traces/?#run=src_evaluators_match_evaluator_matchevaluator_1iazzj_8_20240729_162220_325617\n",
      "You can view the traces in local from http://127.0.0.1:23333/v1.0/ui/traces/?#run=src_evaluators_match_evaluator_matchevaluator_e_zncp_o_20240729_162220_324505\n",
      "2024-07-29 16:22:34 -0700   86626 execution.bulk     INFO     Process 3736 terminated.\n",
      "Prompt flow service has started...\n",
      "Prompt flow service has started...\n"
     ]
    },
    {
     "name": "stderr",
     "output_type": "stream",
     "text": [
      "[2024-07-29 16:22:35 -0700][promptflow._core.entry_meta_generator][WARNING] - Generate meta in current process and timeout won't take effect. Please handle timeout manually outside current process.\n",
      "[2024-07-29 16:22:35 -0700][promptflow._core.entry_meta_generator][WARNING] - Generate meta in current process and timeout won't take effect. Please handle timeout manually outside current process.\n",
      "[2024-07-29 16:22:35 -0700][promptflow._core.entry_meta_generator][WARNING] - Generate meta in current process and timeout won't take effect. Please handle timeout manually outside current process.\n",
      "[2024-07-29 16:22:35 -0700][promptflow._core.entry_meta_generator][WARNING] - Generate meta in current process and timeout won't take effect. Please handle timeout manually outside current process.\n",
      "[2024-07-29 16:22:35 -0700][promptflow._core.entry_meta_generator][WARNING] - Generate meta in current process and timeout won't take effect. Please handle timeout manually outside current process.\n",
      "[2024-07-29 16:22:35 -0700][promptflow._core.entry_meta_generator][WARNING] - Generate meta in current process and timeout won't take effect. Please handle timeout manually outside current process.\n",
      "[2024-07-29 16:22:35 -0700][promptflow._sdk._orchestrator.run_submitter][INFO] - Submitting run src_evaluators_match_evaluator_matchevaluator_qds7icwn_20240729_162235_005637, log path: /Users/anastasialinzbach/.promptflow/.runs/src_evaluators_match_evaluator_matchevaluator_qds7icwn_20240729_162235_005637/logs.txt\n",
      "[2024-07-29 16:22:35 -0700][promptflow._core.entry_meta_generator][WARNING] - Generate meta in current process and timeout won't take effect. Please handle timeout manually outside current process.\n",
      "[2024-07-29 16:22:35 -0700][promptflow._core.entry_meta_generator][WARNING] - Generate meta in current process and timeout won't take effect. Please handle timeout manually outside current process.\n",
      "[2024-07-29 16:22:35 -0700][promptflow._sdk._orchestrator.run_submitter][INFO] - Submitting run src_evaluators_match_evaluator_matchevaluator_ppohjnoa_20240729_162234_923444, log path: /Users/anastasialinzbach/.promptflow/.runs/src_evaluators_match_evaluator_matchevaluator_ppohjnoa_20240729_162234_923444/logs.txt\n",
      "[2024-07-29 16:22:35 -0700][promptflow._sdk._orchestrator.run_submitter][INFO] - Submitting run src_evaluators_match_evaluator_matchevaluator_zs0bmbdj_20240729_162234_893248, log path: /Users/anastasialinzbach/.promptflow/.runs/src_evaluators_match_evaluator_matchevaluator_zs0bmbdj_20240729_162234_893248/logs.txt\n",
      "[2024-07-29 16:22:35 -0700][promptflow._sdk._orchestrator.run_submitter][INFO] - Submitting run src_evaluators_match_evaluator_matchevaluator_oa_ty4w1_20240729_162235_027433, log path: /Users/anastasialinzbach/.promptflow/.runs/src_evaluators_match_evaluator_matchevaluator_oa_ty4w1_20240729_162235_027433/logs.txt\n"
     ]
    },
    {
     "name": "stdout",
     "output_type": "stream",
     "text": [
      "Prompt flow service has started...\n",
      "Prompt flow service has started...\n",
      "You can view the traces in local from http://127.0.0.1:23333/v1.0/ui/traces/?#run=src_evaluators_match_evaluator_matchevaluator_oa_ty4w1_20240729_162235_027433\n",
      "You can view the traces in local from http://127.0.0.1:23333/v1.0/ui/traces/?#run=src_evaluators_match_evaluator_matchevaluator_qds7icwn_20240729_162235_005637\n",
      "Prompt flow service has started...\n",
      "Prompt flow service has started...\n",
      "You can view the traces in local from http://127.0.0.1:23333/v1.0/ui/traces/?#run=src_evaluators_match_evaluator_matchevaluator_ppohjnoa_20240729_162234_923444\n",
      "You can view the traces in local from http://127.0.0.1:23333/v1.0/ui/traces/?#run=src_evaluators_match_evaluator_matchevaluator_zs0bmbdj_20240729_162234_893248\n",
      "Prompt flow service has started...\n",
      "Prompt flow service has started...\n",
      "You can view the traces in local from http://127.0.0.1:23333/v1.0/ui/traces/?#run=src_evaluators_match_evaluator_matchevaluator_0y5n0x4e_20240729_162234_966993\n",
      "You can view the traces in local from http://127.0.0.1:23333/v1.0/ui/traces/?#run=src_evaluators_match_evaluator_matchevaluator_h73rp9ms_20240729_162234_878768\n",
      "You can view the traces in local from http://127.0.0.1:23333/v1.0/ui/traces/?#run=src_evaluators_match_evaluator_matchevaluator_jji3g1j0_20240729_162234_875175\n",
      "You can view the traces in local from http://127.0.0.1:23333/v1.0/ui/traces/?#run=src_evaluators_match_evaluator_matchevaluator_6op7kzc_20240729_162234_966542\n"
     ]
    },
    {
     "name": "stderr",
     "output_type": "stream",
     "text": [
      "[2024-07-29 16:22:35 -0700][promptflow._sdk._orchestrator.run_submitter][INFO] - Submitting run src_evaluators_match_evaluator_matchevaluator_h73rp9ms_20240729_162234_878768, log path: /Users/anastasialinzbach/.promptflow/.runs/src_evaluators_match_evaluator_matchevaluator_h73rp9ms_20240729_162234_878768/logs.txt\n",
      "[2024-07-29 16:22:35 -0700][promptflow._sdk._orchestrator.run_submitter][INFO] - Submitting run src_evaluators_match_evaluator_matchevaluator_jji3g1j0_20240729_162234_875175, log path: /Users/anastasialinzbach/.promptflow/.runs/src_evaluators_match_evaluator_matchevaluator_jji3g1j0_20240729_162234_875175/logs.txt\n",
      "[2024-07-29 16:22:35 -0700][promptflow._sdk._orchestrator.run_submitter][INFO] - Submitting run src_evaluators_match_evaluator_matchevaluator_0y5n0x4e_20240729_162234_966993, log path: /Users/anastasialinzbach/.promptflow/.runs/src_evaluators_match_evaluator_matchevaluator_0y5n0x4e_20240729_162234_966993/logs.txt\n",
      "[2024-07-29 16:22:35 -0700][promptflow._sdk._orchestrator.run_submitter][INFO] - Submitting run src_evaluators_match_evaluator_matchevaluator_6op7kzc_20240729_162234_966542, log path: /Users/anastasialinzbach/.promptflow/.runs/src_evaluators_match_evaluator_matchevaluator_6op7kzc_20240729_162234_966542/logs.txt\n",
      "[2024-07-29 16:22:35 -0700][promptflow._core.entry_meta_generator][WARNING] - Generate meta in current process and timeout won't take effect. Please handle timeout manually outside current process.\n",
      "[2024-07-29 16:22:35 -0700][promptflow._sdk._orchestrator.run_submitter][INFO] - Submitting run src_evaluators_match_evaluator_matchevaluator_dnex4da1_20240729_162235_129350, log path: /Users/anastasialinzbach/.promptflow/.runs/src_evaluators_match_evaluator_matchevaluator_dnex4da1_20240729_162235_129350/logs.txt\n"
     ]
    },
    {
     "name": "stdout",
     "output_type": "stream",
     "text": [
      "Prompt flow service has started...\n",
      "You can view the traces in local from http://127.0.0.1:23333/v1.0/ui/traces/?#run=src_evaluators_match_evaluator_matchevaluator_dnex4da1_20240729_162235_129350\n"
     ]
    },
    {
     "name": "stderr",
     "output_type": "stream",
     "text": [
      "[2024-07-29 16:22:35 -0700][promptflow._core.entry_meta_generator][WARNING] - Generate meta in current process and timeout won't take effect. Please handle timeout manually outside current process.\n",
      "[2024-07-29 16:22:35 -0700][promptflow._core.entry_meta_generator][WARNING] - Generate meta in current process and timeout won't take effect. Please handle timeout manually outside current process.\n",
      "[2024-07-29 16:22:35 -0700][promptflow._core.entry_meta_generator][WARNING] - Generate meta in current process and timeout won't take effect. Please handle timeout manually outside current process.\n",
      "[2024-07-29 16:22:35 -0700][promptflow._sdk._orchestrator.run_submitter][INFO] - Submitting run src_evaluators_match_evaluator_matchevaluator_8q_m_y8w_20240729_162235_202549, log path: /Users/anastasialinzbach/.promptflow/.runs/src_evaluators_match_evaluator_matchevaluator_8q_m_y8w_20240729_162235_202549/logs.txt\n",
      "[2024-07-29 16:22:35 -0700][promptflow._core.entry_meta_generator][WARNING] - Generate meta in current process and timeout won't take effect. Please handle timeout manually outside current process.\n",
      "[2024-07-29 16:22:35 -0700][promptflow._sdk._orchestrator.run_submitter][INFO] - Submitting run src_evaluators_match_evaluator_matchevaluator_womes6hc_20240729_162235_297959, log path: /Users/anastasialinzbach/.promptflow/.runs/src_evaluators_match_evaluator_matchevaluator_womes6hc_20240729_162235_297959/logs.txt\n",
      "[2024-07-29 16:22:36 -0700][promptflow._sdk._orchestrator.run_submitter][INFO] - Submitting run src_evaluators_match_evaluator_matchevaluator_jlscccin_20240729_162235_309854, log path: /Users/anastasialinzbach/.promptflow/.runs/src_evaluators_match_evaluator_matchevaluator_jlscccin_20240729_162235_309854/logs.txt\n",
      "[2024-07-29 16:22:36 -0700][promptflow._sdk._orchestrator.run_submitter][INFO] - Submitting run src_evaluators_match_evaluator_matchevaluator_q2m4gxtd_20240729_162235_282537, log path: /Users/anastasialinzbach/.promptflow/.runs/src_evaluators_match_evaluator_matchevaluator_q2m4gxtd_20240729_162235_282537/logs.txt\n"
     ]
    },
    {
     "name": "stdout",
     "output_type": "stream",
     "text": [
      "Prompt flow service has started...\n",
      "Prompt flow service has started...\n",
      "Prompt flow service has started...\n",
      "You can view the traces in local from http://127.0.0.1:23333/v1.0/ui/traces/?#run=src_evaluators_match_evaluator_matchevaluator_8q_m_y8w_20240729_162235_202549\n",
      "Prompt flow service has started...\n",
      "You can view the traces in local from http://127.0.0.1:23333/v1.0/ui/traces/?#run=src_evaluators_match_evaluator_matchevaluator_q2m4gxtd_20240729_162235_282537\n",
      "You can view the traces in local from http://127.0.0.1:23333/v1.0/ui/traces/?#run=src_evaluators_match_evaluator_matchevaluator_womes6hc_20240729_162235_297959\n",
      "You can view the traces in local from http://127.0.0.1:23333/v1.0/ui/traces/?#run=src_evaluators_match_evaluator_matchevaluator_jlscccin_20240729_162235_309854\n",
      "2024-07-29 16:22:36 -0700   86626 execution.bulk     INFO     Current thread is not main thread, skip signal handler registration in BatchEngine.\n",
      "2024-07-29 16:22:36 -0700   86626 execution.bulk     INFO     Current system's available memory is 10442.375MB, memory consumption of current process is 230.234375MB, estimated available worker count is 10442.375/230.234375 = 45\n",
      "2024-07-29 16:22:36 -0700   86626 execution.bulk     INFO     Set process count to 1 by taking the minimum value among the factors of {'default_worker_count': 4, 'row_count': 1, 'estimated_worker_count_based_on_memory_usage': 45}.\n",
      "Prompt flow service has started...\n",
      "You can view the traces in local from http://127.0.0.1:23333/v1.0/ui/traces/?#run=src_evaluators_match_evaluator_matchevaluator_hy5najll_20240729_162235_567646\n"
     ]
    },
    {
     "name": "stderr",
     "output_type": "stream",
     "text": [
      "[2024-07-29 16:22:36 -0700][promptflow._core.entry_meta_generator][WARNING] - Generate meta in current process and timeout won't take effect. Please handle timeout manually outside current process.\n",
      "[2024-07-29 16:22:36 -0700][promptflow._sdk._orchestrator.run_submitter][INFO] - Submitting run src_evaluators_match_evaluator_matchevaluator_hy5najll_20240729_162235_567646, log path: /Users/anastasialinzbach/.promptflow/.runs/src_evaluators_match_evaluator_matchevaluator_hy5najll_20240729_162235_567646/logs.txt\n"
     ]
    },
    {
     "name": "stdout",
     "output_type": "stream",
     "text": [
      "Prompt flow service has started...\n",
      "You can view the traces in local from http://127.0.0.1:23333/v1.0/ui/traces/?#run=src_evaluators_match_evaluator_matchevaluator_aemmpqcw_20240729_162235_628647\n"
     ]
    },
    {
     "name": "stderr",
     "output_type": "stream",
     "text": [
      "[2024-07-29 16:22:36 -0700][promptflow._core.entry_meta_generator][WARNING] - Generate meta in current process and timeout won't take effect. Please handle timeout manually outside current process.\n",
      "[2024-07-29 16:22:36 -0700][promptflow._sdk._orchestrator.run_submitter][INFO] - Submitting run src_evaluators_match_evaluator_matchevaluator_aemmpqcw_20240729_162235_628647, log path: /Users/anastasialinzbach/.promptflow/.runs/src_evaluators_match_evaluator_matchevaluator_aemmpqcw_20240729_162235_628647/logs.txt\n",
      "[2024-07-29 16:22:36 -0700][promptflow._core.entry_meta_generator][WARNING] - Generate meta in current process and timeout won't take effect. Please handle timeout manually outside current process.\n",
      "[2024-07-29 16:22:36 -0700][promptflow._sdk._orchestrator.run_submitter][INFO] - Submitting run src_evaluators_match_evaluator_matchevaluator_qpv9u1gm_20240729_162236_250684, log path: /Users/anastasialinzbach/.promptflow/.runs/src_evaluators_match_evaluator_matchevaluator_qpv9u1gm_20240729_162236_250684/logs.txt\n"
     ]
    },
    {
     "name": "stdout",
     "output_type": "stream",
     "text": [
      "Prompt flow service has started...\n",
      "You can view the traces in local from http://127.0.0.1:23333/v1.0/ui/traces/?#run=src_evaluators_match_evaluator_matchevaluator_qpv9u1gm_20240729_162236_250684\n",
      "2024-07-29 16:22:48 -0700   86626 execution.bulk     INFO     Process 3967 terminated.\n",
      "2024-07-29 16:22:48 -0700   86626 execution.bulk     INFO     Process 3946 terminated.\n",
      "2024-07-29 16:22:48 -0700   86626 execution.bulk     INFO     Process 3961 terminated.\n",
      "2024-07-29 16:22:48 -0700   86626 execution.bulk     INFO     Process 3962 terminated.\n",
      "2024-07-29 16:22:48 -0700   86626 execution.bulk     INFO     Process 3965 terminated.\n",
      "2024-07-29 16:22:48 -0700   86626 execution.bulk     INFO     Process 3963 terminated.\n",
      "2024-07-29 16:22:48 -0700   86626 execution.bulk     INFO     Process 3968 terminated.\n",
      "2024-07-29 16:22:48 -0700   86626 execution.bulk     INFO     Process 3964 terminated.\n"
     ]
    },
    {
     "name": "stderr",
     "output_type": "stream",
     "text": [
      "[2024-07-29 16:22:49 -0700][promptflow._core.entry_meta_generator][WARNING] - Generate meta in current process and timeout won't take effect. Please handle timeout manually outside current process.\n",
      "[2024-07-29 16:22:49 -0700][promptflow._core.entry_meta_generator][WARNING] - Generate meta in current process and timeout won't take effect. Please handle timeout manually outside current process.\n",
      "[2024-07-29 16:22:49 -0700][promptflow._core.entry_meta_generator][WARNING] - Generate meta in current process and timeout won't take effect. Please handle timeout manually outside current process.\n"
     ]
    },
    {
     "name": "stdout",
     "output_type": "stream",
     "text": [
      "Prompt flow service has started...\n",
      "Prompt flow service has started...\n",
      "Prompt flow service has started...\n",
      "You can view the traces in local from http://127.0.0.1:23333/v1.0/ui/traces/?#run=src_evaluators_match_evaluator_matchevaluator_wb5vehk0_20240729_162248_399868\n",
      "Prompt flow service has started...\n",
      "You can view the traces in local from http://127.0.0.1:23333/v1.0/ui/traces/?#run=src_evaluators_match_evaluator_matchevaluator_rt_u_uds_20240729_162248_466232\n",
      "You can view the traces in local from http://127.0.0.1:23333/v1.0/ui/traces/?#run=src_evaluators_match_evaluator_matchevaluator_vkhoqeon_20240729_162248_374008\n",
      "You can view the traces in local from http://127.0.0.1:23333/v1.0/ui/traces/?#run=src_evaluators_match_evaluator_matchevaluator_9cdndvel_20240729_162248_517111\n",
      "Prompt flow service has started...\n",
      "You can view the traces in local from http://127.0.0.1:23333/v1.0/ui/traces/?#run=src_evaluators_match_evaluator_matchevaluator_t7jenp3q_20240729_162248_572995\n"
     ]
    },
    {
     "name": "stderr",
     "output_type": "stream",
     "text": [
      "[2024-07-29 16:22:49 -0700][promptflow._core.entry_meta_generator][WARNING] - Generate meta in current process and timeout won't take effect. Please handle timeout manually outside current process.\n",
      "[2024-07-29 16:22:49 -0700][promptflow._sdk._orchestrator.run_submitter][INFO] - Submitting run src_evaluators_match_evaluator_matchevaluator_wb5vehk0_20240729_162248_399868, log path: /Users/anastasialinzbach/.promptflow/.runs/src_evaluators_match_evaluator_matchevaluator_wb5vehk0_20240729_162248_399868/logs.txt\n",
      "[2024-07-29 16:22:49 -0700][promptflow._core.entry_meta_generator][WARNING] - Generate meta in current process and timeout won't take effect. Please handle timeout manually outside current process.\n",
      "[2024-07-29 16:22:49 -0700][promptflow._sdk._orchestrator.run_submitter][INFO] - Submitting run src_evaluators_match_evaluator_matchevaluator_9cdndvel_20240729_162248_517111, log path: /Users/anastasialinzbach/.promptflow/.runs/src_evaluators_match_evaluator_matchevaluator_9cdndvel_20240729_162248_517111/logs.txt\n",
      "[2024-07-29 16:22:49 -0700][promptflow._sdk._orchestrator.run_submitter][INFO] - Submitting run src_evaluators_match_evaluator_matchevaluator_vkhoqeon_20240729_162248_374008, log path: /Users/anastasialinzbach/.promptflow/.runs/src_evaluators_match_evaluator_matchevaluator_vkhoqeon_20240729_162248_374008/logs.txt\n",
      "[2024-07-29 16:22:49 -0700][promptflow._sdk._orchestrator.run_submitter][INFO] - Submitting run src_evaluators_match_evaluator_matchevaluator_rt_u_uds_20240729_162248_466232, log path: /Users/anastasialinzbach/.promptflow/.runs/src_evaluators_match_evaluator_matchevaluator_rt_u_uds_20240729_162248_466232/logs.txt\n",
      "[2024-07-29 16:22:49 -0700][promptflow._sdk._orchestrator.run_submitter][INFO] - Submitting run src_evaluators_match_evaluator_matchevaluator_t7jenp3q_20240729_162248_572995, log path: /Users/anastasialinzbach/.promptflow/.runs/src_evaluators_match_evaluator_matchevaluator_t7jenp3q_20240729_162248_572995/logs.txt\n"
     ]
    },
    {
     "name": "stdout",
     "output_type": "stream",
     "text": [
      "2024-07-29 16:22:49 -0700   86626 execution.bulk     INFO     Current thread is not main thread, skip signal handler registration in BatchEngine.\n",
      "2024-07-29 16:22:49 -0700   86626 execution.bulk     INFO     Current thread is not main thread, skip signal handler registration in BatchEngine.\n",
      "2024-07-29 16:22:49 -0700   86626 execution.bulk     INFO     Current thread is not main thread, skip signal handler registration in BatchEngine.\n",
      "Prompt flow service has started...\n",
      "2024-07-29 16:22:49 -0700   86626 execution.bulk     INFO     Current system's available memory is 9737.234375MB, memory consumption of current process is 230.3125MB, estimated available worker count is 9737.234375/230.3125 = 42\n",
      "Prompt flow service has started...2024-07-29 16:22:49 -0700   86626 execution.bulk     INFO     Current thread is not main thread, skip signal handler registration in BatchEngine.\n",
      "\n",
      "2024-07-29 16:22:49 -0700   86626 execution.bulk     INFO     Current system's available memory is 9737.71875MB, memory consumption of current process is 230.3125MB, estimated available worker count is 9737.71875/230.3125 = 42\n",
      "You can view the traces in local from http://127.0.0.1:23333/v1.0/ui/traces/?#run=src_evaluators_match_evaluator_matchevaluator_jxu3lj04_20240729_162248_838665\n",
      "You can view the traces in local from http://127.0.0.1:23333/v1.0/ui/traces/?#run=src_evaluators_match_evaluator_matchevaluator_bvvqbk_20240729_162248_843666\n",
      "Prompt flow service has started...2024-07-29 16:22:49 -0700   86626 execution.bulk     INFO     Set process count to 1 by taking the minimum value among the factors of {'default_worker_count': 4, 'row_count': 1, 'estimated_worker_count_based_on_memory_usage': 42}.\n",
      "\n",
      "2024-07-29 16:22:49 -0700   86626 execution.bulk     INFO     Current thread is not main thread, skip signal handler registration in BatchEngine.\n",
      "2024-07-29 16:22:49 -0700   86626 execution.bulk     INFO     Set process count to 1 by taking the minimum value among the factors of {'default_worker_count': 4, 'row_count': 1, 'estimated_worker_count_based_on_memory_usage': 42}.\n",
      "You can view the traces in local from http://127.0.0.1:23333/v1.0/ui/traces/?#run=src_evaluators_match_evaluator_matchevaluator_po9ezkdz_20240729_162248_8438802024-07-29 16:22:49 -0700   86626 execution.bulk     INFO     Current system's available memory is 9725.453125MB, memory consumption of current process is 230.59375MB, estimated available worker count is 9725.453125/230.59375 = 42\n",
      "\n",
      "Prompt flow service has started...\n",
      "2024-07-29 16:22:49 -0700   86626 execution.bulk     INFO     Current system's available memory is 9721.546875MB, memory consumption of current process is 230.84375MB, estimated available worker count is 9721.546875/230.84375 = 42\n",
      "2024-07-29 16:22:49 -0700   86626 execution.bulk     INFO     Current system's available memory is 9721.546875MB, memory consumption of current process is 231.078125MB, estimated available worker count is 9721.546875/231.078125 = 42\n",
      "You can view the traces in local from http://127.0.0.1:23333/v1.0/ui/traces/?#run=src_evaluators_match_evaluator_matchevaluator_aslb8vz_20240729_162248_818261\n",
      "2024-07-29 16:22:49 -0700   86626 execution.bulk     INFO     Set process count to 1 by taking the minimum value among the factors of {'default_worker_count': 4, 'row_count': 1, 'estimated_worker_count_based_on_memory_usage': 42}.\n",
      "2024-07-29 16:22:49 -0700   86626 execution.bulk     INFO     Set process count to 1 by taking the minimum value among the factors of {'default_worker_count': 4, 'row_count': 1, 'estimated_worker_count_based_on_memory_usage': 42}.\n"
     ]
    },
    {
     "name": "stderr",
     "output_type": "stream",
     "text": [
      "[2024-07-29 16:22:49 -0700][promptflow._core.entry_meta_generator][WARNING] - Generate meta in current process and timeout won't take effect. Please handle timeout manually outside current process.\n",
      "[2024-07-29 16:22:49 -0700][promptflow._core.entry_meta_generator][WARNING] - Generate meta in current process and timeout won't take effect. Please handle timeout manually outside current process.\n",
      "[2024-07-29 16:22:49 -0700][promptflow._core.entry_meta_generator][WARNING] - Generate meta in current process and timeout won't take effect. Please handle timeout manually outside current process.\n",
      "[2024-07-29 16:22:49 -0700][promptflow._sdk._orchestrator.run_submitter][INFO] - Submitting run src_evaluators_match_evaluator_matchevaluator_jxu3lj04_20240729_162248_838665, log path: /Users/anastasialinzbach/.promptflow/.runs/src_evaluators_match_evaluator_matchevaluator_jxu3lj04_20240729_162248_838665/logs.txt\n",
      "[2024-07-29 16:22:49 -0700][promptflow._core.entry_meta_generator][WARNING] - Generate meta in current process and timeout won't take effect. Please handle timeout manually outside current process.\n",
      "[2024-07-29 16:22:49 -0700][promptflow._sdk._orchestrator.run_submitter][INFO] - Submitting run src_evaluators_match_evaluator_matchevaluator_bvvqbk_20240729_162248_843666, log path: /Users/anastasialinzbach/.promptflow/.runs/src_evaluators_match_evaluator_matchevaluator_bvvqbk_20240729_162248_843666/logs.txt\n",
      "[2024-07-29 16:22:49 -0700][promptflow._sdk._orchestrator.run_submitter][INFO] - Submitting run src_evaluators_match_evaluator_matchevaluator_po9ezkdz_20240729_162248_843880, log path: /Users/anastasialinzbach/.promptflow/.runs/src_evaluators_match_evaluator_matchevaluator_po9ezkdz_20240729_162248_843880/logs.txt\n",
      "[2024-07-29 16:22:49 -0700][promptflow._sdk._orchestrator.run_submitter][INFO] - Submitting run src_evaluators_match_evaluator_matchevaluator_aslb8vz_20240729_162248_818261, log path: /Users/anastasialinzbach/.promptflow/.runs/src_evaluators_match_evaluator_matchevaluator_aslb8vz_20240729_162248_818261/logs.txt\n",
      "[2024-07-29 16:22:49 -0700][promptflow._core.entry_meta_generator][WARNING] - Generate meta in current process and timeout won't take effect. Please handle timeout manually outside current process.\n",
      "[2024-07-29 16:22:49 -0700][promptflow._core.entry_meta_generator][WARNING] - Generate meta in current process and timeout won't take effect. Please handle timeout manually outside current process.\n",
      "[2024-07-29 16:22:49 -0700][promptflow._core.entry_meta_generator][WARNING] - Generate meta in current process and timeout won't take effect. Please handle timeout manually outside current process.\n",
      "[2024-07-29 16:22:49 -0700][promptflow._core.entry_meta_generator][WARNING] - Generate meta in current process and timeout won't take effect. Please handle timeout manually outside current process.\n"
     ]
    },
    {
     "name": "stdout",
     "output_type": "stream",
     "text": [
      "Prompt flow service has started...\n",
      "Prompt flow service has started...\n",
      "Prompt flow service has started...\n",
      "Prompt flow service has started...\n",
      "You can view the traces in local from http://127.0.0.1:23333/v1.0/ui/traces/?#run=src_evaluators_match_evaluator_matchevaluator_bnydtn88_20240729_162248_992289\n",
      "You can view the traces in local from http://127.0.0.1:23333/v1.0/ui/traces/?#run=src_evaluators_match_evaluator_matchevaluator_tyhzqxlx_20240729_162248_965150\n",
      "You can view the traces in local from http://127.0.0.1:23333/v1.0/ui/traces/?#run=src_evaluators_match_evaluator_matchevaluator_csvcy033_20240729_162249_013115\n",
      "You can view the traces in local from http://127.0.0.1:23333/v1.0/ui/traces/?#run=src_evaluators_json_evaluator_jsonevaluator_h3hux4o2_20240729_162249_029718\n"
     ]
    },
    {
     "name": "stderr",
     "output_type": "stream",
     "text": [
      "[2024-07-29 16:22:49 -0700][promptflow._sdk._orchestrator.run_submitter][INFO] - Submitting run src_evaluators_match_evaluator_matchevaluator_csvcy033_20240729_162249_013115, log path: /Users/anastasialinzbach/.promptflow/.runs/src_evaluators_match_evaluator_matchevaluator_csvcy033_20240729_162249_013115/logs.txt\n",
      "[2024-07-29 16:22:49 -0700][promptflow._sdk._orchestrator.run_submitter][INFO] - Submitting run src_evaluators_match_evaluator_matchevaluator_bnydtn88_20240729_162248_992289, log path: /Users/anastasialinzbach/.promptflow/.runs/src_evaluators_match_evaluator_matchevaluator_bnydtn88_20240729_162248_992289/logs.txt\n",
      "[2024-07-29 16:22:49 -0700][promptflow._sdk._orchestrator.run_submitter][INFO] - Submitting run src_evaluators_json_evaluator_jsonevaluator_h3hux4o2_20240729_162249_029718, log path: /Users/anastasialinzbach/.promptflow/.runs/src_evaluators_json_evaluator_jsonevaluator_h3hux4o2_20240729_162249_029718/logs.txt\n",
      "[2024-07-29 16:22:49 -0700][promptflow._sdk._orchestrator.run_submitter][INFO] - Submitting run src_evaluators_match_evaluator_matchevaluator_tyhzqxlx_20240729_162248_965150, log path: /Users/anastasialinzbach/.promptflow/.runs/src_evaluators_match_evaluator_matchevaluator_tyhzqxlx_20240729_162248_965150/logs.txt\n"
     ]
    },
    {
     "name": "stdout",
     "output_type": "stream",
     "text": [
      "2024-07-29 16:23:00 -0700   86626 execution.bulk     INFO     Process 4143 terminated.\n",
      "2024-07-29 16:23:00 -0700   86626 execution.bulk     INFO     Process 4142 terminated.\n",
      "2024-07-29 16:23:00 -0700   86626 execution.bulk     INFO     Process 4145 terminated.\n",
      "2024-07-29 16:23:00 -0700   86626 execution.bulk     INFO     Process 4144 terminated.\n",
      "2024-07-29 16:23:00 -0700   86626 execution.bulk     INFO     Process 4139 terminated.\n",
      "2024-07-29 16:23:00 -0700   86626 execution.bulk     INFO     Process 4141 terminated.\n",
      "2024-07-29 16:23:00 -0700   86626 execution.bulk     INFO     Process 4140 terminated.\n",
      "2024-07-29 16:23:00 -0700   86626 execution.bulk     INFO     Process 4138 terminated.\n",
      "2024-07-29 16:23:00 -0700   86626 execution          ERROR    1/1 flow run failed, indexes: [0], exception of index 0: Execution failure in 'JsonEvaluator.__call__': (AttributeError) 'JsonEvaluator' object has no attribute 'default_eval_config'\n"
     ]
    },
    {
     "name": "stderr",
     "output_type": "stream",
     "text": [
      "[2024-07-29 16:23:00 -0700][promptflow._sdk._orchestrator.run_submitter][WARNING] - 1 out of 1 runs failed in batch run.\n",
      " Please check out /Users/anastasialinzbach/.promptflow/.runs/src_evaluators_json_evaluator_jsonevaluator_h3hux4o2_20240729_162249_029718 for more details.\n"
     ]
    }
   ],
   "source": [
    "eval_data_path = f\"{module_path}/demo/default-dataset/eval_data.jsonl\"\n",
    "\n",
    "\n",
    "with open(eval_data_path) as file:\n",
    "    data = json.load(file)\n",
    "    ground_truth = data[\"ground_truth\"]\n",
    "\n",
    "default_match_evaluator_config = {}\n",
    "match_eval_collumn_mapping = {\"actual\": \"${data.actual}\", \"ground_truth\": \"${data.ground_truth}\", \"eval_schema\": \"${data.eval_schema}\"}\n",
    "evaluators, evaluator_config = load_match_evaluators(ground_truth=ground_truth, collumn_mapping=match_eval_collumn_mapping, config=default_match_evaluator_config)\n",
    "\n",
    "json_evaluator = JsonEvaluator(\n",
    "    default_match_evaluator_config\n",
    ")\n",
    "evaluators[\"json_evaluator\"] = json_evaluator\n",
    "evaluator_config[\"json_evaluator\"] = {\n",
    "    \"actual\": \"${data.actual}\",\n",
    "    \"ground_truth\": \"${data.ground_truth}\",\n",
    "    \"eval_schema\": \"${data.eval_schema}\"\n",
    "}\n",
    "\n",
    "timestamp = time.strftime(\"%m_%d.%H.%M.%S\")\n",
    "output_path = f\"{module_path}/notebooks/outputs/output_{timestamp}.json\"\n",
    "\n",
    "results = evaluate(\n",
    "    evaluation_name=\"test_eval_1\",\n",
    "    data=eval_data_path,\n",
    "    evaluators=evaluators,\n",
    "    evaluator_config=evaluator_config,\n",
    "    output_path=output_path\n",
    ")\n",
    "pprint(results)\n"
   ]
  },
  {
   "cell_type": "code",
   "execution_count": null,
   "metadata": {},
   "outputs": [],
   "source": []
  }
 ],
 "metadata": {
  "kernelspec": {
   "display_name": "Python 3",
   "language": "python",
   "name": "python3"
  },
  "language_info": {
   "codemirror_mode": {
    "name": "ipython",
    "version": 3
   },
   "file_extension": ".py",
   "mimetype": "text/x-python",
   "name": "python",
   "nbconvert_exporter": "python",
   "pygments_lexer": "ipython3",
   "version": "3.9.19"
  }
 },
 "nbformat": 4,
 "nbformat_minor": 2
}
